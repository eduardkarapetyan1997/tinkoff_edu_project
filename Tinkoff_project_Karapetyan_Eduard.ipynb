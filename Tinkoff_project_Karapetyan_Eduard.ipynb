{
 "cells": [
  {
   "cell_type": "markdown",
   "id": "c0e81927",
   "metadata": {},
   "source": [
    "# 4.3 Анализ данных в индустрии. Проект 1 \n",
    "## Карапетян Эдуард Каренович\n",
    "\n",
    "\n",
    "#### Для того чтобы отслеживать, как выглядит путь клиента от знакомства с продуктом до его получения, и какие в нем есть проблемные места, аналитики часто строят воронки. Этот инструмент позволяет понять, сколько клиентов \"теряется\" на каждом из этапов процесса и сколько в итоге совершает целевое действие.\n",
    "\n",
    "- Построить воронку, которая показывала бы в динамике по неделям и по месяцам\n",
    " - сколько клиентов посещает наш сайт, и какая доля из них\n",
    "   - регистрируется на нем\n",
    "   - подаёт заявку на игру\n",
    "   - по факту приходит на игру.\n",
    " \n",
    "Количество клиентов и конверсии необходимо изобразить на одном графике.\n",
    "\n",
    "\n",
    "Как выполнять задание:\n",
    "\n",
    "- Подключиться к базе данных с помощью Python в JupyterNotebook \\ Google Colab \n",
    "- Собрать датасет с необходимыми полями,\n",
    "- Посчитать конверсии и сделать визуализацию на Python.\n",
    "- Прикрепить файл с выполненным заданием"
   ]
  },
  {
   "cell_type": "markdown",
   "id": "f7dd7151",
   "metadata": {},
   "source": [
    "### Вводим данные о нашей БД"
   ]
  },
  {
   "cell_type": "code",
   "execution_count": 12,
   "id": "90014c5a",
   "metadata": {},
   "outputs": [],
   "source": [
    "import psycopg2\n",
    "import pandas as pd\n",
    "\n",
    "# Connection parameters\n",
    "param_dic = {\n",
    "    \"host\"      : \"158.160.52.106\",\n",
    "    \"database\"  : \"postgres\",\n",
    "    \"user\"      : \"student\",\n",
    "    \"password\"  : \"JvLda93aA\"\n",
    "}\n",
    "\n",
    "def connect(params_dic):\n",
    "    \"\"\" Connect to the PostgreSQL database server \"\"\"\n",
    "    conn = None\n",
    "    try:\n",
    "        # connect to the PostgreSQL server\n",
    "        print('Connecting to the PostgreSQL database...')\n",
    "        conn = psycopg2.connect(**params_dic)\n",
    "    except (Exception, psycopg2.DatabaseError) as error:\n",
    "        print(error)\n",
    "        sys.exit(1) \n",
    "    print(\"Connection successful\")\n",
    "    return conn"
   ]
  },
  {
   "cell_type": "code",
   "execution_count": 13,
   "id": "bcac6f3f",
   "metadata": {},
   "outputs": [],
   "source": [
    "def postgresql_to_dataframe(conn, select_query, column_names):\n",
    "    \"\"\"\n",
    "    Tranform a SELECT query into a pandas dataframe\n",
    "    \"\"\"\n",
    "    cursor = conn.cursor()\n",
    "    try:\n",
    "        cursor.execute(select_query)\n",
    "    except (Exception, psycopg2.DatabaseError) as error:\n",
    "        print(\"Error: %s\" % error)\n",
    "        cursor.close()\n",
    "        return 1\n",
    "    \n",
    "   \n",
    "    tupples = cursor.fetchall()\n",
    "    cursor.close()\n",
    "    \n",
    "    \n",
    "    df = pd.DataFrame(tupples, columns=column_names)\n",
    "    return df"
   ]
  },
  {
   "cell_type": "markdown",
   "id": "e62f5a2a",
   "metadata": {},
   "source": [
    "# Вводим данные о нашей БД"
   ]
  },
  {
   "cell_type": "code",
   "execution_count": 14,
   "id": "7f56f962",
   "metadata": {},
   "outputs": [
    {
     "name": "stdout",
     "output_type": "stream",
     "text": [
      "Connecting to the PostgreSQL database...\n",
      "Connection successful\n"
     ]
    },
    {
     "data": {
      "text/html": [
       "<div>\n",
       "<style scoped>\n",
       "    .dataframe tbody tr th:only-of-type {\n",
       "        vertical-align: middle;\n",
       "    }\n",
       "\n",
       "    .dataframe tbody tr th {\n",
       "        vertical-align: top;\n",
       "    }\n",
       "\n",
       "    .dataframe thead th {\n",
       "        text-align: right;\n",
       "    }\n",
       "</style>\n",
       "<table border=\"1\" class=\"dataframe\">\n",
       "  <thead>\n",
       "    <tr style=\"text-align: right;\">\n",
       "      <th></th>\n",
       "      <th>date</th>\n",
       "      <th>month</th>\n",
       "      <th>month_title</th>\n",
       "      <th>week</th>\n",
       "      <th>first_day_of_week</th>\n",
       "      <th>year</th>\n",
       "      <th>daily_visits</th>\n",
       "      <th>account_created</th>\n",
       "      <th>application_created</th>\n",
       "      <th>games</th>\n",
       "      <th>...</th>\n",
       "      <th>account_created_by_month</th>\n",
       "      <th>account_created_by_week</th>\n",
       "      <th>application_created_by_month</th>\n",
       "      <th>application_created_by_week</th>\n",
       "      <th>games_by_month</th>\n",
       "      <th>games_by_week</th>\n",
       "      <th>visits_total_by_date</th>\n",
       "      <th>account_created_total_by_date</th>\n",
       "      <th>application_created_total_by_date</th>\n",
       "      <th>games_total_by_date</th>\n",
       "    </tr>\n",
       "  </thead>\n",
       "  <tbody>\n",
       "    <tr>\n",
       "      <th>0</th>\n",
       "      <td>2022-09-01</td>\n",
       "      <td>9.0</td>\n",
       "      <td>September</td>\n",
       "      <td>35.0</td>\n",
       "      <td>2022-08-29</td>\n",
       "      <td>2022.0</td>\n",
       "      <td>25</td>\n",
       "      <td>3</td>\n",
       "      <td>0</td>\n",
       "      <td>0</td>\n",
       "      <td>...</td>\n",
       "      <td>186</td>\n",
       "      <td>22</td>\n",
       "      <td>63</td>\n",
       "      <td>0</td>\n",
       "      <td>2</td>\n",
       "      <td>0</td>\n",
       "      <td>25</td>\n",
       "      <td>3</td>\n",
       "      <td>None</td>\n",
       "      <td>None</td>\n",
       "    </tr>\n",
       "    <tr>\n",
       "      <th>1</th>\n",
       "      <td>2022-09-02</td>\n",
       "      <td>9.0</td>\n",
       "      <td>September</td>\n",
       "      <td>35.0</td>\n",
       "      <td>2022-08-29</td>\n",
       "      <td>2022.0</td>\n",
       "      <td>25</td>\n",
       "      <td>3</td>\n",
       "      <td>0</td>\n",
       "      <td>0</td>\n",
       "      <td>...</td>\n",
       "      <td>186</td>\n",
       "      <td>22</td>\n",
       "      <td>63</td>\n",
       "      <td>0</td>\n",
       "      <td>2</td>\n",
       "      <td>0</td>\n",
       "      <td>50</td>\n",
       "      <td>6</td>\n",
       "      <td>None</td>\n",
       "      <td>None</td>\n",
       "    </tr>\n",
       "    <tr>\n",
       "      <th>2</th>\n",
       "      <td>2022-09-03</td>\n",
       "      <td>9.0</td>\n",
       "      <td>September</td>\n",
       "      <td>35.0</td>\n",
       "      <td>2022-08-29</td>\n",
       "      <td>2022.0</td>\n",
       "      <td>25</td>\n",
       "      <td>10</td>\n",
       "      <td>0</td>\n",
       "      <td>0</td>\n",
       "      <td>...</td>\n",
       "      <td>186</td>\n",
       "      <td>22</td>\n",
       "      <td>63</td>\n",
       "      <td>0</td>\n",
       "      <td>2</td>\n",
       "      <td>0</td>\n",
       "      <td>75</td>\n",
       "      <td>16</td>\n",
       "      <td>None</td>\n",
       "      <td>None</td>\n",
       "    </tr>\n",
       "    <tr>\n",
       "      <th>3</th>\n",
       "      <td>2022-09-04</td>\n",
       "      <td>9.0</td>\n",
       "      <td>September</td>\n",
       "      <td>35.0</td>\n",
       "      <td>2022-08-29</td>\n",
       "      <td>2022.0</td>\n",
       "      <td>36</td>\n",
       "      <td>6</td>\n",
       "      <td>0</td>\n",
       "      <td>0</td>\n",
       "      <td>...</td>\n",
       "      <td>186</td>\n",
       "      <td>22</td>\n",
       "      <td>63</td>\n",
       "      <td>0</td>\n",
       "      <td>2</td>\n",
       "      <td>0</td>\n",
       "      <td>111</td>\n",
       "      <td>22</td>\n",
       "      <td>None</td>\n",
       "      <td>None</td>\n",
       "    </tr>\n",
       "    <tr>\n",
       "      <th>4</th>\n",
       "      <td>2022-09-05</td>\n",
       "      <td>9.0</td>\n",
       "      <td>September</td>\n",
       "      <td>36.0</td>\n",
       "      <td>2022-09-05</td>\n",
       "      <td>2022.0</td>\n",
       "      <td>17</td>\n",
       "      <td>11</td>\n",
       "      <td>1</td>\n",
       "      <td>0</td>\n",
       "      <td>...</td>\n",
       "      <td>186</td>\n",
       "      <td>38</td>\n",
       "      <td>63</td>\n",
       "      <td>7</td>\n",
       "      <td>2</td>\n",
       "      <td>0</td>\n",
       "      <td>128</td>\n",
       "      <td>33</td>\n",
       "      <td>1</td>\n",
       "      <td>None</td>\n",
       "    </tr>\n",
       "  </tbody>\n",
       "</table>\n",
       "<p>5 rows × 22 columns</p>\n",
       "</div>"
      ],
      "text/plain": [
       "         date  month month_title  week first_day_of_week    year  \\\n",
       "0  2022-09-01    9.0   September  35.0        2022-08-29  2022.0   \n",
       "1  2022-09-02    9.0   September  35.0        2022-08-29  2022.0   \n",
       "2  2022-09-03    9.0   September  35.0        2022-08-29  2022.0   \n",
       "3  2022-09-04    9.0   September  35.0        2022-08-29  2022.0   \n",
       "4  2022-09-05    9.0   September  36.0        2022-09-05  2022.0   \n",
       "\n",
       "   daily_visits  account_created  application_created  games  ...  \\\n",
       "0            25                3                    0      0  ...   \n",
       "1            25                3                    0      0  ...   \n",
       "2            25               10                    0      0  ...   \n",
       "3            36                6                    0      0  ...   \n",
       "4            17               11                    1      0  ...   \n",
       "\n",
       "  account_created_by_month account_created_by_week  \\\n",
       "0                      186                      22   \n",
       "1                      186                      22   \n",
       "2                      186                      22   \n",
       "3                      186                      22   \n",
       "4                      186                      38   \n",
       "\n",
       "  application_created_by_month application_created_by_week games_by_month  \\\n",
       "0                           63                           0              2   \n",
       "1                           63                           0              2   \n",
       "2                           63                           0              2   \n",
       "3                           63                           0              2   \n",
       "4                           63                           7              2   \n",
       "\n",
       "  games_by_week visits_total_by_date account_created_total_by_date  \\\n",
       "0             0                   25                             3   \n",
       "1             0                   50                             6   \n",
       "2             0                   75                            16   \n",
       "3             0                  111                            22   \n",
       "4             0                  128                            33   \n",
       "\n",
       "  application_created_total_by_date games_total_by_date  \n",
       "0                              None                None  \n",
       "1                              None                None  \n",
       "2                              None                None  \n",
       "3                              None                None  \n",
       "4                                 1                None  \n",
       "\n",
       "[5 rows x 22 columns]"
      ]
     },
     "execution_count": 14,
     "metadata": {},
     "output_type": "execute_result"
    }
   ],
   "source": [
    "# Connect to the database\n",
    "conn = connect(param_dic)\n",
    "\n",
    "column_names = [\"date\", \"month\", \"month_title\", \"week\",\"first_day_of_week\", \"year\",\"daily_visits\", \"account_created\", \"application_created\", \"games\", \"visits_by_month\",\"visits_by_week\", \"account_created_by_month\", \"account_created_by_week\", \"application_created_by_month\", \"application_created_by_week\",\"games_by_month\", \"games_by_week\", \"visits_total_by_date\", \"account_created_total_by_date\", \"application_created_total_by_date\", \"games_total_by_date\"]\n",
    "# Execute the \"SELECT *\" query\n",
    "df = postgresql_to_dataframe(conn, \"with client as (select visit_dttm::date as visit_date, count(distinct client_rk) as visits from msu_analytics.client c  group by 1), account as (select registration_dttm::date as acc_created_date, count(distinct account_rk) as account_created from msu_analytics.account a   group by 1), application as (select application_dttm::date as app_created_date, count(distinct application_rk) as application_created from msu_analytics.application\tgroup by 1), games as (select game_dttm::date as game_date, sum(game_flg) as games\tfrom msu_analytics.game group by 1\thaving sum(game_flg) >0) select visit_date as date, date_part('month',visit_date) as month,\t\tcase \t\t\twhen date_part('month',visit_date) = 1 then 'January'\twhen date_part('month',visit_date) = 2 then 'February'\t\t\twhen date_part('month',visit_date) = 3 then 'March'\t\t\twhen date_part('month',visit_date) = 4 then 'April'\t\t\twhen date_part('month',visit_date) = 5 then 'May'\t\t\twhen date_part('month',visit_date) = 6 then 'June'\t\t\twhen date_part('month',visit_date) = 7 then 'July'\t\t\twhen date_part('month',visit_date) = 8 then 'August'\t\t\twhen date_part('month',visit_date) = 9 then 'September'\t\t\twhen date_part('month',visit_date) = 10 then 'October'\t\t\twhen date_part('month',visit_date) = 11 then 'November'\t\t\twhen date_part('month',visit_date) = 12 then 'December'\t\tend as month_title,\t\tdate_part('week',visit_date) as week, DATE_TRUNC('week', visit_date)::date\tas first_day_of_week,\t\tdate_part('year',visit_date) as year,\t\tvisits, coalesce (account_created,0) as account_created, coalesce (application_created,0) as application_created, coalesce (games, 0) as games,\t\tsum(visits) over (partition by date_part('month',visit_date)) visits_by_month,\t\tsum(visits) over (partition by date_part('week',visit_date)) visits_by_week, \t\tsum(account_created) over (partition by date_part('month',visit_date)) account_created_by_month,\t\tsum(account_created) over (partition by date_part('week',visit_date)) account_created_by_week,\t\tsum(application_created) over (partition by date_part('month',visit_date)) application_created_by_month,\t\tcoalesce (sum(application_created) over (partition by date_part('week',visit_date)),0) application_created_by_week,\t\tcoalesce (sum(games) over (partition by date_part('month',visit_date)),0) games_by_month,\t\tcoalesce (sum(games) over (partition by date_part('week',visit_date)),0) games_by_week,sum(visits) over (order by visit_date) as visits_total_by_date, sum(account_created) over (order by visit_date)\tas account_created_total_by_date, sum(application_created) over (order by visit_date) as application_created_total_by_date,\tsum(games) over (order by visit_date)\tas games_total_by_date from client as c full join account a on a.acc_created_date = c.visit_date full join application app on app.app_created_date = c.visit_date full join games g on g.game_date = c.visit_date order by 1\", column_names)\n",
    "df.head()"
   ]
  },
  {
   "cell_type": "code",
   "execution_count": 4,
   "id": "a940ca2a",
   "metadata": {},
   "outputs": [
    {
     "data": {
      "text/html": [
       "<div>\n",
       "<style scoped>\n",
       "    .dataframe tbody tr th:only-of-type {\n",
       "        vertical-align: middle;\n",
       "    }\n",
       "\n",
       "    .dataframe tbody tr th {\n",
       "        vertical-align: top;\n",
       "    }\n",
       "\n",
       "    .dataframe thead th {\n",
       "        text-align: right;\n",
       "    }\n",
       "</style>\n",
       "<table border=\"1\" class=\"dataframe\">\n",
       "  <thead>\n",
       "    <tr style=\"text-align: right;\">\n",
       "      <th></th>\n",
       "      <th>date</th>\n",
       "      <th>month</th>\n",
       "      <th>month_title</th>\n",
       "      <th>week</th>\n",
       "      <th>first_day_of_week</th>\n",
       "      <th>year</th>\n",
       "      <th>daily_visits</th>\n",
       "      <th>account_created</th>\n",
       "      <th>application_created</th>\n",
       "      <th>games</th>\n",
       "      <th>...</th>\n",
       "      <th>account_created_by_month</th>\n",
       "      <th>account_created_by_week</th>\n",
       "      <th>application_created_by_month</th>\n",
       "      <th>application_created_by_week</th>\n",
       "      <th>games_by_month</th>\n",
       "      <th>games_by_week</th>\n",
       "      <th>visits_total_by_date</th>\n",
       "      <th>account_created_total_by_date</th>\n",
       "      <th>application_created_total_by_date</th>\n",
       "      <th>games_total_by_date</th>\n",
       "    </tr>\n",
       "  </thead>\n",
       "  <tbody>\n",
       "    <tr>\n",
       "      <th>0</th>\n",
       "      <td>2022-09-01</td>\n",
       "      <td>9.0</td>\n",
       "      <td>September</td>\n",
       "      <td>35.0</td>\n",
       "      <td>2022-08-29</td>\n",
       "      <td>2022.0</td>\n",
       "      <td>25</td>\n",
       "      <td>3</td>\n",
       "      <td>0</td>\n",
       "      <td>0</td>\n",
       "      <td>...</td>\n",
       "      <td>186</td>\n",
       "      <td>22</td>\n",
       "      <td>63</td>\n",
       "      <td>0</td>\n",
       "      <td>2</td>\n",
       "      <td>0</td>\n",
       "      <td>25</td>\n",
       "      <td>3</td>\n",
       "      <td>None</td>\n",
       "      <td>None</td>\n",
       "    </tr>\n",
       "    <tr>\n",
       "      <th>1</th>\n",
       "      <td>2022-09-02</td>\n",
       "      <td>9.0</td>\n",
       "      <td>September</td>\n",
       "      <td>35.0</td>\n",
       "      <td>2022-08-29</td>\n",
       "      <td>2022.0</td>\n",
       "      <td>25</td>\n",
       "      <td>3</td>\n",
       "      <td>0</td>\n",
       "      <td>0</td>\n",
       "      <td>...</td>\n",
       "      <td>186</td>\n",
       "      <td>22</td>\n",
       "      <td>63</td>\n",
       "      <td>0</td>\n",
       "      <td>2</td>\n",
       "      <td>0</td>\n",
       "      <td>50</td>\n",
       "      <td>6</td>\n",
       "      <td>None</td>\n",
       "      <td>None</td>\n",
       "    </tr>\n",
       "    <tr>\n",
       "      <th>2</th>\n",
       "      <td>2022-09-03</td>\n",
       "      <td>9.0</td>\n",
       "      <td>September</td>\n",
       "      <td>35.0</td>\n",
       "      <td>2022-08-29</td>\n",
       "      <td>2022.0</td>\n",
       "      <td>25</td>\n",
       "      <td>10</td>\n",
       "      <td>0</td>\n",
       "      <td>0</td>\n",
       "      <td>...</td>\n",
       "      <td>186</td>\n",
       "      <td>22</td>\n",
       "      <td>63</td>\n",
       "      <td>0</td>\n",
       "      <td>2</td>\n",
       "      <td>0</td>\n",
       "      <td>75</td>\n",
       "      <td>16</td>\n",
       "      <td>None</td>\n",
       "      <td>None</td>\n",
       "    </tr>\n",
       "    <tr>\n",
       "      <th>3</th>\n",
       "      <td>2022-09-04</td>\n",
       "      <td>9.0</td>\n",
       "      <td>September</td>\n",
       "      <td>35.0</td>\n",
       "      <td>2022-08-29</td>\n",
       "      <td>2022.0</td>\n",
       "      <td>36</td>\n",
       "      <td>6</td>\n",
       "      <td>0</td>\n",
       "      <td>0</td>\n",
       "      <td>...</td>\n",
       "      <td>186</td>\n",
       "      <td>22</td>\n",
       "      <td>63</td>\n",
       "      <td>0</td>\n",
       "      <td>2</td>\n",
       "      <td>0</td>\n",
       "      <td>111</td>\n",
       "      <td>22</td>\n",
       "      <td>None</td>\n",
       "      <td>None</td>\n",
       "    </tr>\n",
       "    <tr>\n",
       "      <th>4</th>\n",
       "      <td>2022-09-05</td>\n",
       "      <td>9.0</td>\n",
       "      <td>September</td>\n",
       "      <td>36.0</td>\n",
       "      <td>2022-09-05</td>\n",
       "      <td>2022.0</td>\n",
       "      <td>17</td>\n",
       "      <td>11</td>\n",
       "      <td>1</td>\n",
       "      <td>0</td>\n",
       "      <td>...</td>\n",
       "      <td>186</td>\n",
       "      <td>38</td>\n",
       "      <td>63</td>\n",
       "      <td>7</td>\n",
       "      <td>2</td>\n",
       "      <td>0</td>\n",
       "      <td>128</td>\n",
       "      <td>33</td>\n",
       "      <td>1</td>\n",
       "      <td>None</td>\n",
       "    </tr>\n",
       "    <tr>\n",
       "      <th>...</th>\n",
       "      <td>...</td>\n",
       "      <td>...</td>\n",
       "      <td>...</td>\n",
       "      <td>...</td>\n",
       "      <td>...</td>\n",
       "      <td>...</td>\n",
       "      <td>...</td>\n",
       "      <td>...</td>\n",
       "      <td>...</td>\n",
       "      <td>...</td>\n",
       "      <td>...</td>\n",
       "      <td>...</td>\n",
       "      <td>...</td>\n",
       "      <td>...</td>\n",
       "      <td>...</td>\n",
       "      <td>...</td>\n",
       "      <td>...</td>\n",
       "      <td>...</td>\n",
       "      <td>...</td>\n",
       "      <td>...</td>\n",
       "      <td>...</td>\n",
       "    </tr>\n",
       "    <tr>\n",
       "      <th>150</th>\n",
       "      <td>2023-01-29</td>\n",
       "      <td>1.0</td>\n",
       "      <td>January</td>\n",
       "      <td>4.0</td>\n",
       "      <td>2023-01-23</td>\n",
       "      <td>2023.0</td>\n",
       "      <td>25</td>\n",
       "      <td>6</td>\n",
       "      <td>1</td>\n",
       "      <td>1</td>\n",
       "      <td>...</td>\n",
       "      <td>215</td>\n",
       "      <td>40</td>\n",
       "      <td>133</td>\n",
       "      <td>33</td>\n",
       "      <td>63</td>\n",
       "      <td>17</td>\n",
       "      <td>4015</td>\n",
       "      <td>998</td>\n",
       "      <td>501</td>\n",
       "      <td>170</td>\n",
       "    </tr>\n",
       "    <tr>\n",
       "      <th>151</th>\n",
       "      <td>2023-01-30</td>\n",
       "      <td>1.0</td>\n",
       "      <td>January</td>\n",
       "      <td>5.0</td>\n",
       "      <td>2023-01-30</td>\n",
       "      <td>2023.0</td>\n",
       "      <td>29</td>\n",
       "      <td>10</td>\n",
       "      <td>6</td>\n",
       "      <td>2</td>\n",
       "      <td>...</td>\n",
       "      <td>215</td>\n",
       "      <td>26</td>\n",
       "      <td>133</td>\n",
       "      <td>11</td>\n",
       "      <td>63</td>\n",
       "      <td>9</td>\n",
       "      <td>4044</td>\n",
       "      <td>1008</td>\n",
       "      <td>507</td>\n",
       "      <td>172</td>\n",
       "    </tr>\n",
       "    <tr>\n",
       "      <th>152</th>\n",
       "      <td>2023-01-31</td>\n",
       "      <td>1.0</td>\n",
       "      <td>January</td>\n",
       "      <td>5.0</td>\n",
       "      <td>2023-01-30</td>\n",
       "      <td>2023.0</td>\n",
       "      <td>20</td>\n",
       "      <td>7</td>\n",
       "      <td>2</td>\n",
       "      <td>4</td>\n",
       "      <td>...</td>\n",
       "      <td>215</td>\n",
       "      <td>26</td>\n",
       "      <td>133</td>\n",
       "      <td>11</td>\n",
       "      <td>63</td>\n",
       "      <td>9</td>\n",
       "      <td>4064</td>\n",
       "      <td>1015</td>\n",
       "      <td>509</td>\n",
       "      <td>176</td>\n",
       "    </tr>\n",
       "    <tr>\n",
       "      <th>153</th>\n",
       "      <td>2023-02-01</td>\n",
       "      <td>2.0</td>\n",
       "      <td>February</td>\n",
       "      <td>5.0</td>\n",
       "      <td>2023-01-30</td>\n",
       "      <td>2023.0</td>\n",
       "      <td>27</td>\n",
       "      <td>6</td>\n",
       "      <td>3</td>\n",
       "      <td>3</td>\n",
       "      <td>...</td>\n",
       "      <td>9</td>\n",
       "      <td>26</td>\n",
       "      <td>3</td>\n",
       "      <td>11</td>\n",
       "      <td>3</td>\n",
       "      <td>9</td>\n",
       "      <td>4091</td>\n",
       "      <td>1021</td>\n",
       "      <td>512</td>\n",
       "      <td>179</td>\n",
       "    </tr>\n",
       "    <tr>\n",
       "      <th>154</th>\n",
       "      <td>2023-02-02</td>\n",
       "      <td>2.0</td>\n",
       "      <td>February</td>\n",
       "      <td>5.0</td>\n",
       "      <td>2023-01-30</td>\n",
       "      <td>2023.0</td>\n",
       "      <td>5</td>\n",
       "      <td>3</td>\n",
       "      <td>0</td>\n",
       "      <td>0</td>\n",
       "      <td>...</td>\n",
       "      <td>9</td>\n",
       "      <td>26</td>\n",
       "      <td>3</td>\n",
       "      <td>11</td>\n",
       "      <td>3</td>\n",
       "      <td>9</td>\n",
       "      <td>4096</td>\n",
       "      <td>1024</td>\n",
       "      <td>512</td>\n",
       "      <td>179</td>\n",
       "    </tr>\n",
       "  </tbody>\n",
       "</table>\n",
       "<p>155 rows × 22 columns</p>\n",
       "</div>"
      ],
      "text/plain": [
       "           date  month month_title  week first_day_of_week    year  \\\n",
       "0    2022-09-01    9.0   September  35.0        2022-08-29  2022.0   \n",
       "1    2022-09-02    9.0   September  35.0        2022-08-29  2022.0   \n",
       "2    2022-09-03    9.0   September  35.0        2022-08-29  2022.0   \n",
       "3    2022-09-04    9.0   September  35.0        2022-08-29  2022.0   \n",
       "4    2022-09-05    9.0   September  36.0        2022-09-05  2022.0   \n",
       "..          ...    ...         ...   ...               ...     ...   \n",
       "150  2023-01-29    1.0     January   4.0        2023-01-23  2023.0   \n",
       "151  2023-01-30    1.0     January   5.0        2023-01-30  2023.0   \n",
       "152  2023-01-31    1.0     January   5.0        2023-01-30  2023.0   \n",
       "153  2023-02-01    2.0    February   5.0        2023-01-30  2023.0   \n",
       "154  2023-02-02    2.0    February   5.0        2023-01-30  2023.0   \n",
       "\n",
       "     daily_visits  account_created  application_created  games  ...  \\\n",
       "0              25                3                    0      0  ...   \n",
       "1              25                3                    0      0  ...   \n",
       "2              25               10                    0      0  ...   \n",
       "3              36                6                    0      0  ...   \n",
       "4              17               11                    1      0  ...   \n",
       "..            ...              ...                  ...    ...  ...   \n",
       "150            25                6                    1      1  ...   \n",
       "151            29               10                    6      2  ...   \n",
       "152            20                7                    2      4  ...   \n",
       "153            27                6                    3      3  ...   \n",
       "154             5                3                    0      0  ...   \n",
       "\n",
       "    account_created_by_month account_created_by_week  \\\n",
       "0                        186                      22   \n",
       "1                        186                      22   \n",
       "2                        186                      22   \n",
       "3                        186                      22   \n",
       "4                        186                      38   \n",
       "..                       ...                     ...   \n",
       "150                      215                      40   \n",
       "151                      215                      26   \n",
       "152                      215                      26   \n",
       "153                        9                      26   \n",
       "154                        9                      26   \n",
       "\n",
       "    application_created_by_month application_created_by_week games_by_month  \\\n",
       "0                             63                           0              2   \n",
       "1                             63                           0              2   \n",
       "2                             63                           0              2   \n",
       "3                             63                           0              2   \n",
       "4                             63                           7              2   \n",
       "..                           ...                         ...            ...   \n",
       "150                          133                          33             63   \n",
       "151                          133                          11             63   \n",
       "152                          133                          11             63   \n",
       "153                            3                          11              3   \n",
       "154                            3                          11              3   \n",
       "\n",
       "    games_by_week visits_total_by_date account_created_total_by_date  \\\n",
       "0               0                   25                             3   \n",
       "1               0                   50                             6   \n",
       "2               0                   75                            16   \n",
       "3               0                  111                            22   \n",
       "4               0                  128                            33   \n",
       "..            ...                  ...                           ...   \n",
       "150            17                 4015                           998   \n",
       "151             9                 4044                          1008   \n",
       "152             9                 4064                          1015   \n",
       "153             9                 4091                          1021   \n",
       "154             9                 4096                          1024   \n",
       "\n",
       "    application_created_total_by_date games_total_by_date  \n",
       "0                                None                None  \n",
       "1                                None                None  \n",
       "2                                None                None  \n",
       "3                                None                None  \n",
       "4                                   1                None  \n",
       "..                                ...                 ...  \n",
       "150                               501                 170  \n",
       "151                               507                 172  \n",
       "152                               509                 176  \n",
       "153                               512                 179  \n",
       "154                               512                 179  \n",
       "\n",
       "[155 rows x 22 columns]"
      ]
     },
     "execution_count": 4,
     "metadata": {},
     "output_type": "execute_result"
    }
   ],
   "source": [
    "df #проверим, что получили все данные, которые хотели"
   ]
  },
  {
   "cell_type": "markdown",
   "id": "0a85a473",
   "metadata": {},
   "source": [
    "## Построим воронку \n",
    "### Воронка позволит нам проанализировать эффективность регистрации пользователей и посещения квестов"
   ]
  },
  {
   "cell_type": "code",
   "execution_count": 15,
   "id": "96bbb203",
   "metadata": {},
   "outputs": [],
   "source": [
    "visits = df['daily_visits'].sum()\n",
    "acc_created = df['account_created'].sum()\n",
    "app_created = df['application_created'].sum()\n",
    "games = df['games'].sum()"
   ]
  },
  {
   "cell_type": "code",
   "execution_count": 21,
   "id": "818e06b0",
   "metadata": {},
   "outputs": [
    {
     "data": {
      "application/vnd.plotly.v1+json": {
       "config": {
        "plotlyServerURL": "https://plot.ly"
       },
       "data": [
        {
         "textinfo": "value+percent initial",
         "textposition": "inside",
         "type": "funnel",
         "x": [
          4096,
          1024,
          512,
          179
         ],
         "y": [
          "Посетили сайт",
          "Зарегистрировали аккаунт",
          "Оставили заявку",
          "Пришли на игру"
         ]
        }
       ],
       "layout": {
        "template": {
         "data": {
          "bar": [
           {
            "error_x": {
             "color": "#2a3f5f"
            },
            "error_y": {
             "color": "#2a3f5f"
            },
            "marker": {
             "line": {
              "color": "#E5ECF6",
              "width": 0.5
             },
             "pattern": {
              "fillmode": "overlay",
              "size": 10,
              "solidity": 0.2
             }
            },
            "type": "bar"
           }
          ],
          "barpolar": [
           {
            "marker": {
             "line": {
              "color": "#E5ECF6",
              "width": 0.5
             },
             "pattern": {
              "fillmode": "overlay",
              "size": 10,
              "solidity": 0.2
             }
            },
            "type": "barpolar"
           }
          ],
          "carpet": [
           {
            "aaxis": {
             "endlinecolor": "#2a3f5f",
             "gridcolor": "white",
             "linecolor": "white",
             "minorgridcolor": "white",
             "startlinecolor": "#2a3f5f"
            },
            "baxis": {
             "endlinecolor": "#2a3f5f",
             "gridcolor": "white",
             "linecolor": "white",
             "minorgridcolor": "white",
             "startlinecolor": "#2a3f5f"
            },
            "type": "carpet"
           }
          ],
          "choropleth": [
           {
            "colorbar": {
             "outlinewidth": 0,
             "ticks": ""
            },
            "type": "choropleth"
           }
          ],
          "contour": [
           {
            "colorbar": {
             "outlinewidth": 0,
             "ticks": ""
            },
            "colorscale": [
             [
              0,
              "#0d0887"
             ],
             [
              0.1111111111111111,
              "#46039f"
             ],
             [
              0.2222222222222222,
              "#7201a8"
             ],
             [
              0.3333333333333333,
              "#9c179e"
             ],
             [
              0.4444444444444444,
              "#bd3786"
             ],
             [
              0.5555555555555556,
              "#d8576b"
             ],
             [
              0.6666666666666666,
              "#ed7953"
             ],
             [
              0.7777777777777778,
              "#fb9f3a"
             ],
             [
              0.8888888888888888,
              "#fdca26"
             ],
             [
              1,
              "#f0f921"
             ]
            ],
            "type": "contour"
           }
          ],
          "contourcarpet": [
           {
            "colorbar": {
             "outlinewidth": 0,
             "ticks": ""
            },
            "type": "contourcarpet"
           }
          ],
          "heatmap": [
           {
            "colorbar": {
             "outlinewidth": 0,
             "ticks": ""
            },
            "colorscale": [
             [
              0,
              "#0d0887"
             ],
             [
              0.1111111111111111,
              "#46039f"
             ],
             [
              0.2222222222222222,
              "#7201a8"
             ],
             [
              0.3333333333333333,
              "#9c179e"
             ],
             [
              0.4444444444444444,
              "#bd3786"
             ],
             [
              0.5555555555555556,
              "#d8576b"
             ],
             [
              0.6666666666666666,
              "#ed7953"
             ],
             [
              0.7777777777777778,
              "#fb9f3a"
             ],
             [
              0.8888888888888888,
              "#fdca26"
             ],
             [
              1,
              "#f0f921"
             ]
            ],
            "type": "heatmap"
           }
          ],
          "heatmapgl": [
           {
            "colorbar": {
             "outlinewidth": 0,
             "ticks": ""
            },
            "colorscale": [
             [
              0,
              "#0d0887"
             ],
             [
              0.1111111111111111,
              "#46039f"
             ],
             [
              0.2222222222222222,
              "#7201a8"
             ],
             [
              0.3333333333333333,
              "#9c179e"
             ],
             [
              0.4444444444444444,
              "#bd3786"
             ],
             [
              0.5555555555555556,
              "#d8576b"
             ],
             [
              0.6666666666666666,
              "#ed7953"
             ],
             [
              0.7777777777777778,
              "#fb9f3a"
             ],
             [
              0.8888888888888888,
              "#fdca26"
             ],
             [
              1,
              "#f0f921"
             ]
            ],
            "type": "heatmapgl"
           }
          ],
          "histogram": [
           {
            "marker": {
             "pattern": {
              "fillmode": "overlay",
              "size": 10,
              "solidity": 0.2
             }
            },
            "type": "histogram"
           }
          ],
          "histogram2d": [
           {
            "colorbar": {
             "outlinewidth": 0,
             "ticks": ""
            },
            "colorscale": [
             [
              0,
              "#0d0887"
             ],
             [
              0.1111111111111111,
              "#46039f"
             ],
             [
              0.2222222222222222,
              "#7201a8"
             ],
             [
              0.3333333333333333,
              "#9c179e"
             ],
             [
              0.4444444444444444,
              "#bd3786"
             ],
             [
              0.5555555555555556,
              "#d8576b"
             ],
             [
              0.6666666666666666,
              "#ed7953"
             ],
             [
              0.7777777777777778,
              "#fb9f3a"
             ],
             [
              0.8888888888888888,
              "#fdca26"
             ],
             [
              1,
              "#f0f921"
             ]
            ],
            "type": "histogram2d"
           }
          ],
          "histogram2dcontour": [
           {
            "colorbar": {
             "outlinewidth": 0,
             "ticks": ""
            },
            "colorscale": [
             [
              0,
              "#0d0887"
             ],
             [
              0.1111111111111111,
              "#46039f"
             ],
             [
              0.2222222222222222,
              "#7201a8"
             ],
             [
              0.3333333333333333,
              "#9c179e"
             ],
             [
              0.4444444444444444,
              "#bd3786"
             ],
             [
              0.5555555555555556,
              "#d8576b"
             ],
             [
              0.6666666666666666,
              "#ed7953"
             ],
             [
              0.7777777777777778,
              "#fb9f3a"
             ],
             [
              0.8888888888888888,
              "#fdca26"
             ],
             [
              1,
              "#f0f921"
             ]
            ],
            "type": "histogram2dcontour"
           }
          ],
          "mesh3d": [
           {
            "colorbar": {
             "outlinewidth": 0,
             "ticks": ""
            },
            "type": "mesh3d"
           }
          ],
          "parcoords": [
           {
            "line": {
             "colorbar": {
              "outlinewidth": 0,
              "ticks": ""
             }
            },
            "type": "parcoords"
           }
          ],
          "pie": [
           {
            "automargin": true,
            "type": "pie"
           }
          ],
          "scatter": [
           {
            "marker": {
             "colorbar": {
              "outlinewidth": 0,
              "ticks": ""
             }
            },
            "type": "scatter"
           }
          ],
          "scatter3d": [
           {
            "line": {
             "colorbar": {
              "outlinewidth": 0,
              "ticks": ""
             }
            },
            "marker": {
             "colorbar": {
              "outlinewidth": 0,
              "ticks": ""
             }
            },
            "type": "scatter3d"
           }
          ],
          "scattercarpet": [
           {
            "marker": {
             "colorbar": {
              "outlinewidth": 0,
              "ticks": ""
             }
            },
            "type": "scattercarpet"
           }
          ],
          "scattergeo": [
           {
            "marker": {
             "colorbar": {
              "outlinewidth": 0,
              "ticks": ""
             }
            },
            "type": "scattergeo"
           }
          ],
          "scattergl": [
           {
            "marker": {
             "colorbar": {
              "outlinewidth": 0,
              "ticks": ""
             }
            },
            "type": "scattergl"
           }
          ],
          "scattermapbox": [
           {
            "marker": {
             "colorbar": {
              "outlinewidth": 0,
              "ticks": ""
             }
            },
            "type": "scattermapbox"
           }
          ],
          "scatterpolar": [
           {
            "marker": {
             "colorbar": {
              "outlinewidth": 0,
              "ticks": ""
             }
            },
            "type": "scatterpolar"
           }
          ],
          "scatterpolargl": [
           {
            "marker": {
             "colorbar": {
              "outlinewidth": 0,
              "ticks": ""
             }
            },
            "type": "scatterpolargl"
           }
          ],
          "scatterternary": [
           {
            "marker": {
             "colorbar": {
              "outlinewidth": 0,
              "ticks": ""
             }
            },
            "type": "scatterternary"
           }
          ],
          "surface": [
           {
            "colorbar": {
             "outlinewidth": 0,
             "ticks": ""
            },
            "colorscale": [
             [
              0,
              "#0d0887"
             ],
             [
              0.1111111111111111,
              "#46039f"
             ],
             [
              0.2222222222222222,
              "#7201a8"
             ],
             [
              0.3333333333333333,
              "#9c179e"
             ],
             [
              0.4444444444444444,
              "#bd3786"
             ],
             [
              0.5555555555555556,
              "#d8576b"
             ],
             [
              0.6666666666666666,
              "#ed7953"
             ],
             [
              0.7777777777777778,
              "#fb9f3a"
             ],
             [
              0.8888888888888888,
              "#fdca26"
             ],
             [
              1,
              "#f0f921"
             ]
            ],
            "type": "surface"
           }
          ],
          "table": [
           {
            "cells": {
             "fill": {
              "color": "#EBF0F8"
             },
             "line": {
              "color": "white"
             }
            },
            "header": {
             "fill": {
              "color": "#C8D4E3"
             },
             "line": {
              "color": "white"
             }
            },
            "type": "table"
           }
          ]
         },
         "layout": {
          "annotationdefaults": {
           "arrowcolor": "#2a3f5f",
           "arrowhead": 0,
           "arrowwidth": 1
          },
          "autotypenumbers": "strict",
          "coloraxis": {
           "colorbar": {
            "outlinewidth": 0,
            "ticks": ""
           }
          },
          "colorscale": {
           "diverging": [
            [
             0,
             "#8e0152"
            ],
            [
             0.1,
             "#c51b7d"
            ],
            [
             0.2,
             "#de77ae"
            ],
            [
             0.3,
             "#f1b6da"
            ],
            [
             0.4,
             "#fde0ef"
            ],
            [
             0.5,
             "#f7f7f7"
            ],
            [
             0.6,
             "#e6f5d0"
            ],
            [
             0.7,
             "#b8e186"
            ],
            [
             0.8,
             "#7fbc41"
            ],
            [
             0.9,
             "#4d9221"
            ],
            [
             1,
             "#276419"
            ]
           ],
           "sequential": [
            [
             0,
             "#0d0887"
            ],
            [
             0.1111111111111111,
             "#46039f"
            ],
            [
             0.2222222222222222,
             "#7201a8"
            ],
            [
             0.3333333333333333,
             "#9c179e"
            ],
            [
             0.4444444444444444,
             "#bd3786"
            ],
            [
             0.5555555555555556,
             "#d8576b"
            ],
            [
             0.6666666666666666,
             "#ed7953"
            ],
            [
             0.7777777777777778,
             "#fb9f3a"
            ],
            [
             0.8888888888888888,
             "#fdca26"
            ],
            [
             1,
             "#f0f921"
            ]
           ],
           "sequentialminus": [
            [
             0,
             "#0d0887"
            ],
            [
             0.1111111111111111,
             "#46039f"
            ],
            [
             0.2222222222222222,
             "#7201a8"
            ],
            [
             0.3333333333333333,
             "#9c179e"
            ],
            [
             0.4444444444444444,
             "#bd3786"
            ],
            [
             0.5555555555555556,
             "#d8576b"
            ],
            [
             0.6666666666666666,
             "#ed7953"
            ],
            [
             0.7777777777777778,
             "#fb9f3a"
            ],
            [
             0.8888888888888888,
             "#fdca26"
            ],
            [
             1,
             "#f0f921"
            ]
           ]
          },
          "colorway": [
           "#636efa",
           "#EF553B",
           "#00cc96",
           "#ab63fa",
           "#FFA15A",
           "#19d3f3",
           "#FF6692",
           "#B6E880",
           "#FF97FF",
           "#FECB52"
          ],
          "font": {
           "color": "#2a3f5f"
          },
          "geo": {
           "bgcolor": "white",
           "lakecolor": "white",
           "landcolor": "#E5ECF6",
           "showlakes": true,
           "showland": true,
           "subunitcolor": "white"
          },
          "hoverlabel": {
           "align": "left"
          },
          "hovermode": "closest",
          "mapbox": {
           "style": "light"
          },
          "paper_bgcolor": "white",
          "plot_bgcolor": "#E5ECF6",
          "polar": {
           "angularaxis": {
            "gridcolor": "white",
            "linecolor": "white",
            "ticks": ""
           },
           "bgcolor": "#E5ECF6",
           "radialaxis": {
            "gridcolor": "white",
            "linecolor": "white",
            "ticks": ""
           }
          },
          "scene": {
           "xaxis": {
            "backgroundcolor": "#E5ECF6",
            "gridcolor": "white",
            "gridwidth": 2,
            "linecolor": "white",
            "showbackground": true,
            "ticks": "",
            "zerolinecolor": "white"
           },
           "yaxis": {
            "backgroundcolor": "#E5ECF6",
            "gridcolor": "white",
            "gridwidth": 2,
            "linecolor": "white",
            "showbackground": true,
            "ticks": "",
            "zerolinecolor": "white"
           },
           "zaxis": {
            "backgroundcolor": "#E5ECF6",
            "gridcolor": "white",
            "gridwidth": 2,
            "linecolor": "white",
            "showbackground": true,
            "ticks": "",
            "zerolinecolor": "white"
           }
          },
          "shapedefaults": {
           "line": {
            "color": "#2a3f5f"
           }
          },
          "ternary": {
           "aaxis": {
            "gridcolor": "white",
            "linecolor": "white",
            "ticks": ""
           },
           "baxis": {
            "gridcolor": "white",
            "linecolor": "white",
            "ticks": ""
           },
           "bgcolor": "#E5ECF6",
           "caxis": {
            "gridcolor": "white",
            "linecolor": "white",
            "ticks": ""
           }
          },
          "title": {
           "x": 0.05
          },
          "xaxis": {
           "automargin": true,
           "gridcolor": "white",
           "linecolor": "white",
           "ticks": "",
           "title": {
            "standoff": 15
           },
           "zerolinecolor": "white",
           "zerolinewidth": 2
          },
          "yaxis": {
           "automargin": true,
           "gridcolor": "white",
           "linecolor": "white",
           "ticks": "",
           "title": {
            "standoff": 15
           },
           "zerolinecolor": "white",
           "zerolinewidth": 2
          }
         }
        }
       }
      },
      "text/html": [
       "<div>                            <div id=\"54eed34a-ca3a-4548-bd11-6fb6b6a11b63\" class=\"plotly-graph-div\" style=\"height:525px; width:100%;\"></div>            <script type=\"text/javascript\">                require([\"plotly\"], function(Plotly) {                    window.PLOTLYENV=window.PLOTLYENV || {};                                    if (document.getElementById(\"54eed34a-ca3a-4548-bd11-6fb6b6a11b63\")) {                    Plotly.newPlot(                        \"54eed34a-ca3a-4548-bd11-6fb6b6a11b63\",                        [{\"textinfo\":\"value+percent initial\",\"textposition\":\"inside\",\"x\":[4096,1024,512,179],\"y\":[\"\\u041f\\u043e\\u0441\\u0435\\u0442\\u0438\\u043b\\u0438 \\u0441\\u0430\\u0439\\u0442\",\"\\u0417\\u0430\\u0440\\u0435\\u0433\\u0438\\u0441\\u0442\\u0440\\u0438\\u0440\\u043e\\u0432\\u0430\\u043b\\u0438 \\u0430\\u043a\\u043a\\u0430\\u0443\\u043d\\u0442\",\"\\u041e\\u0441\\u0442\\u0430\\u0432\\u0438\\u043b\\u0438 \\u0437\\u0430\\u044f\\u0432\\u043a\\u0443\",\"\\u041f\\u0440\\u0438\\u0448\\u043b\\u0438 \\u043d\\u0430 \\u0438\\u0433\\u0440\\u0443\"],\"type\":\"funnel\"}],                        {\"template\":{\"data\":{\"bar\":[{\"error_x\":{\"color\":\"#2a3f5f\"},\"error_y\":{\"color\":\"#2a3f5f\"},\"marker\":{\"line\":{\"color\":\"#E5ECF6\",\"width\":0.5},\"pattern\":{\"fillmode\":\"overlay\",\"size\":10,\"solidity\":0.2}},\"type\":\"bar\"}],\"barpolar\":[{\"marker\":{\"line\":{\"color\":\"#E5ECF6\",\"width\":0.5},\"pattern\":{\"fillmode\":\"overlay\",\"size\":10,\"solidity\":0.2}},\"type\":\"barpolar\"}],\"carpet\":[{\"aaxis\":{\"endlinecolor\":\"#2a3f5f\",\"gridcolor\":\"white\",\"linecolor\":\"white\",\"minorgridcolor\":\"white\",\"startlinecolor\":\"#2a3f5f\"},\"baxis\":{\"endlinecolor\":\"#2a3f5f\",\"gridcolor\":\"white\",\"linecolor\":\"white\",\"minorgridcolor\":\"white\",\"startlinecolor\":\"#2a3f5f\"},\"type\":\"carpet\"}],\"choropleth\":[{\"colorbar\":{\"outlinewidth\":0,\"ticks\":\"\"},\"type\":\"choropleth\"}],\"contour\":[{\"colorbar\":{\"outlinewidth\":0,\"ticks\":\"\"},\"colorscale\":[[0.0,\"#0d0887\"],[0.1111111111111111,\"#46039f\"],[0.2222222222222222,\"#7201a8\"],[0.3333333333333333,\"#9c179e\"],[0.4444444444444444,\"#bd3786\"],[0.5555555555555556,\"#d8576b\"],[0.6666666666666666,\"#ed7953\"],[0.7777777777777778,\"#fb9f3a\"],[0.8888888888888888,\"#fdca26\"],[1.0,\"#f0f921\"]],\"type\":\"contour\"}],\"contourcarpet\":[{\"colorbar\":{\"outlinewidth\":0,\"ticks\":\"\"},\"type\":\"contourcarpet\"}],\"heatmap\":[{\"colorbar\":{\"outlinewidth\":0,\"ticks\":\"\"},\"colorscale\":[[0.0,\"#0d0887\"],[0.1111111111111111,\"#46039f\"],[0.2222222222222222,\"#7201a8\"],[0.3333333333333333,\"#9c179e\"],[0.4444444444444444,\"#bd3786\"],[0.5555555555555556,\"#d8576b\"],[0.6666666666666666,\"#ed7953\"],[0.7777777777777778,\"#fb9f3a\"],[0.8888888888888888,\"#fdca26\"],[1.0,\"#f0f921\"]],\"type\":\"heatmap\"}],\"heatmapgl\":[{\"colorbar\":{\"outlinewidth\":0,\"ticks\":\"\"},\"colorscale\":[[0.0,\"#0d0887\"],[0.1111111111111111,\"#46039f\"],[0.2222222222222222,\"#7201a8\"],[0.3333333333333333,\"#9c179e\"],[0.4444444444444444,\"#bd3786\"],[0.5555555555555556,\"#d8576b\"],[0.6666666666666666,\"#ed7953\"],[0.7777777777777778,\"#fb9f3a\"],[0.8888888888888888,\"#fdca26\"],[1.0,\"#f0f921\"]],\"type\":\"heatmapgl\"}],\"histogram\":[{\"marker\":{\"pattern\":{\"fillmode\":\"overlay\",\"size\":10,\"solidity\":0.2}},\"type\":\"histogram\"}],\"histogram2d\":[{\"colorbar\":{\"outlinewidth\":0,\"ticks\":\"\"},\"colorscale\":[[0.0,\"#0d0887\"],[0.1111111111111111,\"#46039f\"],[0.2222222222222222,\"#7201a8\"],[0.3333333333333333,\"#9c179e\"],[0.4444444444444444,\"#bd3786\"],[0.5555555555555556,\"#d8576b\"],[0.6666666666666666,\"#ed7953\"],[0.7777777777777778,\"#fb9f3a\"],[0.8888888888888888,\"#fdca26\"],[1.0,\"#f0f921\"]],\"type\":\"histogram2d\"}],\"histogram2dcontour\":[{\"colorbar\":{\"outlinewidth\":0,\"ticks\":\"\"},\"colorscale\":[[0.0,\"#0d0887\"],[0.1111111111111111,\"#46039f\"],[0.2222222222222222,\"#7201a8\"],[0.3333333333333333,\"#9c179e\"],[0.4444444444444444,\"#bd3786\"],[0.5555555555555556,\"#d8576b\"],[0.6666666666666666,\"#ed7953\"],[0.7777777777777778,\"#fb9f3a\"],[0.8888888888888888,\"#fdca26\"],[1.0,\"#f0f921\"]],\"type\":\"histogram2dcontour\"}],\"mesh3d\":[{\"colorbar\":{\"outlinewidth\":0,\"ticks\":\"\"},\"type\":\"mesh3d\"}],\"parcoords\":[{\"line\":{\"colorbar\":{\"outlinewidth\":0,\"ticks\":\"\"}},\"type\":\"parcoords\"}],\"pie\":[{\"automargin\":true,\"type\":\"pie\"}],\"scatter\":[{\"marker\":{\"colorbar\":{\"outlinewidth\":0,\"ticks\":\"\"}},\"type\":\"scatter\"}],\"scatter3d\":[{\"line\":{\"colorbar\":{\"outlinewidth\":0,\"ticks\":\"\"}},\"marker\":{\"colorbar\":{\"outlinewidth\":0,\"ticks\":\"\"}},\"type\":\"scatter3d\"}],\"scattercarpet\":[{\"marker\":{\"colorbar\":{\"outlinewidth\":0,\"ticks\":\"\"}},\"type\":\"scattercarpet\"}],\"scattergeo\":[{\"marker\":{\"colorbar\":{\"outlinewidth\":0,\"ticks\":\"\"}},\"type\":\"scattergeo\"}],\"scattergl\":[{\"marker\":{\"colorbar\":{\"outlinewidth\":0,\"ticks\":\"\"}},\"type\":\"scattergl\"}],\"scattermapbox\":[{\"marker\":{\"colorbar\":{\"outlinewidth\":0,\"ticks\":\"\"}},\"type\":\"scattermapbox\"}],\"scatterpolar\":[{\"marker\":{\"colorbar\":{\"outlinewidth\":0,\"ticks\":\"\"}},\"type\":\"scatterpolar\"}],\"scatterpolargl\":[{\"marker\":{\"colorbar\":{\"outlinewidth\":0,\"ticks\":\"\"}},\"type\":\"scatterpolargl\"}],\"scatterternary\":[{\"marker\":{\"colorbar\":{\"outlinewidth\":0,\"ticks\":\"\"}},\"type\":\"scatterternary\"}],\"surface\":[{\"colorbar\":{\"outlinewidth\":0,\"ticks\":\"\"},\"colorscale\":[[0.0,\"#0d0887\"],[0.1111111111111111,\"#46039f\"],[0.2222222222222222,\"#7201a8\"],[0.3333333333333333,\"#9c179e\"],[0.4444444444444444,\"#bd3786\"],[0.5555555555555556,\"#d8576b\"],[0.6666666666666666,\"#ed7953\"],[0.7777777777777778,\"#fb9f3a\"],[0.8888888888888888,\"#fdca26\"],[1.0,\"#f0f921\"]],\"type\":\"surface\"}],\"table\":[{\"cells\":{\"fill\":{\"color\":\"#EBF0F8\"},\"line\":{\"color\":\"white\"}},\"header\":{\"fill\":{\"color\":\"#C8D4E3\"},\"line\":{\"color\":\"white\"}},\"type\":\"table\"}]},\"layout\":{\"annotationdefaults\":{\"arrowcolor\":\"#2a3f5f\",\"arrowhead\":0,\"arrowwidth\":1},\"autotypenumbers\":\"strict\",\"coloraxis\":{\"colorbar\":{\"outlinewidth\":0,\"ticks\":\"\"}},\"colorscale\":{\"diverging\":[[0,\"#8e0152\"],[0.1,\"#c51b7d\"],[0.2,\"#de77ae\"],[0.3,\"#f1b6da\"],[0.4,\"#fde0ef\"],[0.5,\"#f7f7f7\"],[0.6,\"#e6f5d0\"],[0.7,\"#b8e186\"],[0.8,\"#7fbc41\"],[0.9,\"#4d9221\"],[1,\"#276419\"]],\"sequential\":[[0.0,\"#0d0887\"],[0.1111111111111111,\"#46039f\"],[0.2222222222222222,\"#7201a8\"],[0.3333333333333333,\"#9c179e\"],[0.4444444444444444,\"#bd3786\"],[0.5555555555555556,\"#d8576b\"],[0.6666666666666666,\"#ed7953\"],[0.7777777777777778,\"#fb9f3a\"],[0.8888888888888888,\"#fdca26\"],[1.0,\"#f0f921\"]],\"sequentialminus\":[[0.0,\"#0d0887\"],[0.1111111111111111,\"#46039f\"],[0.2222222222222222,\"#7201a8\"],[0.3333333333333333,\"#9c179e\"],[0.4444444444444444,\"#bd3786\"],[0.5555555555555556,\"#d8576b\"],[0.6666666666666666,\"#ed7953\"],[0.7777777777777778,\"#fb9f3a\"],[0.8888888888888888,\"#fdca26\"],[1.0,\"#f0f921\"]]},\"colorway\":[\"#636efa\",\"#EF553B\",\"#00cc96\",\"#ab63fa\",\"#FFA15A\",\"#19d3f3\",\"#FF6692\",\"#B6E880\",\"#FF97FF\",\"#FECB52\"],\"font\":{\"color\":\"#2a3f5f\"},\"geo\":{\"bgcolor\":\"white\",\"lakecolor\":\"white\",\"landcolor\":\"#E5ECF6\",\"showlakes\":true,\"showland\":true,\"subunitcolor\":\"white\"},\"hoverlabel\":{\"align\":\"left\"},\"hovermode\":\"closest\",\"mapbox\":{\"style\":\"light\"},\"paper_bgcolor\":\"white\",\"plot_bgcolor\":\"#E5ECF6\",\"polar\":{\"angularaxis\":{\"gridcolor\":\"white\",\"linecolor\":\"white\",\"ticks\":\"\"},\"bgcolor\":\"#E5ECF6\",\"radialaxis\":{\"gridcolor\":\"white\",\"linecolor\":\"white\",\"ticks\":\"\"}},\"scene\":{\"xaxis\":{\"backgroundcolor\":\"#E5ECF6\",\"gridcolor\":\"white\",\"gridwidth\":2,\"linecolor\":\"white\",\"showbackground\":true,\"ticks\":\"\",\"zerolinecolor\":\"white\"},\"yaxis\":{\"backgroundcolor\":\"#E5ECF6\",\"gridcolor\":\"white\",\"gridwidth\":2,\"linecolor\":\"white\",\"showbackground\":true,\"ticks\":\"\",\"zerolinecolor\":\"white\"},\"zaxis\":{\"backgroundcolor\":\"#E5ECF6\",\"gridcolor\":\"white\",\"gridwidth\":2,\"linecolor\":\"white\",\"showbackground\":true,\"ticks\":\"\",\"zerolinecolor\":\"white\"}},\"shapedefaults\":{\"line\":{\"color\":\"#2a3f5f\"}},\"ternary\":{\"aaxis\":{\"gridcolor\":\"white\",\"linecolor\":\"white\",\"ticks\":\"\"},\"baxis\":{\"gridcolor\":\"white\",\"linecolor\":\"white\",\"ticks\":\"\"},\"bgcolor\":\"#E5ECF6\",\"caxis\":{\"gridcolor\":\"white\",\"linecolor\":\"white\",\"ticks\":\"\"}},\"title\":{\"x\":0.05},\"xaxis\":{\"automargin\":true,\"gridcolor\":\"white\",\"linecolor\":\"white\",\"ticks\":\"\",\"title\":{\"standoff\":15},\"zerolinecolor\":\"white\",\"zerolinewidth\":2},\"yaxis\":{\"automargin\":true,\"gridcolor\":\"white\",\"linecolor\":\"white\",\"ticks\":\"\",\"title\":{\"standoff\":15},\"zerolinecolor\":\"white\",\"zerolinewidth\":2}}}},                        {\"responsive\": true}                    ).then(function(){\n",
       "                            \n",
       "var gd = document.getElementById('54eed34a-ca3a-4548-bd11-6fb6b6a11b63');\n",
       "var x = new MutationObserver(function (mutations, observer) {{\n",
       "        var display = window.getComputedStyle(gd).display;\n",
       "        if (!display || display === 'none') {{\n",
       "            console.log([gd, 'removed!']);\n",
       "            Plotly.purge(gd);\n",
       "            observer.disconnect();\n",
       "        }}\n",
       "}});\n",
       "\n",
       "// Listen for the removal of the full notebook cells\n",
       "var notebookContainer = gd.closest('#notebook-container');\n",
       "if (notebookContainer) {{\n",
       "    x.observe(notebookContainer, {childList: true});\n",
       "}}\n",
       "\n",
       "// Listen for the clearing of the current output cell\n",
       "var outputEl = gd.closest('.output');\n",
       "if (outputEl) {{\n",
       "    x.observe(outputEl, {childList: true});\n",
       "}}\n",
       "\n",
       "                        })                };                });            </script>        </div>"
      ]
     },
     "metadata": {},
     "output_type": "display_data"
    }
   ],
   "source": [
    "from plotly import graph_objects as go\n",
    "\n",
    "fig = go.Figure(go.Funnel(\n",
    "    y = [\"Посетили сайт\", \"Зарегистрировали аккаунт\", \"Оставили заявку\", \"Пришли на игру\"],\n",
    "    x = [int(visits), int(acc_created), int(app_created), int(games)],\n",
    "                textposition = \"inside\",\n",
    "    textinfo = \"value+percent initial\"))\n",
    "\n",
    "fig.show()"
   ]
  },
  {
   "cell_type": "markdown",
   "id": "2d70e22d",
   "metadata": {},
   "source": [
    "#### Судя по воронке из общего количества пользователей, посетивших наш сайт:\n",
    "- 25% пользователей зарегистрировались \n",
    "- 12,5% пользователей оставили заявку на посещение квеста\n",
    "- 4,4% пользователей пришли на игру"
   ]
  },
  {
   "cell_type": "markdown",
   "id": "f6bfb24a",
   "metadata": {},
   "source": [
    "## Построим графики и посмотрим на динамику просмотров,регистраций,заявок и посещений квестов"
   ]
  },
  {
   "cell_type": "code",
   "execution_count": 7,
   "id": "c358458f",
   "metadata": {},
   "outputs": [],
   "source": [
    "# импортируем библиотеки для построения графиков\n",
    "import plotly\n",
    "import plotly.graph_objs as go\n",
    "import plotly.express as px\n",
    "from plotly.subplots import make_subplots"
   ]
  },
  {
   "cell_type": "code",
   "execution_count": 8,
   "id": "8ba4c46b",
   "metadata": {},
   "outputs": [
    {
     "data": {
      "text/plain": [
       "Index(['date', 'month', 'month_title', 'week', 'first_day_of_week', 'year',\n",
       "       'daily_visits', 'account_created', 'application_created', 'games',\n",
       "       'visits_by_month', 'visits_by_week', 'account_created_by_month',\n",
       "       'account_created_by_week', 'application_created_by_month',\n",
       "       'application_created_by_week', 'games_by_month', 'games_by_week',\n",
       "       'visits_total_by_date', 'account_created_total_by_date',\n",
       "       'application_created_total_by_date', 'games_total_by_date'],\n",
       "      dtype='object')"
      ]
     },
     "execution_count": 8,
     "metadata": {},
     "output_type": "execute_result"
    }
   ],
   "source": [
    "df.columns # вывожу табличку, чтоб скопировать отсюда названия столбцов, которые мне нужны"
   ]
  },
  {
   "cell_type": "code",
   "execution_count": 9,
   "id": "1e1a89ee",
   "metadata": {
    "scrolled": false
   },
   "outputs": [
    {
     "data": {
      "application/vnd.plotly.v1+json": {
       "config": {
        "plotlyServerURL": "https://plot.ly"
       },
       "data": [
        {
         "hoverinfo": "all",
         "hovertemplate": "Месяц: %{x}<br>Количество: %{y}",
         "mode": "lines+markers",
         "name": "Посетили сайт",
         "type": "scatter",
         "x": [
          "September",
          "September",
          "September",
          "September",
          "September",
          "September",
          "September",
          "September",
          "September",
          "September",
          "September",
          "September",
          "September",
          "September",
          "September",
          "September",
          "September",
          "September",
          "September",
          "September",
          "September",
          "September",
          "September",
          "September",
          "September",
          "September",
          "September",
          "September",
          "September",
          "September",
          "October",
          "October",
          "October",
          "October",
          "October",
          "October",
          "October",
          "October",
          "October",
          "October",
          "October",
          "October",
          "October",
          "October",
          "October",
          "October",
          "October",
          "October",
          "October",
          "October",
          "October",
          "October",
          "October",
          "October",
          "October",
          "October",
          "October",
          "October",
          "October",
          "October",
          "October",
          "November",
          "November",
          "November",
          "November",
          "November",
          "November",
          "November",
          "November",
          "November",
          "November",
          "November",
          "November",
          "November",
          "November",
          "November",
          "November",
          "November",
          "November",
          "November",
          "November",
          "November",
          "November",
          "November",
          "November",
          "November",
          "November",
          "November",
          "November",
          "November",
          "November",
          "December",
          "December",
          "December",
          "December",
          "December",
          "December",
          "December",
          "December",
          "December",
          "December",
          "December",
          "December",
          "December",
          "December",
          "December",
          "December",
          "December",
          "December",
          "December",
          "December",
          "December",
          "December",
          "December",
          "December",
          "December",
          "December",
          "December",
          "December",
          "December",
          "December",
          "December",
          "January",
          "January",
          "January",
          "January",
          "January",
          "January",
          "January",
          "January",
          "January",
          "January",
          "January",
          "January",
          "January",
          "January",
          "January",
          "January",
          "January",
          "January",
          "January",
          "January",
          "January",
          "January",
          "January",
          "January",
          "January",
          "January",
          "January",
          "January",
          "January",
          "January",
          "January",
          "February",
          "February"
         ],
         "y": [
          778,
          778,
          778,
          778,
          778,
          778,
          778,
          778,
          778,
          778,
          778,
          778,
          778,
          778,
          778,
          778,
          778,
          778,
          778,
          778,
          778,
          778,
          778,
          778,
          778,
          778,
          778,
          778,
          778,
          778,
          843,
          843,
          843,
          843,
          843,
          843,
          843,
          843,
          843,
          843,
          843,
          843,
          843,
          843,
          843,
          843,
          843,
          843,
          843,
          843,
          843,
          843,
          843,
          843,
          843,
          843,
          843,
          843,
          843,
          843,
          843,
          786,
          786,
          786,
          786,
          786,
          786,
          786,
          786,
          786,
          786,
          786,
          786,
          786,
          786,
          786,
          786,
          786,
          786,
          786,
          786,
          786,
          786,
          786,
          786,
          786,
          786,
          786,
          786,
          786,
          786,
          805,
          805,
          805,
          805,
          805,
          805,
          805,
          805,
          805,
          805,
          805,
          805,
          805,
          805,
          805,
          805,
          805,
          805,
          805,
          805,
          805,
          805,
          805,
          805,
          805,
          805,
          805,
          805,
          805,
          805,
          805,
          852,
          852,
          852,
          852,
          852,
          852,
          852,
          852,
          852,
          852,
          852,
          852,
          852,
          852,
          852,
          852,
          852,
          852,
          852,
          852,
          852,
          852,
          852,
          852,
          852,
          852,
          852,
          852,
          852,
          852,
          852,
          32,
          32
         ]
        },
        {
         "hoverinfo": "all",
         "hovertemplate": "Месяц: %{x}<br>Количество: %{y}",
         "mode": "lines+markers",
         "name": "Зарегистрировали аккаунт",
         "type": "scatter",
         "x": [
          "September",
          "September",
          "September",
          "September",
          "September",
          "September",
          "September",
          "September",
          "September",
          "September",
          "September",
          "September",
          "September",
          "September",
          "September",
          "September",
          "September",
          "September",
          "September",
          "September",
          "September",
          "September",
          "September",
          "September",
          "September",
          "September",
          "September",
          "September",
          "September",
          "September",
          "October",
          "October",
          "October",
          "October",
          "October",
          "October",
          "October",
          "October",
          "October",
          "October",
          "October",
          "October",
          "October",
          "October",
          "October",
          "October",
          "October",
          "October",
          "October",
          "October",
          "October",
          "October",
          "October",
          "October",
          "October",
          "October",
          "October",
          "October",
          "October",
          "October",
          "October",
          "November",
          "November",
          "November",
          "November",
          "November",
          "November",
          "November",
          "November",
          "November",
          "November",
          "November",
          "November",
          "November",
          "November",
          "November",
          "November",
          "November",
          "November",
          "November",
          "November",
          "November",
          "November",
          "November",
          "November",
          "November",
          "November",
          "November",
          "November",
          "November",
          "November",
          "December",
          "December",
          "December",
          "December",
          "December",
          "December",
          "December",
          "December",
          "December",
          "December",
          "December",
          "December",
          "December",
          "December",
          "December",
          "December",
          "December",
          "December",
          "December",
          "December",
          "December",
          "December",
          "December",
          "December",
          "December",
          "December",
          "December",
          "December",
          "December",
          "December",
          "December",
          "January",
          "January",
          "January",
          "January",
          "January",
          "January",
          "January",
          "January",
          "January",
          "January",
          "January",
          "January",
          "January",
          "January",
          "January",
          "January",
          "January",
          "January",
          "January",
          "January",
          "January",
          "January",
          "January",
          "January",
          "January",
          "January",
          "January",
          "January",
          "January",
          "January",
          "January",
          "February",
          "February"
         ],
         "y": [
          186,
          186,
          186,
          186,
          186,
          186,
          186,
          186,
          186,
          186,
          186,
          186,
          186,
          186,
          186,
          186,
          186,
          186,
          186,
          186,
          186,
          186,
          186,
          186,
          186,
          186,
          186,
          186,
          186,
          186,
          219,
          219,
          219,
          219,
          219,
          219,
          219,
          219,
          219,
          219,
          219,
          219,
          219,
          219,
          219,
          219,
          219,
          219,
          219,
          219,
          219,
          219,
          219,
          219,
          219,
          219,
          219,
          219,
          219,
          219,
          219,
          195,
          195,
          195,
          195,
          195,
          195,
          195,
          195,
          195,
          195,
          195,
          195,
          195,
          195,
          195,
          195,
          195,
          195,
          195,
          195,
          195,
          195,
          195,
          195,
          195,
          195,
          195,
          195,
          195,
          195,
          200,
          200,
          200,
          200,
          200,
          200,
          200,
          200,
          200,
          200,
          200,
          200,
          200,
          200,
          200,
          200,
          200,
          200,
          200,
          200,
          200,
          200,
          200,
          200,
          200,
          200,
          200,
          200,
          200,
          200,
          200,
          215,
          215,
          215,
          215,
          215,
          215,
          215,
          215,
          215,
          215,
          215,
          215,
          215,
          215,
          215,
          215,
          215,
          215,
          215,
          215,
          215,
          215,
          215,
          215,
          215,
          215,
          215,
          215,
          215,
          215,
          215,
          9,
          9
         ]
        },
        {
         "hoverinfo": "all",
         "hovertemplate": "Месяц: %{x}<br>Количество: %{y}",
         "mode": "lines+markers",
         "name": "Оставили заявку",
         "type": "scatter",
         "x": [
          "September",
          "September",
          "September",
          "September",
          "September",
          "September",
          "September",
          "September",
          "September",
          "September",
          "September",
          "September",
          "September",
          "September",
          "September",
          "September",
          "September",
          "September",
          "September",
          "September",
          "September",
          "September",
          "September",
          "September",
          "September",
          "September",
          "September",
          "September",
          "September",
          "September",
          "October",
          "October",
          "October",
          "October",
          "October",
          "October",
          "October",
          "October",
          "October",
          "October",
          "October",
          "October",
          "October",
          "October",
          "October",
          "October",
          "October",
          "October",
          "October",
          "October",
          "October",
          "October",
          "October",
          "October",
          "October",
          "October",
          "October",
          "October",
          "October",
          "October",
          "October",
          "November",
          "November",
          "November",
          "November",
          "November",
          "November",
          "November",
          "November",
          "November",
          "November",
          "November",
          "November",
          "November",
          "November",
          "November",
          "November",
          "November",
          "November",
          "November",
          "November",
          "November",
          "November",
          "November",
          "November",
          "November",
          "November",
          "November",
          "November",
          "November",
          "November",
          "December",
          "December",
          "December",
          "December",
          "December",
          "December",
          "December",
          "December",
          "December",
          "December",
          "December",
          "December",
          "December",
          "December",
          "December",
          "December",
          "December",
          "December",
          "December",
          "December",
          "December",
          "December",
          "December",
          "December",
          "December",
          "December",
          "December",
          "December",
          "December",
          "December",
          "December",
          "January",
          "January",
          "January",
          "January",
          "January",
          "January",
          "January",
          "January",
          "January",
          "January",
          "January",
          "January",
          "January",
          "January",
          "January",
          "January",
          "January",
          "January",
          "January",
          "January",
          "January",
          "January",
          "January",
          "January",
          "January",
          "January",
          "January",
          "January",
          "January",
          "January",
          "January",
          "February",
          "February"
         ],
         "y": [
          63,
          63,
          63,
          63,
          63,
          63,
          63,
          63,
          63,
          63,
          63,
          63,
          63,
          63,
          63,
          63,
          63,
          63,
          63,
          63,
          63,
          63,
          63,
          63,
          63,
          63,
          63,
          63,
          63,
          63,
          109,
          109,
          109,
          109,
          109,
          109,
          109,
          109,
          109,
          109,
          109,
          109,
          109,
          109,
          109,
          109,
          109,
          109,
          109,
          109,
          109,
          109,
          109,
          109,
          109,
          109,
          109,
          109,
          109,
          109,
          109,
          107,
          107,
          107,
          107,
          107,
          107,
          107,
          107,
          107,
          107,
          107,
          107,
          107,
          107,
          107,
          107,
          107,
          107,
          107,
          107,
          107,
          107,
          107,
          107,
          107,
          107,
          107,
          107,
          107,
          107,
          97,
          97,
          97,
          97,
          97,
          97,
          97,
          97,
          97,
          97,
          97,
          97,
          97,
          97,
          97,
          97,
          97,
          97,
          97,
          97,
          97,
          97,
          97,
          97,
          97,
          97,
          97,
          97,
          97,
          97,
          97,
          133,
          133,
          133,
          133,
          133,
          133,
          133,
          133,
          133,
          133,
          133,
          133,
          133,
          133,
          133,
          133,
          133,
          133,
          133,
          133,
          133,
          133,
          133,
          133,
          133,
          133,
          133,
          133,
          133,
          133,
          133,
          3,
          3
         ]
        },
        {
         "hoverinfo": "all",
         "hovertemplate": "Месяц: %{x}<br>Количество: %{y}",
         "mode": "lines+markers",
         "name": "Пришли на игру",
         "type": "scatter",
         "x": [
          "September",
          "September",
          "September",
          "September",
          "September",
          "September",
          "September",
          "September",
          "September",
          "September",
          "September",
          "September",
          "September",
          "September",
          "September",
          "September",
          "September",
          "September",
          "September",
          "September",
          "September",
          "September",
          "September",
          "September",
          "September",
          "September",
          "September",
          "September",
          "September",
          "September",
          "October",
          "October",
          "October",
          "October",
          "October",
          "October",
          "October",
          "October",
          "October",
          "October",
          "October",
          "October",
          "October",
          "October",
          "October",
          "October",
          "October",
          "October",
          "October",
          "October",
          "October",
          "October",
          "October",
          "October",
          "October",
          "October",
          "October",
          "October",
          "October",
          "October",
          "October",
          "November",
          "November",
          "November",
          "November",
          "November",
          "November",
          "November",
          "November",
          "November",
          "November",
          "November",
          "November",
          "November",
          "November",
          "November",
          "November",
          "November",
          "November",
          "November",
          "November",
          "November",
          "November",
          "November",
          "November",
          "November",
          "November",
          "November",
          "November",
          "November",
          "November",
          "December",
          "December",
          "December",
          "December",
          "December",
          "December",
          "December",
          "December",
          "December",
          "December",
          "December",
          "December",
          "December",
          "December",
          "December",
          "December",
          "December",
          "December",
          "December",
          "December",
          "December",
          "December",
          "December",
          "December",
          "December",
          "December",
          "December",
          "December",
          "December",
          "December",
          "December",
          "January",
          "January",
          "January",
          "January",
          "January",
          "January",
          "January",
          "January",
          "January",
          "January",
          "January",
          "January",
          "January",
          "January",
          "January",
          "January",
          "January",
          "January",
          "January",
          "January",
          "January",
          "January",
          "January",
          "January",
          "January",
          "January",
          "January",
          "January",
          "January",
          "January",
          "January",
          "February",
          "February"
         ],
         "y": [
          2,
          2,
          2,
          2,
          2,
          2,
          2,
          2,
          2,
          2,
          2,
          2,
          2,
          2,
          2,
          2,
          2,
          2,
          2,
          2,
          2,
          2,
          2,
          2,
          2,
          2,
          2,
          2,
          2,
          2,
          21,
          21,
          21,
          21,
          21,
          21,
          21,
          21,
          21,
          21,
          21,
          21,
          21,
          21,
          21,
          21,
          21,
          21,
          21,
          21,
          21,
          21,
          21,
          21,
          21,
          21,
          21,
          21,
          21,
          21,
          21,
          43,
          43,
          43,
          43,
          43,
          43,
          43,
          43,
          43,
          43,
          43,
          43,
          43,
          43,
          43,
          43,
          43,
          43,
          43,
          43,
          43,
          43,
          43,
          43,
          43,
          43,
          43,
          43,
          43,
          43,
          47,
          47,
          47,
          47,
          47,
          47,
          47,
          47,
          47,
          47,
          47,
          47,
          47,
          47,
          47,
          47,
          47,
          47,
          47,
          47,
          47,
          47,
          47,
          47,
          47,
          47,
          47,
          47,
          47,
          47,
          47,
          63,
          63,
          63,
          63,
          63,
          63,
          63,
          63,
          63,
          63,
          63,
          63,
          63,
          63,
          63,
          63,
          63,
          63,
          63,
          63,
          63,
          63,
          63,
          63,
          63,
          63,
          63,
          63,
          63,
          63,
          63,
          3,
          3
         ]
        }
       ],
       "layout": {
        "hovermode": "x",
        "legend": {
         "orientation": "h",
         "x": 0.5,
         "xanchor": "center"
        },
        "margin": {
         "b": 0,
         "l": 0,
         "r": 0,
         "t": 50
        },
        "template": {
         "data": {
          "bar": [
           {
            "error_x": {
             "color": "#2a3f5f"
            },
            "error_y": {
             "color": "#2a3f5f"
            },
            "marker": {
             "line": {
              "color": "#E5ECF6",
              "width": 0.5
             },
             "pattern": {
              "fillmode": "overlay",
              "size": 10,
              "solidity": 0.2
             }
            },
            "type": "bar"
           }
          ],
          "barpolar": [
           {
            "marker": {
             "line": {
              "color": "#E5ECF6",
              "width": 0.5
             },
             "pattern": {
              "fillmode": "overlay",
              "size": 10,
              "solidity": 0.2
             }
            },
            "type": "barpolar"
           }
          ],
          "carpet": [
           {
            "aaxis": {
             "endlinecolor": "#2a3f5f",
             "gridcolor": "white",
             "linecolor": "white",
             "minorgridcolor": "white",
             "startlinecolor": "#2a3f5f"
            },
            "baxis": {
             "endlinecolor": "#2a3f5f",
             "gridcolor": "white",
             "linecolor": "white",
             "minorgridcolor": "white",
             "startlinecolor": "#2a3f5f"
            },
            "type": "carpet"
           }
          ],
          "choropleth": [
           {
            "colorbar": {
             "outlinewidth": 0,
             "ticks": ""
            },
            "type": "choropleth"
           }
          ],
          "contour": [
           {
            "colorbar": {
             "outlinewidth": 0,
             "ticks": ""
            },
            "colorscale": [
             [
              0,
              "#0d0887"
             ],
             [
              0.1111111111111111,
              "#46039f"
             ],
             [
              0.2222222222222222,
              "#7201a8"
             ],
             [
              0.3333333333333333,
              "#9c179e"
             ],
             [
              0.4444444444444444,
              "#bd3786"
             ],
             [
              0.5555555555555556,
              "#d8576b"
             ],
             [
              0.6666666666666666,
              "#ed7953"
             ],
             [
              0.7777777777777778,
              "#fb9f3a"
             ],
             [
              0.8888888888888888,
              "#fdca26"
             ],
             [
              1,
              "#f0f921"
             ]
            ],
            "type": "contour"
           }
          ],
          "contourcarpet": [
           {
            "colorbar": {
             "outlinewidth": 0,
             "ticks": ""
            },
            "type": "contourcarpet"
           }
          ],
          "heatmap": [
           {
            "colorbar": {
             "outlinewidth": 0,
             "ticks": ""
            },
            "colorscale": [
             [
              0,
              "#0d0887"
             ],
             [
              0.1111111111111111,
              "#46039f"
             ],
             [
              0.2222222222222222,
              "#7201a8"
             ],
             [
              0.3333333333333333,
              "#9c179e"
             ],
             [
              0.4444444444444444,
              "#bd3786"
             ],
             [
              0.5555555555555556,
              "#d8576b"
             ],
             [
              0.6666666666666666,
              "#ed7953"
             ],
             [
              0.7777777777777778,
              "#fb9f3a"
             ],
             [
              0.8888888888888888,
              "#fdca26"
             ],
             [
              1,
              "#f0f921"
             ]
            ],
            "type": "heatmap"
           }
          ],
          "heatmapgl": [
           {
            "colorbar": {
             "outlinewidth": 0,
             "ticks": ""
            },
            "colorscale": [
             [
              0,
              "#0d0887"
             ],
             [
              0.1111111111111111,
              "#46039f"
             ],
             [
              0.2222222222222222,
              "#7201a8"
             ],
             [
              0.3333333333333333,
              "#9c179e"
             ],
             [
              0.4444444444444444,
              "#bd3786"
             ],
             [
              0.5555555555555556,
              "#d8576b"
             ],
             [
              0.6666666666666666,
              "#ed7953"
             ],
             [
              0.7777777777777778,
              "#fb9f3a"
             ],
             [
              0.8888888888888888,
              "#fdca26"
             ],
             [
              1,
              "#f0f921"
             ]
            ],
            "type": "heatmapgl"
           }
          ],
          "histogram": [
           {
            "marker": {
             "pattern": {
              "fillmode": "overlay",
              "size": 10,
              "solidity": 0.2
             }
            },
            "type": "histogram"
           }
          ],
          "histogram2d": [
           {
            "colorbar": {
             "outlinewidth": 0,
             "ticks": ""
            },
            "colorscale": [
             [
              0,
              "#0d0887"
             ],
             [
              0.1111111111111111,
              "#46039f"
             ],
             [
              0.2222222222222222,
              "#7201a8"
             ],
             [
              0.3333333333333333,
              "#9c179e"
             ],
             [
              0.4444444444444444,
              "#bd3786"
             ],
             [
              0.5555555555555556,
              "#d8576b"
             ],
             [
              0.6666666666666666,
              "#ed7953"
             ],
             [
              0.7777777777777778,
              "#fb9f3a"
             ],
             [
              0.8888888888888888,
              "#fdca26"
             ],
             [
              1,
              "#f0f921"
             ]
            ],
            "type": "histogram2d"
           }
          ],
          "histogram2dcontour": [
           {
            "colorbar": {
             "outlinewidth": 0,
             "ticks": ""
            },
            "colorscale": [
             [
              0,
              "#0d0887"
             ],
             [
              0.1111111111111111,
              "#46039f"
             ],
             [
              0.2222222222222222,
              "#7201a8"
             ],
             [
              0.3333333333333333,
              "#9c179e"
             ],
             [
              0.4444444444444444,
              "#bd3786"
             ],
             [
              0.5555555555555556,
              "#d8576b"
             ],
             [
              0.6666666666666666,
              "#ed7953"
             ],
             [
              0.7777777777777778,
              "#fb9f3a"
             ],
             [
              0.8888888888888888,
              "#fdca26"
             ],
             [
              1,
              "#f0f921"
             ]
            ],
            "type": "histogram2dcontour"
           }
          ],
          "mesh3d": [
           {
            "colorbar": {
             "outlinewidth": 0,
             "ticks": ""
            },
            "type": "mesh3d"
           }
          ],
          "parcoords": [
           {
            "line": {
             "colorbar": {
              "outlinewidth": 0,
              "ticks": ""
             }
            },
            "type": "parcoords"
           }
          ],
          "pie": [
           {
            "automargin": true,
            "type": "pie"
           }
          ],
          "scatter": [
           {
            "marker": {
             "colorbar": {
              "outlinewidth": 0,
              "ticks": ""
             }
            },
            "type": "scatter"
           }
          ],
          "scatter3d": [
           {
            "line": {
             "colorbar": {
              "outlinewidth": 0,
              "ticks": ""
             }
            },
            "marker": {
             "colorbar": {
              "outlinewidth": 0,
              "ticks": ""
             }
            },
            "type": "scatter3d"
           }
          ],
          "scattercarpet": [
           {
            "marker": {
             "colorbar": {
              "outlinewidth": 0,
              "ticks": ""
             }
            },
            "type": "scattercarpet"
           }
          ],
          "scattergeo": [
           {
            "marker": {
             "colorbar": {
              "outlinewidth": 0,
              "ticks": ""
             }
            },
            "type": "scattergeo"
           }
          ],
          "scattergl": [
           {
            "marker": {
             "colorbar": {
              "outlinewidth": 0,
              "ticks": ""
             }
            },
            "type": "scattergl"
           }
          ],
          "scattermapbox": [
           {
            "marker": {
             "colorbar": {
              "outlinewidth": 0,
              "ticks": ""
             }
            },
            "type": "scattermapbox"
           }
          ],
          "scatterpolar": [
           {
            "marker": {
             "colorbar": {
              "outlinewidth": 0,
              "ticks": ""
             }
            },
            "type": "scatterpolar"
           }
          ],
          "scatterpolargl": [
           {
            "marker": {
             "colorbar": {
              "outlinewidth": 0,
              "ticks": ""
             }
            },
            "type": "scatterpolargl"
           }
          ],
          "scatterternary": [
           {
            "marker": {
             "colorbar": {
              "outlinewidth": 0,
              "ticks": ""
             }
            },
            "type": "scatterternary"
           }
          ],
          "surface": [
           {
            "colorbar": {
             "outlinewidth": 0,
             "ticks": ""
            },
            "colorscale": [
             [
              0,
              "#0d0887"
             ],
             [
              0.1111111111111111,
              "#46039f"
             ],
             [
              0.2222222222222222,
              "#7201a8"
             ],
             [
              0.3333333333333333,
              "#9c179e"
             ],
             [
              0.4444444444444444,
              "#bd3786"
             ],
             [
              0.5555555555555556,
              "#d8576b"
             ],
             [
              0.6666666666666666,
              "#ed7953"
             ],
             [
              0.7777777777777778,
              "#fb9f3a"
             ],
             [
              0.8888888888888888,
              "#fdca26"
             ],
             [
              1,
              "#f0f921"
             ]
            ],
            "type": "surface"
           }
          ],
          "table": [
           {
            "cells": {
             "fill": {
              "color": "#EBF0F8"
             },
             "line": {
              "color": "white"
             }
            },
            "header": {
             "fill": {
              "color": "#C8D4E3"
             },
             "line": {
              "color": "white"
             }
            },
            "type": "table"
           }
          ]
         },
         "layout": {
          "annotationdefaults": {
           "arrowcolor": "#2a3f5f",
           "arrowhead": 0,
           "arrowwidth": 1
          },
          "autotypenumbers": "strict",
          "coloraxis": {
           "colorbar": {
            "outlinewidth": 0,
            "ticks": ""
           }
          },
          "colorscale": {
           "diverging": [
            [
             0,
             "#8e0152"
            ],
            [
             0.1,
             "#c51b7d"
            ],
            [
             0.2,
             "#de77ae"
            ],
            [
             0.3,
             "#f1b6da"
            ],
            [
             0.4,
             "#fde0ef"
            ],
            [
             0.5,
             "#f7f7f7"
            ],
            [
             0.6,
             "#e6f5d0"
            ],
            [
             0.7,
             "#b8e186"
            ],
            [
             0.8,
             "#7fbc41"
            ],
            [
             0.9,
             "#4d9221"
            ],
            [
             1,
             "#276419"
            ]
           ],
           "sequential": [
            [
             0,
             "#0d0887"
            ],
            [
             0.1111111111111111,
             "#46039f"
            ],
            [
             0.2222222222222222,
             "#7201a8"
            ],
            [
             0.3333333333333333,
             "#9c179e"
            ],
            [
             0.4444444444444444,
             "#bd3786"
            ],
            [
             0.5555555555555556,
             "#d8576b"
            ],
            [
             0.6666666666666666,
             "#ed7953"
            ],
            [
             0.7777777777777778,
             "#fb9f3a"
            ],
            [
             0.8888888888888888,
             "#fdca26"
            ],
            [
             1,
             "#f0f921"
            ]
           ],
           "sequentialminus": [
            [
             0,
             "#0d0887"
            ],
            [
             0.1111111111111111,
             "#46039f"
            ],
            [
             0.2222222222222222,
             "#7201a8"
            ],
            [
             0.3333333333333333,
             "#9c179e"
            ],
            [
             0.4444444444444444,
             "#bd3786"
            ],
            [
             0.5555555555555556,
             "#d8576b"
            ],
            [
             0.6666666666666666,
             "#ed7953"
            ],
            [
             0.7777777777777778,
             "#fb9f3a"
            ],
            [
             0.8888888888888888,
             "#fdca26"
            ],
            [
             1,
             "#f0f921"
            ]
           ]
          },
          "colorway": [
           "#636efa",
           "#EF553B",
           "#00cc96",
           "#ab63fa",
           "#FFA15A",
           "#19d3f3",
           "#FF6692",
           "#B6E880",
           "#FF97FF",
           "#FECB52"
          ],
          "font": {
           "color": "#2a3f5f"
          },
          "geo": {
           "bgcolor": "white",
           "lakecolor": "white",
           "landcolor": "#E5ECF6",
           "showlakes": true,
           "showland": true,
           "subunitcolor": "white"
          },
          "hoverlabel": {
           "align": "left"
          },
          "hovermode": "closest",
          "mapbox": {
           "style": "light"
          },
          "paper_bgcolor": "white",
          "plot_bgcolor": "#E5ECF6",
          "polar": {
           "angularaxis": {
            "gridcolor": "white",
            "linecolor": "white",
            "ticks": ""
           },
           "bgcolor": "#E5ECF6",
           "radialaxis": {
            "gridcolor": "white",
            "linecolor": "white",
            "ticks": ""
           }
          },
          "scene": {
           "xaxis": {
            "backgroundcolor": "#E5ECF6",
            "gridcolor": "white",
            "gridwidth": 2,
            "linecolor": "white",
            "showbackground": true,
            "ticks": "",
            "zerolinecolor": "white"
           },
           "yaxis": {
            "backgroundcolor": "#E5ECF6",
            "gridcolor": "white",
            "gridwidth": 2,
            "linecolor": "white",
            "showbackground": true,
            "ticks": "",
            "zerolinecolor": "white"
           },
           "zaxis": {
            "backgroundcolor": "#E5ECF6",
            "gridcolor": "white",
            "gridwidth": 2,
            "linecolor": "white",
            "showbackground": true,
            "ticks": "",
            "zerolinecolor": "white"
           }
          },
          "shapedefaults": {
           "line": {
            "color": "#2a3f5f"
           }
          },
          "ternary": {
           "aaxis": {
            "gridcolor": "white",
            "linecolor": "white",
            "ticks": ""
           },
           "baxis": {
            "gridcolor": "white",
            "linecolor": "white",
            "ticks": ""
           },
           "bgcolor": "#E5ECF6",
           "caxis": {
            "gridcolor": "white",
            "linecolor": "white",
            "ticks": ""
           }
          },
          "title": {
           "x": 0.05
          },
          "xaxis": {
           "automargin": true,
           "gridcolor": "white",
           "linecolor": "white",
           "ticks": "",
           "title": {
            "standoff": 15
           },
           "zerolinecolor": "white",
           "zerolinewidth": 2
          },
          "yaxis": {
           "automargin": true,
           "gridcolor": "white",
           "linecolor": "white",
           "ticks": "",
           "title": {
            "standoff": 15
           },
           "zerolinecolor": "white",
           "zerolinewidth": 2
          }
         }
        },
        "title": {
         "text": "Динамика посетителей/регистраций/заявок/игр по месяцам"
        },
        "xaxis": {
         "title": {
          "text": "Месяц"
         }
        },
        "yaxis": {
         "title": {
          "text": "Количество"
         }
        }
       }
      },
      "text/html": [
       "<div>                            <div id=\"8652c2b7-bd17-466c-8bbc-e4ab242c8933\" class=\"plotly-graph-div\" style=\"height:525px; width:100%;\"></div>            <script type=\"text/javascript\">                require([\"plotly\"], function(Plotly) {                    window.PLOTLYENV=window.PLOTLYENV || {};                                    if (document.getElementById(\"8652c2b7-bd17-466c-8bbc-e4ab242c8933\")) {                    Plotly.newPlot(                        \"8652c2b7-bd17-466c-8bbc-e4ab242c8933\",                        [{\"mode\":\"lines+markers\",\"name\":\"\\u041f\\u043e\\u0441\\u0435\\u0442\\u0438\\u043b\\u0438 \\u0441\\u0430\\u0439\\u0442\",\"x\":[\"September\",\"September\",\"September\",\"September\",\"September\",\"September\",\"September\",\"September\",\"September\",\"September\",\"September\",\"September\",\"September\",\"September\",\"September\",\"September\",\"September\",\"September\",\"September\",\"September\",\"September\",\"September\",\"September\",\"September\",\"September\",\"September\",\"September\",\"September\",\"September\",\"September\",\"October\",\"October\",\"October\",\"October\",\"October\",\"October\",\"October\",\"October\",\"October\",\"October\",\"October\",\"October\",\"October\",\"October\",\"October\",\"October\",\"October\",\"October\",\"October\",\"October\",\"October\",\"October\",\"October\",\"October\",\"October\",\"October\",\"October\",\"October\",\"October\",\"October\",\"October\",\"November\",\"November\",\"November\",\"November\",\"November\",\"November\",\"November\",\"November\",\"November\",\"November\",\"November\",\"November\",\"November\",\"November\",\"November\",\"November\",\"November\",\"November\",\"November\",\"November\",\"November\",\"November\",\"November\",\"November\",\"November\",\"November\",\"November\",\"November\",\"November\",\"November\",\"December\",\"December\",\"December\",\"December\",\"December\",\"December\",\"December\",\"December\",\"December\",\"December\",\"December\",\"December\",\"December\",\"December\",\"December\",\"December\",\"December\",\"December\",\"December\",\"December\",\"December\",\"December\",\"December\",\"December\",\"December\",\"December\",\"December\",\"December\",\"December\",\"December\",\"December\",\"January\",\"January\",\"January\",\"January\",\"January\",\"January\",\"January\",\"January\",\"January\",\"January\",\"January\",\"January\",\"January\",\"January\",\"January\",\"January\",\"January\",\"January\",\"January\",\"January\",\"January\",\"January\",\"January\",\"January\",\"January\",\"January\",\"January\",\"January\",\"January\",\"January\",\"January\",\"February\",\"February\"],\"y\":[778.0,778.0,778.0,778.0,778.0,778.0,778.0,778.0,778.0,778.0,778.0,778.0,778.0,778.0,778.0,778.0,778.0,778.0,778.0,778.0,778.0,778.0,778.0,778.0,778.0,778.0,778.0,778.0,778.0,778.0,843.0,843.0,843.0,843.0,843.0,843.0,843.0,843.0,843.0,843.0,843.0,843.0,843.0,843.0,843.0,843.0,843.0,843.0,843.0,843.0,843.0,843.0,843.0,843.0,843.0,843.0,843.0,843.0,843.0,843.0,843.0,786.0,786.0,786.0,786.0,786.0,786.0,786.0,786.0,786.0,786.0,786.0,786.0,786.0,786.0,786.0,786.0,786.0,786.0,786.0,786.0,786.0,786.0,786.0,786.0,786.0,786.0,786.0,786.0,786.0,786.0,805.0,805.0,805.0,805.0,805.0,805.0,805.0,805.0,805.0,805.0,805.0,805.0,805.0,805.0,805.0,805.0,805.0,805.0,805.0,805.0,805.0,805.0,805.0,805.0,805.0,805.0,805.0,805.0,805.0,805.0,805.0,852.0,852.0,852.0,852.0,852.0,852.0,852.0,852.0,852.0,852.0,852.0,852.0,852.0,852.0,852.0,852.0,852.0,852.0,852.0,852.0,852.0,852.0,852.0,852.0,852.0,852.0,852.0,852.0,852.0,852.0,852.0,32.0,32.0],\"type\":\"scatter\",\"hoverinfo\":\"all\",\"hovertemplate\":\"\\u041c\\u0435\\u0441\\u044f\\u0446: %{x}<br>\\u041a\\u043e\\u043b\\u0438\\u0447\\u0435\\u0441\\u0442\\u0432\\u043e: %{y}\"},{\"mode\":\"lines+markers\",\"name\":\"\\u0417\\u0430\\u0440\\u0435\\u0433\\u0438\\u0441\\u0442\\u0440\\u0438\\u0440\\u043e\\u0432\\u0430\\u043b\\u0438 \\u0430\\u043a\\u043a\\u0430\\u0443\\u043d\\u0442\",\"x\":[\"September\",\"September\",\"September\",\"September\",\"September\",\"September\",\"September\",\"September\",\"September\",\"September\",\"September\",\"September\",\"September\",\"September\",\"September\",\"September\",\"September\",\"September\",\"September\",\"September\",\"September\",\"September\",\"September\",\"September\",\"September\",\"September\",\"September\",\"September\",\"September\",\"September\",\"October\",\"October\",\"October\",\"October\",\"October\",\"October\",\"October\",\"October\",\"October\",\"October\",\"October\",\"October\",\"October\",\"October\",\"October\",\"October\",\"October\",\"October\",\"October\",\"October\",\"October\",\"October\",\"October\",\"October\",\"October\",\"October\",\"October\",\"October\",\"October\",\"October\",\"October\",\"November\",\"November\",\"November\",\"November\",\"November\",\"November\",\"November\",\"November\",\"November\",\"November\",\"November\",\"November\",\"November\",\"November\",\"November\",\"November\",\"November\",\"November\",\"November\",\"November\",\"November\",\"November\",\"November\",\"November\",\"November\",\"November\",\"November\",\"November\",\"November\",\"November\",\"December\",\"December\",\"December\",\"December\",\"December\",\"December\",\"December\",\"December\",\"December\",\"December\",\"December\",\"December\",\"December\",\"December\",\"December\",\"December\",\"December\",\"December\",\"December\",\"December\",\"December\",\"December\",\"December\",\"December\",\"December\",\"December\",\"December\",\"December\",\"December\",\"December\",\"December\",\"January\",\"January\",\"January\",\"January\",\"January\",\"January\",\"January\",\"January\",\"January\",\"January\",\"January\",\"January\",\"January\",\"January\",\"January\",\"January\",\"January\",\"January\",\"January\",\"January\",\"January\",\"January\",\"January\",\"January\",\"January\",\"January\",\"January\",\"January\",\"January\",\"January\",\"January\",\"February\",\"February\"],\"y\":[186.0,186.0,186.0,186.0,186.0,186.0,186.0,186.0,186.0,186.0,186.0,186.0,186.0,186.0,186.0,186.0,186.0,186.0,186.0,186.0,186.0,186.0,186.0,186.0,186.0,186.0,186.0,186.0,186.0,186.0,219.0,219.0,219.0,219.0,219.0,219.0,219.0,219.0,219.0,219.0,219.0,219.0,219.0,219.0,219.0,219.0,219.0,219.0,219.0,219.0,219.0,219.0,219.0,219.0,219.0,219.0,219.0,219.0,219.0,219.0,219.0,195.0,195.0,195.0,195.0,195.0,195.0,195.0,195.0,195.0,195.0,195.0,195.0,195.0,195.0,195.0,195.0,195.0,195.0,195.0,195.0,195.0,195.0,195.0,195.0,195.0,195.0,195.0,195.0,195.0,195.0,200.0,200.0,200.0,200.0,200.0,200.0,200.0,200.0,200.0,200.0,200.0,200.0,200.0,200.0,200.0,200.0,200.0,200.0,200.0,200.0,200.0,200.0,200.0,200.0,200.0,200.0,200.0,200.0,200.0,200.0,200.0,215.0,215.0,215.0,215.0,215.0,215.0,215.0,215.0,215.0,215.0,215.0,215.0,215.0,215.0,215.0,215.0,215.0,215.0,215.0,215.0,215.0,215.0,215.0,215.0,215.0,215.0,215.0,215.0,215.0,215.0,215.0,9.0,9.0],\"type\":\"scatter\",\"hoverinfo\":\"all\",\"hovertemplate\":\"\\u041c\\u0435\\u0441\\u044f\\u0446: %{x}<br>\\u041a\\u043e\\u043b\\u0438\\u0447\\u0435\\u0441\\u0442\\u0432\\u043e: %{y}\"},{\"mode\":\"lines+markers\",\"name\":\"\\u041e\\u0441\\u0442\\u0430\\u0432\\u0438\\u043b\\u0438 \\u0437\\u0430\\u044f\\u0432\\u043a\\u0443\",\"x\":[\"September\",\"September\",\"September\",\"September\",\"September\",\"September\",\"September\",\"September\",\"September\",\"September\",\"September\",\"September\",\"September\",\"September\",\"September\",\"September\",\"September\",\"September\",\"September\",\"September\",\"September\",\"September\",\"September\",\"September\",\"September\",\"September\",\"September\",\"September\",\"September\",\"September\",\"October\",\"October\",\"October\",\"October\",\"October\",\"October\",\"October\",\"October\",\"October\",\"October\",\"October\",\"October\",\"October\",\"October\",\"October\",\"October\",\"October\",\"October\",\"October\",\"October\",\"October\",\"October\",\"October\",\"October\",\"October\",\"October\",\"October\",\"October\",\"October\",\"October\",\"October\",\"November\",\"November\",\"November\",\"November\",\"November\",\"November\",\"November\",\"November\",\"November\",\"November\",\"November\",\"November\",\"November\",\"November\",\"November\",\"November\",\"November\",\"November\",\"November\",\"November\",\"November\",\"November\",\"November\",\"November\",\"November\",\"November\",\"November\",\"November\",\"November\",\"November\",\"December\",\"December\",\"December\",\"December\",\"December\",\"December\",\"December\",\"December\",\"December\",\"December\",\"December\",\"December\",\"December\",\"December\",\"December\",\"December\",\"December\",\"December\",\"December\",\"December\",\"December\",\"December\",\"December\",\"December\",\"December\",\"December\",\"December\",\"December\",\"December\",\"December\",\"December\",\"January\",\"January\",\"January\",\"January\",\"January\",\"January\",\"January\",\"January\",\"January\",\"January\",\"January\",\"January\",\"January\",\"January\",\"January\",\"January\",\"January\",\"January\",\"January\",\"January\",\"January\",\"January\",\"January\",\"January\",\"January\",\"January\",\"January\",\"January\",\"January\",\"January\",\"January\",\"February\",\"February\"],\"y\":[63.0,63.0,63.0,63.0,63.0,63.0,63.0,63.0,63.0,63.0,63.0,63.0,63.0,63.0,63.0,63.0,63.0,63.0,63.0,63.0,63.0,63.0,63.0,63.0,63.0,63.0,63.0,63.0,63.0,63.0,109.0,109.0,109.0,109.0,109.0,109.0,109.0,109.0,109.0,109.0,109.0,109.0,109.0,109.0,109.0,109.0,109.0,109.0,109.0,109.0,109.0,109.0,109.0,109.0,109.0,109.0,109.0,109.0,109.0,109.0,109.0,107.0,107.0,107.0,107.0,107.0,107.0,107.0,107.0,107.0,107.0,107.0,107.0,107.0,107.0,107.0,107.0,107.0,107.0,107.0,107.0,107.0,107.0,107.0,107.0,107.0,107.0,107.0,107.0,107.0,107.0,97.0,97.0,97.0,97.0,97.0,97.0,97.0,97.0,97.0,97.0,97.0,97.0,97.0,97.0,97.0,97.0,97.0,97.0,97.0,97.0,97.0,97.0,97.0,97.0,97.0,97.0,97.0,97.0,97.0,97.0,97.0,133.0,133.0,133.0,133.0,133.0,133.0,133.0,133.0,133.0,133.0,133.0,133.0,133.0,133.0,133.0,133.0,133.0,133.0,133.0,133.0,133.0,133.0,133.0,133.0,133.0,133.0,133.0,133.0,133.0,133.0,133.0,3.0,3.0],\"type\":\"scatter\",\"hoverinfo\":\"all\",\"hovertemplate\":\"\\u041c\\u0435\\u0441\\u044f\\u0446: %{x}<br>\\u041a\\u043e\\u043b\\u0438\\u0447\\u0435\\u0441\\u0442\\u0432\\u043e: %{y}\"},{\"mode\":\"lines+markers\",\"name\":\"\\u041f\\u0440\\u0438\\u0448\\u043b\\u0438 \\u043d\\u0430 \\u0438\\u0433\\u0440\\u0443\",\"x\":[\"September\",\"September\",\"September\",\"September\",\"September\",\"September\",\"September\",\"September\",\"September\",\"September\",\"September\",\"September\",\"September\",\"September\",\"September\",\"September\",\"September\",\"September\",\"September\",\"September\",\"September\",\"September\",\"September\",\"September\",\"September\",\"September\",\"September\",\"September\",\"September\",\"September\",\"October\",\"October\",\"October\",\"October\",\"October\",\"October\",\"October\",\"October\",\"October\",\"October\",\"October\",\"October\",\"October\",\"October\",\"October\",\"October\",\"October\",\"October\",\"October\",\"October\",\"October\",\"October\",\"October\",\"October\",\"October\",\"October\",\"October\",\"October\",\"October\",\"October\",\"October\",\"November\",\"November\",\"November\",\"November\",\"November\",\"November\",\"November\",\"November\",\"November\",\"November\",\"November\",\"November\",\"November\",\"November\",\"November\",\"November\",\"November\",\"November\",\"November\",\"November\",\"November\",\"November\",\"November\",\"November\",\"November\",\"November\",\"November\",\"November\",\"November\",\"November\",\"December\",\"December\",\"December\",\"December\",\"December\",\"December\",\"December\",\"December\",\"December\",\"December\",\"December\",\"December\",\"December\",\"December\",\"December\",\"December\",\"December\",\"December\",\"December\",\"December\",\"December\",\"December\",\"December\",\"December\",\"December\",\"December\",\"December\",\"December\",\"December\",\"December\",\"December\",\"January\",\"January\",\"January\",\"January\",\"January\",\"January\",\"January\",\"January\",\"January\",\"January\",\"January\",\"January\",\"January\",\"January\",\"January\",\"January\",\"January\",\"January\",\"January\",\"January\",\"January\",\"January\",\"January\",\"January\",\"January\",\"January\",\"January\",\"January\",\"January\",\"January\",\"January\",\"February\",\"February\"],\"y\":[2.0,2.0,2.0,2.0,2.0,2.0,2.0,2.0,2.0,2.0,2.0,2.0,2.0,2.0,2.0,2.0,2.0,2.0,2.0,2.0,2.0,2.0,2.0,2.0,2.0,2.0,2.0,2.0,2.0,2.0,21.0,21.0,21.0,21.0,21.0,21.0,21.0,21.0,21.0,21.0,21.0,21.0,21.0,21.0,21.0,21.0,21.0,21.0,21.0,21.0,21.0,21.0,21.0,21.0,21.0,21.0,21.0,21.0,21.0,21.0,21.0,43.0,43.0,43.0,43.0,43.0,43.0,43.0,43.0,43.0,43.0,43.0,43.0,43.0,43.0,43.0,43.0,43.0,43.0,43.0,43.0,43.0,43.0,43.0,43.0,43.0,43.0,43.0,43.0,43.0,43.0,47.0,47.0,47.0,47.0,47.0,47.0,47.0,47.0,47.0,47.0,47.0,47.0,47.0,47.0,47.0,47.0,47.0,47.0,47.0,47.0,47.0,47.0,47.0,47.0,47.0,47.0,47.0,47.0,47.0,47.0,47.0,63.0,63.0,63.0,63.0,63.0,63.0,63.0,63.0,63.0,63.0,63.0,63.0,63.0,63.0,63.0,63.0,63.0,63.0,63.0,63.0,63.0,63.0,63.0,63.0,63.0,63.0,63.0,63.0,63.0,63.0,63.0,3.0,3.0],\"type\":\"scatter\",\"hoverinfo\":\"all\",\"hovertemplate\":\"\\u041c\\u0435\\u0441\\u044f\\u0446: %{x}<br>\\u041a\\u043e\\u043b\\u0438\\u0447\\u0435\\u0441\\u0442\\u0432\\u043e: %{y}\"}],                        {\"template\":{\"data\":{\"bar\":[{\"error_x\":{\"color\":\"#2a3f5f\"},\"error_y\":{\"color\":\"#2a3f5f\"},\"marker\":{\"line\":{\"color\":\"#E5ECF6\",\"width\":0.5},\"pattern\":{\"fillmode\":\"overlay\",\"size\":10,\"solidity\":0.2}},\"type\":\"bar\"}],\"barpolar\":[{\"marker\":{\"line\":{\"color\":\"#E5ECF6\",\"width\":0.5},\"pattern\":{\"fillmode\":\"overlay\",\"size\":10,\"solidity\":0.2}},\"type\":\"barpolar\"}],\"carpet\":[{\"aaxis\":{\"endlinecolor\":\"#2a3f5f\",\"gridcolor\":\"white\",\"linecolor\":\"white\",\"minorgridcolor\":\"white\",\"startlinecolor\":\"#2a3f5f\"},\"baxis\":{\"endlinecolor\":\"#2a3f5f\",\"gridcolor\":\"white\",\"linecolor\":\"white\",\"minorgridcolor\":\"white\",\"startlinecolor\":\"#2a3f5f\"},\"type\":\"carpet\"}],\"choropleth\":[{\"colorbar\":{\"outlinewidth\":0,\"ticks\":\"\"},\"type\":\"choropleth\"}],\"contour\":[{\"colorbar\":{\"outlinewidth\":0,\"ticks\":\"\"},\"colorscale\":[[0.0,\"#0d0887\"],[0.1111111111111111,\"#46039f\"],[0.2222222222222222,\"#7201a8\"],[0.3333333333333333,\"#9c179e\"],[0.4444444444444444,\"#bd3786\"],[0.5555555555555556,\"#d8576b\"],[0.6666666666666666,\"#ed7953\"],[0.7777777777777778,\"#fb9f3a\"],[0.8888888888888888,\"#fdca26\"],[1.0,\"#f0f921\"]],\"type\":\"contour\"}],\"contourcarpet\":[{\"colorbar\":{\"outlinewidth\":0,\"ticks\":\"\"},\"type\":\"contourcarpet\"}],\"heatmap\":[{\"colorbar\":{\"outlinewidth\":0,\"ticks\":\"\"},\"colorscale\":[[0.0,\"#0d0887\"],[0.1111111111111111,\"#46039f\"],[0.2222222222222222,\"#7201a8\"],[0.3333333333333333,\"#9c179e\"],[0.4444444444444444,\"#bd3786\"],[0.5555555555555556,\"#d8576b\"],[0.6666666666666666,\"#ed7953\"],[0.7777777777777778,\"#fb9f3a\"],[0.8888888888888888,\"#fdca26\"],[1.0,\"#f0f921\"]],\"type\":\"heatmap\"}],\"heatmapgl\":[{\"colorbar\":{\"outlinewidth\":0,\"ticks\":\"\"},\"colorscale\":[[0.0,\"#0d0887\"],[0.1111111111111111,\"#46039f\"],[0.2222222222222222,\"#7201a8\"],[0.3333333333333333,\"#9c179e\"],[0.4444444444444444,\"#bd3786\"],[0.5555555555555556,\"#d8576b\"],[0.6666666666666666,\"#ed7953\"],[0.7777777777777778,\"#fb9f3a\"],[0.8888888888888888,\"#fdca26\"],[1.0,\"#f0f921\"]],\"type\":\"heatmapgl\"}],\"histogram\":[{\"marker\":{\"pattern\":{\"fillmode\":\"overlay\",\"size\":10,\"solidity\":0.2}},\"type\":\"histogram\"}],\"histogram2d\":[{\"colorbar\":{\"outlinewidth\":0,\"ticks\":\"\"},\"colorscale\":[[0.0,\"#0d0887\"],[0.1111111111111111,\"#46039f\"],[0.2222222222222222,\"#7201a8\"],[0.3333333333333333,\"#9c179e\"],[0.4444444444444444,\"#bd3786\"],[0.5555555555555556,\"#d8576b\"],[0.6666666666666666,\"#ed7953\"],[0.7777777777777778,\"#fb9f3a\"],[0.8888888888888888,\"#fdca26\"],[1.0,\"#f0f921\"]],\"type\":\"histogram2d\"}],\"histogram2dcontour\":[{\"colorbar\":{\"outlinewidth\":0,\"ticks\":\"\"},\"colorscale\":[[0.0,\"#0d0887\"],[0.1111111111111111,\"#46039f\"],[0.2222222222222222,\"#7201a8\"],[0.3333333333333333,\"#9c179e\"],[0.4444444444444444,\"#bd3786\"],[0.5555555555555556,\"#d8576b\"],[0.6666666666666666,\"#ed7953\"],[0.7777777777777778,\"#fb9f3a\"],[0.8888888888888888,\"#fdca26\"],[1.0,\"#f0f921\"]],\"type\":\"histogram2dcontour\"}],\"mesh3d\":[{\"colorbar\":{\"outlinewidth\":0,\"ticks\":\"\"},\"type\":\"mesh3d\"}],\"parcoords\":[{\"line\":{\"colorbar\":{\"outlinewidth\":0,\"ticks\":\"\"}},\"type\":\"parcoords\"}],\"pie\":[{\"automargin\":true,\"type\":\"pie\"}],\"scatter\":[{\"marker\":{\"colorbar\":{\"outlinewidth\":0,\"ticks\":\"\"}},\"type\":\"scatter\"}],\"scatter3d\":[{\"line\":{\"colorbar\":{\"outlinewidth\":0,\"ticks\":\"\"}},\"marker\":{\"colorbar\":{\"outlinewidth\":0,\"ticks\":\"\"}},\"type\":\"scatter3d\"}],\"scattercarpet\":[{\"marker\":{\"colorbar\":{\"outlinewidth\":0,\"ticks\":\"\"}},\"type\":\"scattercarpet\"}],\"scattergeo\":[{\"marker\":{\"colorbar\":{\"outlinewidth\":0,\"ticks\":\"\"}},\"type\":\"scattergeo\"}],\"scattergl\":[{\"marker\":{\"colorbar\":{\"outlinewidth\":0,\"ticks\":\"\"}},\"type\":\"scattergl\"}],\"scattermapbox\":[{\"marker\":{\"colorbar\":{\"outlinewidth\":0,\"ticks\":\"\"}},\"type\":\"scattermapbox\"}],\"scatterpolar\":[{\"marker\":{\"colorbar\":{\"outlinewidth\":0,\"ticks\":\"\"}},\"type\":\"scatterpolar\"}],\"scatterpolargl\":[{\"marker\":{\"colorbar\":{\"outlinewidth\":0,\"ticks\":\"\"}},\"type\":\"scatterpolargl\"}],\"scatterternary\":[{\"marker\":{\"colorbar\":{\"outlinewidth\":0,\"ticks\":\"\"}},\"type\":\"scatterternary\"}],\"surface\":[{\"colorbar\":{\"outlinewidth\":0,\"ticks\":\"\"},\"colorscale\":[[0.0,\"#0d0887\"],[0.1111111111111111,\"#46039f\"],[0.2222222222222222,\"#7201a8\"],[0.3333333333333333,\"#9c179e\"],[0.4444444444444444,\"#bd3786\"],[0.5555555555555556,\"#d8576b\"],[0.6666666666666666,\"#ed7953\"],[0.7777777777777778,\"#fb9f3a\"],[0.8888888888888888,\"#fdca26\"],[1.0,\"#f0f921\"]],\"type\":\"surface\"}],\"table\":[{\"cells\":{\"fill\":{\"color\":\"#EBF0F8\"},\"line\":{\"color\":\"white\"}},\"header\":{\"fill\":{\"color\":\"#C8D4E3\"},\"line\":{\"color\":\"white\"}},\"type\":\"table\"}]},\"layout\":{\"annotationdefaults\":{\"arrowcolor\":\"#2a3f5f\",\"arrowhead\":0,\"arrowwidth\":1},\"autotypenumbers\":\"strict\",\"coloraxis\":{\"colorbar\":{\"outlinewidth\":0,\"ticks\":\"\"}},\"colorscale\":{\"diverging\":[[0,\"#8e0152\"],[0.1,\"#c51b7d\"],[0.2,\"#de77ae\"],[0.3,\"#f1b6da\"],[0.4,\"#fde0ef\"],[0.5,\"#f7f7f7\"],[0.6,\"#e6f5d0\"],[0.7,\"#b8e186\"],[0.8,\"#7fbc41\"],[0.9,\"#4d9221\"],[1,\"#276419\"]],\"sequential\":[[0.0,\"#0d0887\"],[0.1111111111111111,\"#46039f\"],[0.2222222222222222,\"#7201a8\"],[0.3333333333333333,\"#9c179e\"],[0.4444444444444444,\"#bd3786\"],[0.5555555555555556,\"#d8576b\"],[0.6666666666666666,\"#ed7953\"],[0.7777777777777778,\"#fb9f3a\"],[0.8888888888888888,\"#fdca26\"],[1.0,\"#f0f921\"]],\"sequentialminus\":[[0.0,\"#0d0887\"],[0.1111111111111111,\"#46039f\"],[0.2222222222222222,\"#7201a8\"],[0.3333333333333333,\"#9c179e\"],[0.4444444444444444,\"#bd3786\"],[0.5555555555555556,\"#d8576b\"],[0.6666666666666666,\"#ed7953\"],[0.7777777777777778,\"#fb9f3a\"],[0.8888888888888888,\"#fdca26\"],[1.0,\"#f0f921\"]]},\"colorway\":[\"#636efa\",\"#EF553B\",\"#00cc96\",\"#ab63fa\",\"#FFA15A\",\"#19d3f3\",\"#FF6692\",\"#B6E880\",\"#FF97FF\",\"#FECB52\"],\"font\":{\"color\":\"#2a3f5f\"},\"geo\":{\"bgcolor\":\"white\",\"lakecolor\":\"white\",\"landcolor\":\"#E5ECF6\",\"showlakes\":true,\"showland\":true,\"subunitcolor\":\"white\"},\"hoverlabel\":{\"align\":\"left\"},\"hovermode\":\"closest\",\"mapbox\":{\"style\":\"light\"},\"paper_bgcolor\":\"white\",\"plot_bgcolor\":\"#E5ECF6\",\"polar\":{\"angularaxis\":{\"gridcolor\":\"white\",\"linecolor\":\"white\",\"ticks\":\"\"},\"bgcolor\":\"#E5ECF6\",\"radialaxis\":{\"gridcolor\":\"white\",\"linecolor\":\"white\",\"ticks\":\"\"}},\"scene\":{\"xaxis\":{\"backgroundcolor\":\"#E5ECF6\",\"gridcolor\":\"white\",\"gridwidth\":2,\"linecolor\":\"white\",\"showbackground\":true,\"ticks\":\"\",\"zerolinecolor\":\"white\"},\"yaxis\":{\"backgroundcolor\":\"#E5ECF6\",\"gridcolor\":\"white\",\"gridwidth\":2,\"linecolor\":\"white\",\"showbackground\":true,\"ticks\":\"\",\"zerolinecolor\":\"white\"},\"zaxis\":{\"backgroundcolor\":\"#E5ECF6\",\"gridcolor\":\"white\",\"gridwidth\":2,\"linecolor\":\"white\",\"showbackground\":true,\"ticks\":\"\",\"zerolinecolor\":\"white\"}},\"shapedefaults\":{\"line\":{\"color\":\"#2a3f5f\"}},\"ternary\":{\"aaxis\":{\"gridcolor\":\"white\",\"linecolor\":\"white\",\"ticks\":\"\"},\"baxis\":{\"gridcolor\":\"white\",\"linecolor\":\"white\",\"ticks\":\"\"},\"bgcolor\":\"#E5ECF6\",\"caxis\":{\"gridcolor\":\"white\",\"linecolor\":\"white\",\"ticks\":\"\"}},\"title\":{\"x\":0.05},\"xaxis\":{\"automargin\":true,\"gridcolor\":\"white\",\"linecolor\":\"white\",\"ticks\":\"\",\"title\":{\"standoff\":15},\"zerolinecolor\":\"white\",\"zerolinewidth\":2},\"yaxis\":{\"automargin\":true,\"gridcolor\":\"white\",\"linecolor\":\"white\",\"ticks\":\"\",\"title\":{\"standoff\":15},\"zerolinecolor\":\"white\",\"zerolinewidth\":2}}},\"legend\":{\"orientation\":\"h\",\"x\":0.5,\"xanchor\":\"center\"},\"margin\":{\"l\":0,\"r\":0,\"t\":50,\"b\":0},\"title\":{\"text\":\"\\u0414\\u0438\\u043d\\u0430\\u043c\\u0438\\u043a\\u0430 \\u043f\\u043e\\u0441\\u0435\\u0442\\u0438\\u0442\\u0435\\u043b\\u0435\\u0439/\\u0440\\u0435\\u0433\\u0438\\u0441\\u0442\\u0440\\u0430\\u0446\\u0438\\u0439/\\u0437\\u0430\\u044f\\u0432\\u043e\\u043a/\\u0438\\u0433\\u0440 \\u043f\\u043e \\u043c\\u0435\\u0441\\u044f\\u0446\\u0430\\u043c\"},\"xaxis\":{\"title\":{\"text\":\"\\u041c\\u0435\\u0441\\u044f\\u0446\"}},\"yaxis\":{\"title\":{\"text\":\"\\u041a\\u043e\\u043b\\u0438\\u0447\\u0435\\u0441\\u0442\\u0432\\u043e\"}},\"hovermode\":\"x\"},                        {\"responsive\": true}                    ).then(function(){\n",
       "                            \n",
       "var gd = document.getElementById('8652c2b7-bd17-466c-8bbc-e4ab242c8933');\n",
       "var x = new MutationObserver(function (mutations, observer) {{\n",
       "        var display = window.getComputedStyle(gd).display;\n",
       "        if (!display || display === 'none') {{\n",
       "            console.log([gd, 'removed!']);\n",
       "            Plotly.purge(gd);\n",
       "            observer.disconnect();\n",
       "        }}\n",
       "}});\n",
       "\n",
       "// Listen for the removal of the full notebook cells\n",
       "var notebookContainer = gd.closest('#notebook-container');\n",
       "if (notebookContainer) {{\n",
       "    x.observe(notebookContainer, {childList: true});\n",
       "}}\n",
       "\n",
       "// Listen for the clearing of the current output cell\n",
       "var outputEl = gd.closest('.output');\n",
       "if (outputEl) {{\n",
       "    x.observe(outputEl, {childList: true});\n",
       "}}\n",
       "\n",
       "                        })                };                });            </script>        </div>"
      ]
     },
     "metadata": {},
     "output_type": "display_data"
    }
   ],
   "source": [
    "fig = go.Figure()\n",
    "fig.add_trace(go.Scatter(x=df['month_title'], y=df['visits_by_month'],mode='lines+markers',  name='Посетили сайт'))\n",
    "fig.add_trace(go.Scatter(x=df['month_title'], y=df['account_created_by_month'],mode='lines+markers', name='Зарегистрировали аккаунт'))\n",
    "fig.add_trace(go.Scatter(x=df['month_title'], y=df['application_created_by_month'],mode='lines+markers', name='Оставили заявку'))\n",
    "fig.add_trace(go.Scatter(x=df['month_title'], y=df['games_by_month'],mode='lines+markers', name='Пришли на игру'))\n",
    "fig.update_layout(title=\"Динамика посетителей/регистраций/заявок/игр по месяцам\",\n",
    "                  xaxis_title=\"Месяц\",\n",
    "                  yaxis_title=\"Количество\",\n",
    "                  legend_orientation=\"h\",\n",
    "                  legend=dict(x=.5, xanchor=\"center\"),\n",
    "                  hovermode=\"x\",\n",
    "                  margin=dict(l=0, r=0, t=50, b=0))\n",
    "fig.update_traces(hoverinfo=\"all\", hovertemplate=\"Месяц: %{x}<br>Количество: %{y}\")\n",
    "fig.show()"
   ]
  },
  {
   "cell_type": "code",
   "execution_count": 10,
   "id": "0c55dbad",
   "metadata": {},
   "outputs": [
    {
     "data": {
      "application/vnd.plotly.v1+json": {
       "config": {
        "plotlyServerURL": "https://plot.ly"
       },
       "data": [
        {
         "hoverinfo": "all",
         "hovertemplate": "Первый день недели: %{x}<br>Количество: %{y}",
         "mode": "lines+markers",
         "name": "Посетили сайт",
         "type": "scatter",
         "x": [
          "2022-08-29",
          "2022-08-29",
          "2022-08-29",
          "2022-08-29",
          "2022-09-05",
          "2022-09-05",
          "2022-09-05",
          "2022-09-05",
          "2022-09-05",
          "2022-09-05",
          "2022-09-05",
          "2022-09-12",
          "2022-09-12",
          "2022-09-12",
          "2022-09-12",
          "2022-09-12",
          "2022-09-12",
          "2022-09-12",
          "2022-09-19",
          "2022-09-19",
          "2022-09-19",
          "2022-09-19",
          "2022-09-19",
          "2022-09-19",
          "2022-09-19",
          "2022-09-26",
          "2022-09-26",
          "2022-09-26",
          "2022-09-26",
          "2022-09-26",
          "2022-09-26",
          "2022-09-26",
          "2022-10-03",
          "2022-10-03",
          "2022-10-03",
          "2022-10-03",
          "2022-10-03",
          "2022-10-03",
          "2022-10-03",
          "2022-10-10",
          "2022-10-10",
          "2022-10-10",
          "2022-10-10",
          "2022-10-10",
          "2022-10-10",
          "2022-10-10",
          "2022-10-17",
          "2022-10-17",
          "2022-10-17",
          "2022-10-17",
          "2022-10-17",
          "2022-10-17",
          "2022-10-17",
          "2022-10-24",
          "2022-10-24",
          "2022-10-24",
          "2022-10-24",
          "2022-10-24",
          "2022-10-24",
          "2022-10-24",
          "2022-10-31",
          "2022-10-31",
          "2022-10-31",
          "2022-10-31",
          "2022-10-31",
          "2022-10-31",
          "2022-10-31",
          "2022-11-07",
          "2022-11-07",
          "2022-11-07",
          "2022-11-07",
          "2022-11-07",
          "2022-11-07",
          "2022-11-07",
          "2022-11-14",
          "2022-11-14",
          "2022-11-14",
          "2022-11-14",
          "2022-11-14",
          "2022-11-14",
          "2022-11-14",
          "2022-11-21",
          "2022-11-21",
          "2022-11-21",
          "2022-11-21",
          "2022-11-21",
          "2022-11-21",
          "2022-11-21",
          "2022-11-28",
          "2022-11-28",
          "2022-11-28",
          "2022-11-28",
          "2022-11-28",
          "2022-11-28",
          "2022-11-28",
          "2022-12-05",
          "2022-12-05",
          "2022-12-05",
          "2022-12-05",
          "2022-12-05",
          "2022-12-05",
          "2022-12-05",
          "2022-12-12",
          "2022-12-12",
          "2022-12-12",
          "2022-12-12",
          "2022-12-12",
          "2022-12-12",
          "2022-12-12",
          "2022-12-19",
          "2022-12-19",
          "2022-12-19",
          "2022-12-19",
          "2022-12-19",
          "2022-12-19",
          "2022-12-19",
          "2022-12-26",
          "2022-12-26",
          "2022-12-26",
          "2022-12-26",
          "2022-12-26",
          "2022-12-26",
          "2022-12-26",
          "2023-01-02",
          "2023-01-02",
          "2023-01-02",
          "2023-01-02",
          "2023-01-02",
          "2023-01-02",
          "2023-01-02",
          "2023-01-09",
          "2023-01-09",
          "2023-01-09",
          "2023-01-09",
          "2023-01-09",
          "2023-01-09",
          "2023-01-09",
          "2023-01-16",
          "2023-01-16",
          "2023-01-16",
          "2023-01-16",
          "2023-01-16",
          "2023-01-16",
          "2023-01-16",
          "2023-01-23",
          "2023-01-23",
          "2023-01-23",
          "2023-01-23",
          "2023-01-23",
          "2023-01-23",
          "2023-01-23",
          "2023-01-30",
          "2023-01-30",
          "2023-01-30",
          "2023-01-30"
         ],
         "y": [
          111,
          111,
          111,
          111,
          184,
          184,
          184,
          184,
          184,
          184,
          184,
          167,
          167,
          167,
          167,
          167,
          167,
          167,
          181,
          181,
          181,
          181,
          181,
          181,
          181,
          195,
          195,
          195,
          195,
          195,
          195,
          195,
          204,
          204,
          204,
          204,
          204,
          204,
          204,
          190,
          190,
          190,
          190,
          190,
          190,
          190,
          171,
          171,
          171,
          171,
          171,
          171,
          171,
          189,
          189,
          189,
          189,
          189,
          189,
          189,
          197,
          197,
          197,
          197,
          197,
          197,
          197,
          173,
          173,
          173,
          173,
          173,
          173,
          173,
          179,
          179,
          179,
          179,
          179,
          179,
          179,
          180,
          180,
          180,
          180,
          180,
          180,
          180,
          177,
          177,
          177,
          177,
          177,
          177,
          177,
          168,
          168,
          168,
          168,
          168,
          168,
          168,
          196,
          196,
          196,
          196,
          196,
          196,
          196,
          192,
          192,
          192,
          192,
          192,
          192,
          192,
          192,
          192,
          192,
          192,
          192,
          192,
          192,
          201,
          201,
          201,
          201,
          201,
          201,
          201,
          205,
          205,
          205,
          205,
          205,
          205,
          205,
          181,
          181,
          181,
          181,
          181,
          181,
          181,
          182,
          182,
          182,
          182,
          182,
          182,
          182,
          81,
          81,
          81,
          81
         ]
        },
        {
         "hoverinfo": "all",
         "hovertemplate": "Первый день недели: %{x}<br>Количество: %{y}",
         "mode": "lines+markers",
         "name": "Зарегистрировали аккаунт",
         "type": "scatter",
         "x": [
          "2022-08-29",
          "2022-08-29",
          "2022-08-29",
          "2022-08-29",
          "2022-09-05",
          "2022-09-05",
          "2022-09-05",
          "2022-09-05",
          "2022-09-05",
          "2022-09-05",
          "2022-09-05",
          "2022-09-12",
          "2022-09-12",
          "2022-09-12",
          "2022-09-12",
          "2022-09-12",
          "2022-09-12",
          "2022-09-12",
          "2022-09-19",
          "2022-09-19",
          "2022-09-19",
          "2022-09-19",
          "2022-09-19",
          "2022-09-19",
          "2022-09-19",
          "2022-09-26",
          "2022-09-26",
          "2022-09-26",
          "2022-09-26",
          "2022-09-26",
          "2022-09-26",
          "2022-09-26",
          "2022-10-03",
          "2022-10-03",
          "2022-10-03",
          "2022-10-03",
          "2022-10-03",
          "2022-10-03",
          "2022-10-03",
          "2022-10-10",
          "2022-10-10",
          "2022-10-10",
          "2022-10-10",
          "2022-10-10",
          "2022-10-10",
          "2022-10-10",
          "2022-10-17",
          "2022-10-17",
          "2022-10-17",
          "2022-10-17",
          "2022-10-17",
          "2022-10-17",
          "2022-10-17",
          "2022-10-24",
          "2022-10-24",
          "2022-10-24",
          "2022-10-24",
          "2022-10-24",
          "2022-10-24",
          "2022-10-24",
          "2022-10-31",
          "2022-10-31",
          "2022-10-31",
          "2022-10-31",
          "2022-10-31",
          "2022-10-31",
          "2022-10-31",
          "2022-11-07",
          "2022-11-07",
          "2022-11-07",
          "2022-11-07",
          "2022-11-07",
          "2022-11-07",
          "2022-11-07",
          "2022-11-14",
          "2022-11-14",
          "2022-11-14",
          "2022-11-14",
          "2022-11-14",
          "2022-11-14",
          "2022-11-14",
          "2022-11-21",
          "2022-11-21",
          "2022-11-21",
          "2022-11-21",
          "2022-11-21",
          "2022-11-21",
          "2022-11-21",
          "2022-11-28",
          "2022-11-28",
          "2022-11-28",
          "2022-11-28",
          "2022-11-28",
          "2022-11-28",
          "2022-11-28",
          "2022-12-05",
          "2022-12-05",
          "2022-12-05",
          "2022-12-05",
          "2022-12-05",
          "2022-12-05",
          "2022-12-05",
          "2022-12-12",
          "2022-12-12",
          "2022-12-12",
          "2022-12-12",
          "2022-12-12",
          "2022-12-12",
          "2022-12-12",
          "2022-12-19",
          "2022-12-19",
          "2022-12-19",
          "2022-12-19",
          "2022-12-19",
          "2022-12-19",
          "2022-12-19",
          "2022-12-26",
          "2022-12-26",
          "2022-12-26",
          "2022-12-26",
          "2022-12-26",
          "2022-12-26",
          "2022-12-26",
          "2023-01-02",
          "2023-01-02",
          "2023-01-02",
          "2023-01-02",
          "2023-01-02",
          "2023-01-02",
          "2023-01-02",
          "2023-01-09",
          "2023-01-09",
          "2023-01-09",
          "2023-01-09",
          "2023-01-09",
          "2023-01-09",
          "2023-01-09",
          "2023-01-16",
          "2023-01-16",
          "2023-01-16",
          "2023-01-16",
          "2023-01-16",
          "2023-01-16",
          "2023-01-16",
          "2023-01-23",
          "2023-01-23",
          "2023-01-23",
          "2023-01-23",
          "2023-01-23",
          "2023-01-23",
          "2023-01-23",
          "2023-01-30",
          "2023-01-30",
          "2023-01-30",
          "2023-01-30"
         ],
         "y": [
          22,
          22,
          22,
          22,
          38,
          38,
          38,
          38,
          38,
          38,
          38,
          42,
          42,
          42,
          42,
          42,
          42,
          42,
          46,
          46,
          46,
          46,
          46,
          46,
          46,
          56,
          56,
          56,
          56,
          56,
          56,
          56,
          59,
          59,
          59,
          59,
          59,
          59,
          59,
          46,
          46,
          46,
          46,
          46,
          46,
          46,
          42,
          42,
          42,
          42,
          42,
          42,
          42,
          48,
          48,
          48,
          48,
          48,
          48,
          48,
          46,
          46,
          46,
          46,
          46,
          46,
          46,
          43,
          43,
          43,
          43,
          43,
          43,
          43,
          36,
          36,
          36,
          36,
          36,
          36,
          36,
          52,
          52,
          52,
          52,
          52,
          52,
          52,
          45,
          45,
          45,
          45,
          45,
          45,
          45,
          44,
          44,
          44,
          44,
          44,
          44,
          44,
          52,
          52,
          52,
          52,
          52,
          52,
          52,
          46,
          46,
          46,
          46,
          46,
          46,
          46,
          44,
          44,
          44,
          44,
          44,
          44,
          44,
          55,
          55,
          55,
          55,
          55,
          55,
          55,
          54,
          54,
          54,
          54,
          54,
          54,
          54,
          42,
          42,
          42,
          42,
          42,
          42,
          42,
          40,
          40,
          40,
          40,
          40,
          40,
          40,
          26,
          26,
          26,
          26
         ]
        },
        {
         "hoverinfo": "all",
         "hovertemplate": "Первый день недели: %{x}<br>Количество: %{y}",
         "mode": "lines+markers",
         "name": "Оставили заявку",
         "type": "scatter",
         "x": [
          "2022-08-29",
          "2022-08-29",
          "2022-08-29",
          "2022-08-29",
          "2022-09-05",
          "2022-09-05",
          "2022-09-05",
          "2022-09-05",
          "2022-09-05",
          "2022-09-05",
          "2022-09-05",
          "2022-09-12",
          "2022-09-12",
          "2022-09-12",
          "2022-09-12",
          "2022-09-12",
          "2022-09-12",
          "2022-09-12",
          "2022-09-19",
          "2022-09-19",
          "2022-09-19",
          "2022-09-19",
          "2022-09-19",
          "2022-09-19",
          "2022-09-19",
          "2022-09-26",
          "2022-09-26",
          "2022-09-26",
          "2022-09-26",
          "2022-09-26",
          "2022-09-26",
          "2022-09-26",
          "2022-10-03",
          "2022-10-03",
          "2022-10-03",
          "2022-10-03",
          "2022-10-03",
          "2022-10-03",
          "2022-10-03",
          "2022-10-10",
          "2022-10-10",
          "2022-10-10",
          "2022-10-10",
          "2022-10-10",
          "2022-10-10",
          "2022-10-10",
          "2022-10-17",
          "2022-10-17",
          "2022-10-17",
          "2022-10-17",
          "2022-10-17",
          "2022-10-17",
          "2022-10-17",
          "2022-10-24",
          "2022-10-24",
          "2022-10-24",
          "2022-10-24",
          "2022-10-24",
          "2022-10-24",
          "2022-10-24",
          "2022-10-31",
          "2022-10-31",
          "2022-10-31",
          "2022-10-31",
          "2022-10-31",
          "2022-10-31",
          "2022-10-31",
          "2022-11-07",
          "2022-11-07",
          "2022-11-07",
          "2022-11-07",
          "2022-11-07",
          "2022-11-07",
          "2022-11-07",
          "2022-11-14",
          "2022-11-14",
          "2022-11-14",
          "2022-11-14",
          "2022-11-14",
          "2022-11-14",
          "2022-11-14",
          "2022-11-21",
          "2022-11-21",
          "2022-11-21",
          "2022-11-21",
          "2022-11-21",
          "2022-11-21",
          "2022-11-21",
          "2022-11-28",
          "2022-11-28",
          "2022-11-28",
          "2022-11-28",
          "2022-11-28",
          "2022-11-28",
          "2022-11-28",
          "2022-12-05",
          "2022-12-05",
          "2022-12-05",
          "2022-12-05",
          "2022-12-05",
          "2022-12-05",
          "2022-12-05",
          "2022-12-12",
          "2022-12-12",
          "2022-12-12",
          "2022-12-12",
          "2022-12-12",
          "2022-12-12",
          "2022-12-12",
          "2022-12-19",
          "2022-12-19",
          "2022-12-19",
          "2022-12-19",
          "2022-12-19",
          "2022-12-19",
          "2022-12-19",
          "2022-12-26",
          "2022-12-26",
          "2022-12-26",
          "2022-12-26",
          "2022-12-26",
          "2022-12-26",
          "2022-12-26",
          "2023-01-02",
          "2023-01-02",
          "2023-01-02",
          "2023-01-02",
          "2023-01-02",
          "2023-01-02",
          "2023-01-02",
          "2023-01-09",
          "2023-01-09",
          "2023-01-09",
          "2023-01-09",
          "2023-01-09",
          "2023-01-09",
          "2023-01-09",
          "2023-01-16",
          "2023-01-16",
          "2023-01-16",
          "2023-01-16",
          "2023-01-16",
          "2023-01-16",
          "2023-01-16",
          "2023-01-23",
          "2023-01-23",
          "2023-01-23",
          "2023-01-23",
          "2023-01-23",
          "2023-01-23",
          "2023-01-23",
          "2023-01-30",
          "2023-01-30",
          "2023-01-30",
          "2023-01-30"
         ],
         "y": [
          0,
          0,
          0,
          0,
          7,
          7,
          7,
          7,
          7,
          7,
          7,
          17,
          17,
          17,
          17,
          17,
          17,
          17,
          24,
          24,
          24,
          24,
          24,
          24,
          24,
          18,
          18,
          18,
          18,
          18,
          18,
          18,
          33,
          33,
          33,
          33,
          33,
          33,
          33,
          28,
          28,
          28,
          28,
          28,
          28,
          28,
          24,
          24,
          24,
          24,
          24,
          24,
          24,
          18,
          18,
          18,
          18,
          18,
          18,
          18,
          25,
          25,
          25,
          25,
          25,
          25,
          25,
          30,
          30,
          30,
          30,
          30,
          30,
          30,
          25,
          25,
          25,
          25,
          25,
          25,
          25,
          19,
          19,
          19,
          19,
          19,
          19,
          19,
          22,
          22,
          22,
          22,
          22,
          22,
          22,
          20,
          20,
          20,
          20,
          20,
          20,
          20,
          19,
          19,
          19,
          19,
          19,
          19,
          19,
          28,
          28,
          28,
          28,
          28,
          28,
          28,
          24,
          24,
          24,
          24,
          24,
          24,
          24,
          24,
          24,
          24,
          24,
          24,
          24,
          24,
          23,
          23,
          23,
          23,
          23,
          23,
          23,
          40,
          40,
          40,
          40,
          40,
          40,
          40,
          33,
          33,
          33,
          33,
          33,
          33,
          33,
          11,
          11,
          11,
          11
         ]
        },
        {
         "hoverinfo": "all",
         "hovertemplate": "Первый день недели: %{x}<br>Количество: %{y}",
         "mode": "lines+markers",
         "name": "Пришли на игру",
         "type": "scatter",
         "x": [
          "2022-08-29",
          "2022-08-29",
          "2022-08-29",
          "2022-08-29",
          "2022-09-05",
          "2022-09-05",
          "2022-09-05",
          "2022-09-05",
          "2022-09-05",
          "2022-09-05",
          "2022-09-05",
          "2022-09-12",
          "2022-09-12",
          "2022-09-12",
          "2022-09-12",
          "2022-09-12",
          "2022-09-12",
          "2022-09-12",
          "2022-09-19",
          "2022-09-19",
          "2022-09-19",
          "2022-09-19",
          "2022-09-19",
          "2022-09-19",
          "2022-09-19",
          "2022-09-26",
          "2022-09-26",
          "2022-09-26",
          "2022-09-26",
          "2022-09-26",
          "2022-09-26",
          "2022-09-26",
          "2022-10-03",
          "2022-10-03",
          "2022-10-03",
          "2022-10-03",
          "2022-10-03",
          "2022-10-03",
          "2022-10-03",
          "2022-10-10",
          "2022-10-10",
          "2022-10-10",
          "2022-10-10",
          "2022-10-10",
          "2022-10-10",
          "2022-10-10",
          "2022-10-17",
          "2022-10-17",
          "2022-10-17",
          "2022-10-17",
          "2022-10-17",
          "2022-10-17",
          "2022-10-17",
          "2022-10-24",
          "2022-10-24",
          "2022-10-24",
          "2022-10-24",
          "2022-10-24",
          "2022-10-24",
          "2022-10-24",
          "2022-10-31",
          "2022-10-31",
          "2022-10-31",
          "2022-10-31",
          "2022-10-31",
          "2022-10-31",
          "2022-10-31",
          "2022-11-07",
          "2022-11-07",
          "2022-11-07",
          "2022-11-07",
          "2022-11-07",
          "2022-11-07",
          "2022-11-07",
          "2022-11-14",
          "2022-11-14",
          "2022-11-14",
          "2022-11-14",
          "2022-11-14",
          "2022-11-14",
          "2022-11-14",
          "2022-11-21",
          "2022-11-21",
          "2022-11-21",
          "2022-11-21",
          "2022-11-21",
          "2022-11-21",
          "2022-11-21",
          "2022-11-28",
          "2022-11-28",
          "2022-11-28",
          "2022-11-28",
          "2022-11-28",
          "2022-11-28",
          "2022-11-28",
          "2022-12-05",
          "2022-12-05",
          "2022-12-05",
          "2022-12-05",
          "2022-12-05",
          "2022-12-05",
          "2022-12-05",
          "2022-12-12",
          "2022-12-12",
          "2022-12-12",
          "2022-12-12",
          "2022-12-12",
          "2022-12-12",
          "2022-12-12",
          "2022-12-19",
          "2022-12-19",
          "2022-12-19",
          "2022-12-19",
          "2022-12-19",
          "2022-12-19",
          "2022-12-19",
          "2022-12-26",
          "2022-12-26",
          "2022-12-26",
          "2022-12-26",
          "2022-12-26",
          "2022-12-26",
          "2022-12-26",
          "2023-01-02",
          "2023-01-02",
          "2023-01-02",
          "2023-01-02",
          "2023-01-02",
          "2023-01-02",
          "2023-01-02",
          "2023-01-09",
          "2023-01-09",
          "2023-01-09",
          "2023-01-09",
          "2023-01-09",
          "2023-01-09",
          "2023-01-09",
          "2023-01-16",
          "2023-01-16",
          "2023-01-16",
          "2023-01-16",
          "2023-01-16",
          "2023-01-16",
          "2023-01-16",
          "2023-01-23",
          "2023-01-23",
          "2023-01-23",
          "2023-01-23",
          "2023-01-23",
          "2023-01-23",
          "2023-01-23",
          "2023-01-30",
          "2023-01-30",
          "2023-01-30",
          "2023-01-30"
         ],
         "y": [
          0,
          0,
          0,
          0,
          0,
          0,
          0,
          0,
          0,
          0,
          0,
          1,
          1,
          1,
          1,
          1,
          1,
          1,
          1,
          1,
          1,
          1,
          1,
          1,
          1,
          1,
          1,
          1,
          1,
          1,
          1,
          1,
          5,
          5,
          5,
          5,
          5,
          5,
          5,
          3,
          3,
          3,
          3,
          3,
          3,
          3,
          5,
          5,
          5,
          5,
          5,
          5,
          5,
          7,
          7,
          7,
          7,
          7,
          7,
          7,
          8,
          8,
          8,
          8,
          8,
          8,
          8,
          10,
          10,
          10,
          10,
          10,
          10,
          10,
          7,
          7,
          7,
          7,
          7,
          7,
          7,
          14,
          14,
          14,
          14,
          14,
          14,
          14,
          10,
          10,
          10,
          10,
          10,
          10,
          10,
          13,
          13,
          13,
          13,
          13,
          13,
          13,
          11,
          11,
          11,
          11,
          11,
          11,
          11,
          7,
          7,
          7,
          7,
          7,
          7,
          7,
          11,
          11,
          11,
          11,
          11,
          11,
          11,
          16,
          16,
          16,
          16,
          16,
          16,
          16,
          8,
          8,
          8,
          8,
          8,
          8,
          8,
          15,
          15,
          15,
          15,
          15,
          15,
          15,
          17,
          17,
          17,
          17,
          17,
          17,
          17,
          9,
          9,
          9,
          9
         ]
        }
       ],
       "layout": {
        "hovermode": "x",
        "legend": {
         "orientation": "h",
         "x": 0.5,
         "xanchor": "center"
        },
        "margin": {
         "b": 0,
         "l": 0,
         "r": 0,
         "t": 50
        },
        "template": {
         "data": {
          "bar": [
           {
            "error_x": {
             "color": "#2a3f5f"
            },
            "error_y": {
             "color": "#2a3f5f"
            },
            "marker": {
             "line": {
              "color": "#E5ECF6",
              "width": 0.5
             },
             "pattern": {
              "fillmode": "overlay",
              "size": 10,
              "solidity": 0.2
             }
            },
            "type": "bar"
           }
          ],
          "barpolar": [
           {
            "marker": {
             "line": {
              "color": "#E5ECF6",
              "width": 0.5
             },
             "pattern": {
              "fillmode": "overlay",
              "size": 10,
              "solidity": 0.2
             }
            },
            "type": "barpolar"
           }
          ],
          "carpet": [
           {
            "aaxis": {
             "endlinecolor": "#2a3f5f",
             "gridcolor": "white",
             "linecolor": "white",
             "minorgridcolor": "white",
             "startlinecolor": "#2a3f5f"
            },
            "baxis": {
             "endlinecolor": "#2a3f5f",
             "gridcolor": "white",
             "linecolor": "white",
             "minorgridcolor": "white",
             "startlinecolor": "#2a3f5f"
            },
            "type": "carpet"
           }
          ],
          "choropleth": [
           {
            "colorbar": {
             "outlinewidth": 0,
             "ticks": ""
            },
            "type": "choropleth"
           }
          ],
          "contour": [
           {
            "colorbar": {
             "outlinewidth": 0,
             "ticks": ""
            },
            "colorscale": [
             [
              0,
              "#0d0887"
             ],
             [
              0.1111111111111111,
              "#46039f"
             ],
             [
              0.2222222222222222,
              "#7201a8"
             ],
             [
              0.3333333333333333,
              "#9c179e"
             ],
             [
              0.4444444444444444,
              "#bd3786"
             ],
             [
              0.5555555555555556,
              "#d8576b"
             ],
             [
              0.6666666666666666,
              "#ed7953"
             ],
             [
              0.7777777777777778,
              "#fb9f3a"
             ],
             [
              0.8888888888888888,
              "#fdca26"
             ],
             [
              1,
              "#f0f921"
             ]
            ],
            "type": "contour"
           }
          ],
          "contourcarpet": [
           {
            "colorbar": {
             "outlinewidth": 0,
             "ticks": ""
            },
            "type": "contourcarpet"
           }
          ],
          "heatmap": [
           {
            "colorbar": {
             "outlinewidth": 0,
             "ticks": ""
            },
            "colorscale": [
             [
              0,
              "#0d0887"
             ],
             [
              0.1111111111111111,
              "#46039f"
             ],
             [
              0.2222222222222222,
              "#7201a8"
             ],
             [
              0.3333333333333333,
              "#9c179e"
             ],
             [
              0.4444444444444444,
              "#bd3786"
             ],
             [
              0.5555555555555556,
              "#d8576b"
             ],
             [
              0.6666666666666666,
              "#ed7953"
             ],
             [
              0.7777777777777778,
              "#fb9f3a"
             ],
             [
              0.8888888888888888,
              "#fdca26"
             ],
             [
              1,
              "#f0f921"
             ]
            ],
            "type": "heatmap"
           }
          ],
          "heatmapgl": [
           {
            "colorbar": {
             "outlinewidth": 0,
             "ticks": ""
            },
            "colorscale": [
             [
              0,
              "#0d0887"
             ],
             [
              0.1111111111111111,
              "#46039f"
             ],
             [
              0.2222222222222222,
              "#7201a8"
             ],
             [
              0.3333333333333333,
              "#9c179e"
             ],
             [
              0.4444444444444444,
              "#bd3786"
             ],
             [
              0.5555555555555556,
              "#d8576b"
             ],
             [
              0.6666666666666666,
              "#ed7953"
             ],
             [
              0.7777777777777778,
              "#fb9f3a"
             ],
             [
              0.8888888888888888,
              "#fdca26"
             ],
             [
              1,
              "#f0f921"
             ]
            ],
            "type": "heatmapgl"
           }
          ],
          "histogram": [
           {
            "marker": {
             "pattern": {
              "fillmode": "overlay",
              "size": 10,
              "solidity": 0.2
             }
            },
            "type": "histogram"
           }
          ],
          "histogram2d": [
           {
            "colorbar": {
             "outlinewidth": 0,
             "ticks": ""
            },
            "colorscale": [
             [
              0,
              "#0d0887"
             ],
             [
              0.1111111111111111,
              "#46039f"
             ],
             [
              0.2222222222222222,
              "#7201a8"
             ],
             [
              0.3333333333333333,
              "#9c179e"
             ],
             [
              0.4444444444444444,
              "#bd3786"
             ],
             [
              0.5555555555555556,
              "#d8576b"
             ],
             [
              0.6666666666666666,
              "#ed7953"
             ],
             [
              0.7777777777777778,
              "#fb9f3a"
             ],
             [
              0.8888888888888888,
              "#fdca26"
             ],
             [
              1,
              "#f0f921"
             ]
            ],
            "type": "histogram2d"
           }
          ],
          "histogram2dcontour": [
           {
            "colorbar": {
             "outlinewidth": 0,
             "ticks": ""
            },
            "colorscale": [
             [
              0,
              "#0d0887"
             ],
             [
              0.1111111111111111,
              "#46039f"
             ],
             [
              0.2222222222222222,
              "#7201a8"
             ],
             [
              0.3333333333333333,
              "#9c179e"
             ],
             [
              0.4444444444444444,
              "#bd3786"
             ],
             [
              0.5555555555555556,
              "#d8576b"
             ],
             [
              0.6666666666666666,
              "#ed7953"
             ],
             [
              0.7777777777777778,
              "#fb9f3a"
             ],
             [
              0.8888888888888888,
              "#fdca26"
             ],
             [
              1,
              "#f0f921"
             ]
            ],
            "type": "histogram2dcontour"
           }
          ],
          "mesh3d": [
           {
            "colorbar": {
             "outlinewidth": 0,
             "ticks": ""
            },
            "type": "mesh3d"
           }
          ],
          "parcoords": [
           {
            "line": {
             "colorbar": {
              "outlinewidth": 0,
              "ticks": ""
             }
            },
            "type": "parcoords"
           }
          ],
          "pie": [
           {
            "automargin": true,
            "type": "pie"
           }
          ],
          "scatter": [
           {
            "marker": {
             "colorbar": {
              "outlinewidth": 0,
              "ticks": ""
             }
            },
            "type": "scatter"
           }
          ],
          "scatter3d": [
           {
            "line": {
             "colorbar": {
              "outlinewidth": 0,
              "ticks": ""
             }
            },
            "marker": {
             "colorbar": {
              "outlinewidth": 0,
              "ticks": ""
             }
            },
            "type": "scatter3d"
           }
          ],
          "scattercarpet": [
           {
            "marker": {
             "colorbar": {
              "outlinewidth": 0,
              "ticks": ""
             }
            },
            "type": "scattercarpet"
           }
          ],
          "scattergeo": [
           {
            "marker": {
             "colorbar": {
              "outlinewidth": 0,
              "ticks": ""
             }
            },
            "type": "scattergeo"
           }
          ],
          "scattergl": [
           {
            "marker": {
             "colorbar": {
              "outlinewidth": 0,
              "ticks": ""
             }
            },
            "type": "scattergl"
           }
          ],
          "scattermapbox": [
           {
            "marker": {
             "colorbar": {
              "outlinewidth": 0,
              "ticks": ""
             }
            },
            "type": "scattermapbox"
           }
          ],
          "scatterpolar": [
           {
            "marker": {
             "colorbar": {
              "outlinewidth": 0,
              "ticks": ""
             }
            },
            "type": "scatterpolar"
           }
          ],
          "scatterpolargl": [
           {
            "marker": {
             "colorbar": {
              "outlinewidth": 0,
              "ticks": ""
             }
            },
            "type": "scatterpolargl"
           }
          ],
          "scatterternary": [
           {
            "marker": {
             "colorbar": {
              "outlinewidth": 0,
              "ticks": ""
             }
            },
            "type": "scatterternary"
           }
          ],
          "surface": [
           {
            "colorbar": {
             "outlinewidth": 0,
             "ticks": ""
            },
            "colorscale": [
             [
              0,
              "#0d0887"
             ],
             [
              0.1111111111111111,
              "#46039f"
             ],
             [
              0.2222222222222222,
              "#7201a8"
             ],
             [
              0.3333333333333333,
              "#9c179e"
             ],
             [
              0.4444444444444444,
              "#bd3786"
             ],
             [
              0.5555555555555556,
              "#d8576b"
             ],
             [
              0.6666666666666666,
              "#ed7953"
             ],
             [
              0.7777777777777778,
              "#fb9f3a"
             ],
             [
              0.8888888888888888,
              "#fdca26"
             ],
             [
              1,
              "#f0f921"
             ]
            ],
            "type": "surface"
           }
          ],
          "table": [
           {
            "cells": {
             "fill": {
              "color": "#EBF0F8"
             },
             "line": {
              "color": "white"
             }
            },
            "header": {
             "fill": {
              "color": "#C8D4E3"
             },
             "line": {
              "color": "white"
             }
            },
            "type": "table"
           }
          ]
         },
         "layout": {
          "annotationdefaults": {
           "arrowcolor": "#2a3f5f",
           "arrowhead": 0,
           "arrowwidth": 1
          },
          "autotypenumbers": "strict",
          "coloraxis": {
           "colorbar": {
            "outlinewidth": 0,
            "ticks": ""
           }
          },
          "colorscale": {
           "diverging": [
            [
             0,
             "#8e0152"
            ],
            [
             0.1,
             "#c51b7d"
            ],
            [
             0.2,
             "#de77ae"
            ],
            [
             0.3,
             "#f1b6da"
            ],
            [
             0.4,
             "#fde0ef"
            ],
            [
             0.5,
             "#f7f7f7"
            ],
            [
             0.6,
             "#e6f5d0"
            ],
            [
             0.7,
             "#b8e186"
            ],
            [
             0.8,
             "#7fbc41"
            ],
            [
             0.9,
             "#4d9221"
            ],
            [
             1,
             "#276419"
            ]
           ],
           "sequential": [
            [
             0,
             "#0d0887"
            ],
            [
             0.1111111111111111,
             "#46039f"
            ],
            [
             0.2222222222222222,
             "#7201a8"
            ],
            [
             0.3333333333333333,
             "#9c179e"
            ],
            [
             0.4444444444444444,
             "#bd3786"
            ],
            [
             0.5555555555555556,
             "#d8576b"
            ],
            [
             0.6666666666666666,
             "#ed7953"
            ],
            [
             0.7777777777777778,
             "#fb9f3a"
            ],
            [
             0.8888888888888888,
             "#fdca26"
            ],
            [
             1,
             "#f0f921"
            ]
           ],
           "sequentialminus": [
            [
             0,
             "#0d0887"
            ],
            [
             0.1111111111111111,
             "#46039f"
            ],
            [
             0.2222222222222222,
             "#7201a8"
            ],
            [
             0.3333333333333333,
             "#9c179e"
            ],
            [
             0.4444444444444444,
             "#bd3786"
            ],
            [
             0.5555555555555556,
             "#d8576b"
            ],
            [
             0.6666666666666666,
             "#ed7953"
            ],
            [
             0.7777777777777778,
             "#fb9f3a"
            ],
            [
             0.8888888888888888,
             "#fdca26"
            ],
            [
             1,
             "#f0f921"
            ]
           ]
          },
          "colorway": [
           "#636efa",
           "#EF553B",
           "#00cc96",
           "#ab63fa",
           "#FFA15A",
           "#19d3f3",
           "#FF6692",
           "#B6E880",
           "#FF97FF",
           "#FECB52"
          ],
          "font": {
           "color": "#2a3f5f"
          },
          "geo": {
           "bgcolor": "white",
           "lakecolor": "white",
           "landcolor": "#E5ECF6",
           "showlakes": true,
           "showland": true,
           "subunitcolor": "white"
          },
          "hoverlabel": {
           "align": "left"
          },
          "hovermode": "closest",
          "mapbox": {
           "style": "light"
          },
          "paper_bgcolor": "white",
          "plot_bgcolor": "#E5ECF6",
          "polar": {
           "angularaxis": {
            "gridcolor": "white",
            "linecolor": "white",
            "ticks": ""
           },
           "bgcolor": "#E5ECF6",
           "radialaxis": {
            "gridcolor": "white",
            "linecolor": "white",
            "ticks": ""
           }
          },
          "scene": {
           "xaxis": {
            "backgroundcolor": "#E5ECF6",
            "gridcolor": "white",
            "gridwidth": 2,
            "linecolor": "white",
            "showbackground": true,
            "ticks": "",
            "zerolinecolor": "white"
           },
           "yaxis": {
            "backgroundcolor": "#E5ECF6",
            "gridcolor": "white",
            "gridwidth": 2,
            "linecolor": "white",
            "showbackground": true,
            "ticks": "",
            "zerolinecolor": "white"
           },
           "zaxis": {
            "backgroundcolor": "#E5ECF6",
            "gridcolor": "white",
            "gridwidth": 2,
            "linecolor": "white",
            "showbackground": true,
            "ticks": "",
            "zerolinecolor": "white"
           }
          },
          "shapedefaults": {
           "line": {
            "color": "#2a3f5f"
           }
          },
          "ternary": {
           "aaxis": {
            "gridcolor": "white",
            "linecolor": "white",
            "ticks": ""
           },
           "baxis": {
            "gridcolor": "white",
            "linecolor": "white",
            "ticks": ""
           },
           "bgcolor": "#E5ECF6",
           "caxis": {
            "gridcolor": "white",
            "linecolor": "white",
            "ticks": ""
           }
          },
          "title": {
           "x": 0.05
          },
          "xaxis": {
           "automargin": true,
           "gridcolor": "white",
           "linecolor": "white",
           "ticks": "",
           "title": {
            "standoff": 15
           },
           "zerolinecolor": "white",
           "zerolinewidth": 2
          },
          "yaxis": {
           "automargin": true,
           "gridcolor": "white",
           "linecolor": "white",
           "ticks": "",
           "title": {
            "standoff": 15
           },
           "zerolinecolor": "white",
           "zerolinewidth": 2
          }
         }
        },
        "title": {
         "text": "Динамика посетителей/регистраций/заявок/игр по неделям"
        },
        "xaxis": {
         "title": {
          "text": "Дата"
         }
        },
        "yaxis": {
         "title": {
          "text": "Количество"
         }
        }
       }
      },
      "text/html": [
       "<div>                            <div id=\"7c7c54d8-0af6-4bd2-9e69-1f499bb342cc\" class=\"plotly-graph-div\" style=\"height:525px; width:100%;\"></div>            <script type=\"text/javascript\">                require([\"plotly\"], function(Plotly) {                    window.PLOTLYENV=window.PLOTLYENV || {};                                    if (document.getElementById(\"7c7c54d8-0af6-4bd2-9e69-1f499bb342cc\")) {                    Plotly.newPlot(                        \"7c7c54d8-0af6-4bd2-9e69-1f499bb342cc\",                        [{\"mode\":\"lines+markers\",\"name\":\"\\u041f\\u043e\\u0441\\u0435\\u0442\\u0438\\u043b\\u0438 \\u0441\\u0430\\u0439\\u0442\",\"x\":[\"2022-08-29\",\"2022-08-29\",\"2022-08-29\",\"2022-08-29\",\"2022-09-05\",\"2022-09-05\",\"2022-09-05\",\"2022-09-05\",\"2022-09-05\",\"2022-09-05\",\"2022-09-05\",\"2022-09-12\",\"2022-09-12\",\"2022-09-12\",\"2022-09-12\",\"2022-09-12\",\"2022-09-12\",\"2022-09-12\",\"2022-09-19\",\"2022-09-19\",\"2022-09-19\",\"2022-09-19\",\"2022-09-19\",\"2022-09-19\",\"2022-09-19\",\"2022-09-26\",\"2022-09-26\",\"2022-09-26\",\"2022-09-26\",\"2022-09-26\",\"2022-09-26\",\"2022-09-26\",\"2022-10-03\",\"2022-10-03\",\"2022-10-03\",\"2022-10-03\",\"2022-10-03\",\"2022-10-03\",\"2022-10-03\",\"2022-10-10\",\"2022-10-10\",\"2022-10-10\",\"2022-10-10\",\"2022-10-10\",\"2022-10-10\",\"2022-10-10\",\"2022-10-17\",\"2022-10-17\",\"2022-10-17\",\"2022-10-17\",\"2022-10-17\",\"2022-10-17\",\"2022-10-17\",\"2022-10-24\",\"2022-10-24\",\"2022-10-24\",\"2022-10-24\",\"2022-10-24\",\"2022-10-24\",\"2022-10-24\",\"2022-10-31\",\"2022-10-31\",\"2022-10-31\",\"2022-10-31\",\"2022-10-31\",\"2022-10-31\",\"2022-10-31\",\"2022-11-07\",\"2022-11-07\",\"2022-11-07\",\"2022-11-07\",\"2022-11-07\",\"2022-11-07\",\"2022-11-07\",\"2022-11-14\",\"2022-11-14\",\"2022-11-14\",\"2022-11-14\",\"2022-11-14\",\"2022-11-14\",\"2022-11-14\",\"2022-11-21\",\"2022-11-21\",\"2022-11-21\",\"2022-11-21\",\"2022-11-21\",\"2022-11-21\",\"2022-11-21\",\"2022-11-28\",\"2022-11-28\",\"2022-11-28\",\"2022-11-28\",\"2022-11-28\",\"2022-11-28\",\"2022-11-28\",\"2022-12-05\",\"2022-12-05\",\"2022-12-05\",\"2022-12-05\",\"2022-12-05\",\"2022-12-05\",\"2022-12-05\",\"2022-12-12\",\"2022-12-12\",\"2022-12-12\",\"2022-12-12\",\"2022-12-12\",\"2022-12-12\",\"2022-12-12\",\"2022-12-19\",\"2022-12-19\",\"2022-12-19\",\"2022-12-19\",\"2022-12-19\",\"2022-12-19\",\"2022-12-19\",\"2022-12-26\",\"2022-12-26\",\"2022-12-26\",\"2022-12-26\",\"2022-12-26\",\"2022-12-26\",\"2022-12-26\",\"2023-01-02\",\"2023-01-02\",\"2023-01-02\",\"2023-01-02\",\"2023-01-02\",\"2023-01-02\",\"2023-01-02\",\"2023-01-09\",\"2023-01-09\",\"2023-01-09\",\"2023-01-09\",\"2023-01-09\",\"2023-01-09\",\"2023-01-09\",\"2023-01-16\",\"2023-01-16\",\"2023-01-16\",\"2023-01-16\",\"2023-01-16\",\"2023-01-16\",\"2023-01-16\",\"2023-01-23\",\"2023-01-23\",\"2023-01-23\",\"2023-01-23\",\"2023-01-23\",\"2023-01-23\",\"2023-01-23\",\"2023-01-30\",\"2023-01-30\",\"2023-01-30\",\"2023-01-30\"],\"y\":[111.0,111.0,111.0,111.0,184.0,184.0,184.0,184.0,184.0,184.0,184.0,167.0,167.0,167.0,167.0,167.0,167.0,167.0,181.0,181.0,181.0,181.0,181.0,181.0,181.0,195.0,195.0,195.0,195.0,195.0,195.0,195.0,204.0,204.0,204.0,204.0,204.0,204.0,204.0,190.0,190.0,190.0,190.0,190.0,190.0,190.0,171.0,171.0,171.0,171.0,171.0,171.0,171.0,189.0,189.0,189.0,189.0,189.0,189.0,189.0,197.0,197.0,197.0,197.0,197.0,197.0,197.0,173.0,173.0,173.0,173.0,173.0,173.0,173.0,179.0,179.0,179.0,179.0,179.0,179.0,179.0,180.0,180.0,180.0,180.0,180.0,180.0,180.0,177.0,177.0,177.0,177.0,177.0,177.0,177.0,168.0,168.0,168.0,168.0,168.0,168.0,168.0,196.0,196.0,196.0,196.0,196.0,196.0,196.0,192.0,192.0,192.0,192.0,192.0,192.0,192.0,192.0,192.0,192.0,192.0,192.0,192.0,192.0,201.0,201.0,201.0,201.0,201.0,201.0,201.0,205.0,205.0,205.0,205.0,205.0,205.0,205.0,181.0,181.0,181.0,181.0,181.0,181.0,181.0,182.0,182.0,182.0,182.0,182.0,182.0,182.0,81.0,81.0,81.0,81.0],\"type\":\"scatter\",\"hoverinfo\":\"all\",\"hovertemplate\":\"\\u041f\\u0435\\u0440\\u0432\\u044b\\u0439 \\u0434\\u0435\\u043d\\u044c \\u043d\\u0435\\u0434\\u0435\\u043b\\u0438: %{x}<br>\\u041a\\u043e\\u043b\\u0438\\u0447\\u0435\\u0441\\u0442\\u0432\\u043e: %{y}\"},{\"mode\":\"lines+markers\",\"name\":\"\\u0417\\u0430\\u0440\\u0435\\u0433\\u0438\\u0441\\u0442\\u0440\\u0438\\u0440\\u043e\\u0432\\u0430\\u043b\\u0438 \\u0430\\u043a\\u043a\\u0430\\u0443\\u043d\\u0442\",\"x\":[\"2022-08-29\",\"2022-08-29\",\"2022-08-29\",\"2022-08-29\",\"2022-09-05\",\"2022-09-05\",\"2022-09-05\",\"2022-09-05\",\"2022-09-05\",\"2022-09-05\",\"2022-09-05\",\"2022-09-12\",\"2022-09-12\",\"2022-09-12\",\"2022-09-12\",\"2022-09-12\",\"2022-09-12\",\"2022-09-12\",\"2022-09-19\",\"2022-09-19\",\"2022-09-19\",\"2022-09-19\",\"2022-09-19\",\"2022-09-19\",\"2022-09-19\",\"2022-09-26\",\"2022-09-26\",\"2022-09-26\",\"2022-09-26\",\"2022-09-26\",\"2022-09-26\",\"2022-09-26\",\"2022-10-03\",\"2022-10-03\",\"2022-10-03\",\"2022-10-03\",\"2022-10-03\",\"2022-10-03\",\"2022-10-03\",\"2022-10-10\",\"2022-10-10\",\"2022-10-10\",\"2022-10-10\",\"2022-10-10\",\"2022-10-10\",\"2022-10-10\",\"2022-10-17\",\"2022-10-17\",\"2022-10-17\",\"2022-10-17\",\"2022-10-17\",\"2022-10-17\",\"2022-10-17\",\"2022-10-24\",\"2022-10-24\",\"2022-10-24\",\"2022-10-24\",\"2022-10-24\",\"2022-10-24\",\"2022-10-24\",\"2022-10-31\",\"2022-10-31\",\"2022-10-31\",\"2022-10-31\",\"2022-10-31\",\"2022-10-31\",\"2022-10-31\",\"2022-11-07\",\"2022-11-07\",\"2022-11-07\",\"2022-11-07\",\"2022-11-07\",\"2022-11-07\",\"2022-11-07\",\"2022-11-14\",\"2022-11-14\",\"2022-11-14\",\"2022-11-14\",\"2022-11-14\",\"2022-11-14\",\"2022-11-14\",\"2022-11-21\",\"2022-11-21\",\"2022-11-21\",\"2022-11-21\",\"2022-11-21\",\"2022-11-21\",\"2022-11-21\",\"2022-11-28\",\"2022-11-28\",\"2022-11-28\",\"2022-11-28\",\"2022-11-28\",\"2022-11-28\",\"2022-11-28\",\"2022-12-05\",\"2022-12-05\",\"2022-12-05\",\"2022-12-05\",\"2022-12-05\",\"2022-12-05\",\"2022-12-05\",\"2022-12-12\",\"2022-12-12\",\"2022-12-12\",\"2022-12-12\",\"2022-12-12\",\"2022-12-12\",\"2022-12-12\",\"2022-12-19\",\"2022-12-19\",\"2022-12-19\",\"2022-12-19\",\"2022-12-19\",\"2022-12-19\",\"2022-12-19\",\"2022-12-26\",\"2022-12-26\",\"2022-12-26\",\"2022-12-26\",\"2022-12-26\",\"2022-12-26\",\"2022-12-26\",\"2023-01-02\",\"2023-01-02\",\"2023-01-02\",\"2023-01-02\",\"2023-01-02\",\"2023-01-02\",\"2023-01-02\",\"2023-01-09\",\"2023-01-09\",\"2023-01-09\",\"2023-01-09\",\"2023-01-09\",\"2023-01-09\",\"2023-01-09\",\"2023-01-16\",\"2023-01-16\",\"2023-01-16\",\"2023-01-16\",\"2023-01-16\",\"2023-01-16\",\"2023-01-16\",\"2023-01-23\",\"2023-01-23\",\"2023-01-23\",\"2023-01-23\",\"2023-01-23\",\"2023-01-23\",\"2023-01-23\",\"2023-01-30\",\"2023-01-30\",\"2023-01-30\",\"2023-01-30\"],\"y\":[22.0,22.0,22.0,22.0,38.0,38.0,38.0,38.0,38.0,38.0,38.0,42.0,42.0,42.0,42.0,42.0,42.0,42.0,46.0,46.0,46.0,46.0,46.0,46.0,46.0,56.0,56.0,56.0,56.0,56.0,56.0,56.0,59.0,59.0,59.0,59.0,59.0,59.0,59.0,46.0,46.0,46.0,46.0,46.0,46.0,46.0,42.0,42.0,42.0,42.0,42.0,42.0,42.0,48.0,48.0,48.0,48.0,48.0,48.0,48.0,46.0,46.0,46.0,46.0,46.0,46.0,46.0,43.0,43.0,43.0,43.0,43.0,43.0,43.0,36.0,36.0,36.0,36.0,36.0,36.0,36.0,52.0,52.0,52.0,52.0,52.0,52.0,52.0,45.0,45.0,45.0,45.0,45.0,45.0,45.0,44.0,44.0,44.0,44.0,44.0,44.0,44.0,52.0,52.0,52.0,52.0,52.0,52.0,52.0,46.0,46.0,46.0,46.0,46.0,46.0,46.0,44.0,44.0,44.0,44.0,44.0,44.0,44.0,55.0,55.0,55.0,55.0,55.0,55.0,55.0,54.0,54.0,54.0,54.0,54.0,54.0,54.0,42.0,42.0,42.0,42.0,42.0,42.0,42.0,40.0,40.0,40.0,40.0,40.0,40.0,40.0,26.0,26.0,26.0,26.0],\"type\":\"scatter\",\"hoverinfo\":\"all\",\"hovertemplate\":\"\\u041f\\u0435\\u0440\\u0432\\u044b\\u0439 \\u0434\\u0435\\u043d\\u044c \\u043d\\u0435\\u0434\\u0435\\u043b\\u0438: %{x}<br>\\u041a\\u043e\\u043b\\u0438\\u0447\\u0435\\u0441\\u0442\\u0432\\u043e: %{y}\"},{\"mode\":\"lines+markers\",\"name\":\"\\u041e\\u0441\\u0442\\u0430\\u0432\\u0438\\u043b\\u0438 \\u0437\\u0430\\u044f\\u0432\\u043a\\u0443\",\"x\":[\"2022-08-29\",\"2022-08-29\",\"2022-08-29\",\"2022-08-29\",\"2022-09-05\",\"2022-09-05\",\"2022-09-05\",\"2022-09-05\",\"2022-09-05\",\"2022-09-05\",\"2022-09-05\",\"2022-09-12\",\"2022-09-12\",\"2022-09-12\",\"2022-09-12\",\"2022-09-12\",\"2022-09-12\",\"2022-09-12\",\"2022-09-19\",\"2022-09-19\",\"2022-09-19\",\"2022-09-19\",\"2022-09-19\",\"2022-09-19\",\"2022-09-19\",\"2022-09-26\",\"2022-09-26\",\"2022-09-26\",\"2022-09-26\",\"2022-09-26\",\"2022-09-26\",\"2022-09-26\",\"2022-10-03\",\"2022-10-03\",\"2022-10-03\",\"2022-10-03\",\"2022-10-03\",\"2022-10-03\",\"2022-10-03\",\"2022-10-10\",\"2022-10-10\",\"2022-10-10\",\"2022-10-10\",\"2022-10-10\",\"2022-10-10\",\"2022-10-10\",\"2022-10-17\",\"2022-10-17\",\"2022-10-17\",\"2022-10-17\",\"2022-10-17\",\"2022-10-17\",\"2022-10-17\",\"2022-10-24\",\"2022-10-24\",\"2022-10-24\",\"2022-10-24\",\"2022-10-24\",\"2022-10-24\",\"2022-10-24\",\"2022-10-31\",\"2022-10-31\",\"2022-10-31\",\"2022-10-31\",\"2022-10-31\",\"2022-10-31\",\"2022-10-31\",\"2022-11-07\",\"2022-11-07\",\"2022-11-07\",\"2022-11-07\",\"2022-11-07\",\"2022-11-07\",\"2022-11-07\",\"2022-11-14\",\"2022-11-14\",\"2022-11-14\",\"2022-11-14\",\"2022-11-14\",\"2022-11-14\",\"2022-11-14\",\"2022-11-21\",\"2022-11-21\",\"2022-11-21\",\"2022-11-21\",\"2022-11-21\",\"2022-11-21\",\"2022-11-21\",\"2022-11-28\",\"2022-11-28\",\"2022-11-28\",\"2022-11-28\",\"2022-11-28\",\"2022-11-28\",\"2022-11-28\",\"2022-12-05\",\"2022-12-05\",\"2022-12-05\",\"2022-12-05\",\"2022-12-05\",\"2022-12-05\",\"2022-12-05\",\"2022-12-12\",\"2022-12-12\",\"2022-12-12\",\"2022-12-12\",\"2022-12-12\",\"2022-12-12\",\"2022-12-12\",\"2022-12-19\",\"2022-12-19\",\"2022-12-19\",\"2022-12-19\",\"2022-12-19\",\"2022-12-19\",\"2022-12-19\",\"2022-12-26\",\"2022-12-26\",\"2022-12-26\",\"2022-12-26\",\"2022-12-26\",\"2022-12-26\",\"2022-12-26\",\"2023-01-02\",\"2023-01-02\",\"2023-01-02\",\"2023-01-02\",\"2023-01-02\",\"2023-01-02\",\"2023-01-02\",\"2023-01-09\",\"2023-01-09\",\"2023-01-09\",\"2023-01-09\",\"2023-01-09\",\"2023-01-09\",\"2023-01-09\",\"2023-01-16\",\"2023-01-16\",\"2023-01-16\",\"2023-01-16\",\"2023-01-16\",\"2023-01-16\",\"2023-01-16\",\"2023-01-23\",\"2023-01-23\",\"2023-01-23\",\"2023-01-23\",\"2023-01-23\",\"2023-01-23\",\"2023-01-23\",\"2023-01-30\",\"2023-01-30\",\"2023-01-30\",\"2023-01-30\"],\"y\":[0.0,0.0,0.0,0.0,7.0,7.0,7.0,7.0,7.0,7.0,7.0,17.0,17.0,17.0,17.0,17.0,17.0,17.0,24.0,24.0,24.0,24.0,24.0,24.0,24.0,18.0,18.0,18.0,18.0,18.0,18.0,18.0,33.0,33.0,33.0,33.0,33.0,33.0,33.0,28.0,28.0,28.0,28.0,28.0,28.0,28.0,24.0,24.0,24.0,24.0,24.0,24.0,24.0,18.0,18.0,18.0,18.0,18.0,18.0,18.0,25.0,25.0,25.0,25.0,25.0,25.0,25.0,30.0,30.0,30.0,30.0,30.0,30.0,30.0,25.0,25.0,25.0,25.0,25.0,25.0,25.0,19.0,19.0,19.0,19.0,19.0,19.0,19.0,22.0,22.0,22.0,22.0,22.0,22.0,22.0,20.0,20.0,20.0,20.0,20.0,20.0,20.0,19.0,19.0,19.0,19.0,19.0,19.0,19.0,28.0,28.0,28.0,28.0,28.0,28.0,28.0,24.0,24.0,24.0,24.0,24.0,24.0,24.0,24.0,24.0,24.0,24.0,24.0,24.0,24.0,23.0,23.0,23.0,23.0,23.0,23.0,23.0,40.0,40.0,40.0,40.0,40.0,40.0,40.0,33.0,33.0,33.0,33.0,33.0,33.0,33.0,11.0,11.0,11.0,11.0],\"type\":\"scatter\",\"hoverinfo\":\"all\",\"hovertemplate\":\"\\u041f\\u0435\\u0440\\u0432\\u044b\\u0439 \\u0434\\u0435\\u043d\\u044c \\u043d\\u0435\\u0434\\u0435\\u043b\\u0438: %{x}<br>\\u041a\\u043e\\u043b\\u0438\\u0447\\u0435\\u0441\\u0442\\u0432\\u043e: %{y}\"},{\"mode\":\"lines+markers\",\"name\":\"\\u041f\\u0440\\u0438\\u0448\\u043b\\u0438 \\u043d\\u0430 \\u0438\\u0433\\u0440\\u0443\",\"x\":[\"2022-08-29\",\"2022-08-29\",\"2022-08-29\",\"2022-08-29\",\"2022-09-05\",\"2022-09-05\",\"2022-09-05\",\"2022-09-05\",\"2022-09-05\",\"2022-09-05\",\"2022-09-05\",\"2022-09-12\",\"2022-09-12\",\"2022-09-12\",\"2022-09-12\",\"2022-09-12\",\"2022-09-12\",\"2022-09-12\",\"2022-09-19\",\"2022-09-19\",\"2022-09-19\",\"2022-09-19\",\"2022-09-19\",\"2022-09-19\",\"2022-09-19\",\"2022-09-26\",\"2022-09-26\",\"2022-09-26\",\"2022-09-26\",\"2022-09-26\",\"2022-09-26\",\"2022-09-26\",\"2022-10-03\",\"2022-10-03\",\"2022-10-03\",\"2022-10-03\",\"2022-10-03\",\"2022-10-03\",\"2022-10-03\",\"2022-10-10\",\"2022-10-10\",\"2022-10-10\",\"2022-10-10\",\"2022-10-10\",\"2022-10-10\",\"2022-10-10\",\"2022-10-17\",\"2022-10-17\",\"2022-10-17\",\"2022-10-17\",\"2022-10-17\",\"2022-10-17\",\"2022-10-17\",\"2022-10-24\",\"2022-10-24\",\"2022-10-24\",\"2022-10-24\",\"2022-10-24\",\"2022-10-24\",\"2022-10-24\",\"2022-10-31\",\"2022-10-31\",\"2022-10-31\",\"2022-10-31\",\"2022-10-31\",\"2022-10-31\",\"2022-10-31\",\"2022-11-07\",\"2022-11-07\",\"2022-11-07\",\"2022-11-07\",\"2022-11-07\",\"2022-11-07\",\"2022-11-07\",\"2022-11-14\",\"2022-11-14\",\"2022-11-14\",\"2022-11-14\",\"2022-11-14\",\"2022-11-14\",\"2022-11-14\",\"2022-11-21\",\"2022-11-21\",\"2022-11-21\",\"2022-11-21\",\"2022-11-21\",\"2022-11-21\",\"2022-11-21\",\"2022-11-28\",\"2022-11-28\",\"2022-11-28\",\"2022-11-28\",\"2022-11-28\",\"2022-11-28\",\"2022-11-28\",\"2022-12-05\",\"2022-12-05\",\"2022-12-05\",\"2022-12-05\",\"2022-12-05\",\"2022-12-05\",\"2022-12-05\",\"2022-12-12\",\"2022-12-12\",\"2022-12-12\",\"2022-12-12\",\"2022-12-12\",\"2022-12-12\",\"2022-12-12\",\"2022-12-19\",\"2022-12-19\",\"2022-12-19\",\"2022-12-19\",\"2022-12-19\",\"2022-12-19\",\"2022-12-19\",\"2022-12-26\",\"2022-12-26\",\"2022-12-26\",\"2022-12-26\",\"2022-12-26\",\"2022-12-26\",\"2022-12-26\",\"2023-01-02\",\"2023-01-02\",\"2023-01-02\",\"2023-01-02\",\"2023-01-02\",\"2023-01-02\",\"2023-01-02\",\"2023-01-09\",\"2023-01-09\",\"2023-01-09\",\"2023-01-09\",\"2023-01-09\",\"2023-01-09\",\"2023-01-09\",\"2023-01-16\",\"2023-01-16\",\"2023-01-16\",\"2023-01-16\",\"2023-01-16\",\"2023-01-16\",\"2023-01-16\",\"2023-01-23\",\"2023-01-23\",\"2023-01-23\",\"2023-01-23\",\"2023-01-23\",\"2023-01-23\",\"2023-01-23\",\"2023-01-30\",\"2023-01-30\",\"2023-01-30\",\"2023-01-30\"],\"y\":[0.0,0.0,0.0,0.0,0.0,0.0,0.0,0.0,0.0,0.0,0.0,1.0,1.0,1.0,1.0,1.0,1.0,1.0,1.0,1.0,1.0,1.0,1.0,1.0,1.0,1.0,1.0,1.0,1.0,1.0,1.0,1.0,5.0,5.0,5.0,5.0,5.0,5.0,5.0,3.0,3.0,3.0,3.0,3.0,3.0,3.0,5.0,5.0,5.0,5.0,5.0,5.0,5.0,7.0,7.0,7.0,7.0,7.0,7.0,7.0,8.0,8.0,8.0,8.0,8.0,8.0,8.0,10.0,10.0,10.0,10.0,10.0,10.0,10.0,7.0,7.0,7.0,7.0,7.0,7.0,7.0,14.0,14.0,14.0,14.0,14.0,14.0,14.0,10.0,10.0,10.0,10.0,10.0,10.0,10.0,13.0,13.0,13.0,13.0,13.0,13.0,13.0,11.0,11.0,11.0,11.0,11.0,11.0,11.0,7.0,7.0,7.0,7.0,7.0,7.0,7.0,11.0,11.0,11.0,11.0,11.0,11.0,11.0,16.0,16.0,16.0,16.0,16.0,16.0,16.0,8.0,8.0,8.0,8.0,8.0,8.0,8.0,15.0,15.0,15.0,15.0,15.0,15.0,15.0,17.0,17.0,17.0,17.0,17.0,17.0,17.0,9.0,9.0,9.0,9.0],\"type\":\"scatter\",\"hoverinfo\":\"all\",\"hovertemplate\":\"\\u041f\\u0435\\u0440\\u0432\\u044b\\u0439 \\u0434\\u0435\\u043d\\u044c \\u043d\\u0435\\u0434\\u0435\\u043b\\u0438: %{x}<br>\\u041a\\u043e\\u043b\\u0438\\u0447\\u0435\\u0441\\u0442\\u0432\\u043e: %{y}\"}],                        {\"template\":{\"data\":{\"bar\":[{\"error_x\":{\"color\":\"#2a3f5f\"},\"error_y\":{\"color\":\"#2a3f5f\"},\"marker\":{\"line\":{\"color\":\"#E5ECF6\",\"width\":0.5},\"pattern\":{\"fillmode\":\"overlay\",\"size\":10,\"solidity\":0.2}},\"type\":\"bar\"}],\"barpolar\":[{\"marker\":{\"line\":{\"color\":\"#E5ECF6\",\"width\":0.5},\"pattern\":{\"fillmode\":\"overlay\",\"size\":10,\"solidity\":0.2}},\"type\":\"barpolar\"}],\"carpet\":[{\"aaxis\":{\"endlinecolor\":\"#2a3f5f\",\"gridcolor\":\"white\",\"linecolor\":\"white\",\"minorgridcolor\":\"white\",\"startlinecolor\":\"#2a3f5f\"},\"baxis\":{\"endlinecolor\":\"#2a3f5f\",\"gridcolor\":\"white\",\"linecolor\":\"white\",\"minorgridcolor\":\"white\",\"startlinecolor\":\"#2a3f5f\"},\"type\":\"carpet\"}],\"choropleth\":[{\"colorbar\":{\"outlinewidth\":0,\"ticks\":\"\"},\"type\":\"choropleth\"}],\"contour\":[{\"colorbar\":{\"outlinewidth\":0,\"ticks\":\"\"},\"colorscale\":[[0.0,\"#0d0887\"],[0.1111111111111111,\"#46039f\"],[0.2222222222222222,\"#7201a8\"],[0.3333333333333333,\"#9c179e\"],[0.4444444444444444,\"#bd3786\"],[0.5555555555555556,\"#d8576b\"],[0.6666666666666666,\"#ed7953\"],[0.7777777777777778,\"#fb9f3a\"],[0.8888888888888888,\"#fdca26\"],[1.0,\"#f0f921\"]],\"type\":\"contour\"}],\"contourcarpet\":[{\"colorbar\":{\"outlinewidth\":0,\"ticks\":\"\"},\"type\":\"contourcarpet\"}],\"heatmap\":[{\"colorbar\":{\"outlinewidth\":0,\"ticks\":\"\"},\"colorscale\":[[0.0,\"#0d0887\"],[0.1111111111111111,\"#46039f\"],[0.2222222222222222,\"#7201a8\"],[0.3333333333333333,\"#9c179e\"],[0.4444444444444444,\"#bd3786\"],[0.5555555555555556,\"#d8576b\"],[0.6666666666666666,\"#ed7953\"],[0.7777777777777778,\"#fb9f3a\"],[0.8888888888888888,\"#fdca26\"],[1.0,\"#f0f921\"]],\"type\":\"heatmap\"}],\"heatmapgl\":[{\"colorbar\":{\"outlinewidth\":0,\"ticks\":\"\"},\"colorscale\":[[0.0,\"#0d0887\"],[0.1111111111111111,\"#46039f\"],[0.2222222222222222,\"#7201a8\"],[0.3333333333333333,\"#9c179e\"],[0.4444444444444444,\"#bd3786\"],[0.5555555555555556,\"#d8576b\"],[0.6666666666666666,\"#ed7953\"],[0.7777777777777778,\"#fb9f3a\"],[0.8888888888888888,\"#fdca26\"],[1.0,\"#f0f921\"]],\"type\":\"heatmapgl\"}],\"histogram\":[{\"marker\":{\"pattern\":{\"fillmode\":\"overlay\",\"size\":10,\"solidity\":0.2}},\"type\":\"histogram\"}],\"histogram2d\":[{\"colorbar\":{\"outlinewidth\":0,\"ticks\":\"\"},\"colorscale\":[[0.0,\"#0d0887\"],[0.1111111111111111,\"#46039f\"],[0.2222222222222222,\"#7201a8\"],[0.3333333333333333,\"#9c179e\"],[0.4444444444444444,\"#bd3786\"],[0.5555555555555556,\"#d8576b\"],[0.6666666666666666,\"#ed7953\"],[0.7777777777777778,\"#fb9f3a\"],[0.8888888888888888,\"#fdca26\"],[1.0,\"#f0f921\"]],\"type\":\"histogram2d\"}],\"histogram2dcontour\":[{\"colorbar\":{\"outlinewidth\":0,\"ticks\":\"\"},\"colorscale\":[[0.0,\"#0d0887\"],[0.1111111111111111,\"#46039f\"],[0.2222222222222222,\"#7201a8\"],[0.3333333333333333,\"#9c179e\"],[0.4444444444444444,\"#bd3786\"],[0.5555555555555556,\"#d8576b\"],[0.6666666666666666,\"#ed7953\"],[0.7777777777777778,\"#fb9f3a\"],[0.8888888888888888,\"#fdca26\"],[1.0,\"#f0f921\"]],\"type\":\"histogram2dcontour\"}],\"mesh3d\":[{\"colorbar\":{\"outlinewidth\":0,\"ticks\":\"\"},\"type\":\"mesh3d\"}],\"parcoords\":[{\"line\":{\"colorbar\":{\"outlinewidth\":0,\"ticks\":\"\"}},\"type\":\"parcoords\"}],\"pie\":[{\"automargin\":true,\"type\":\"pie\"}],\"scatter\":[{\"marker\":{\"colorbar\":{\"outlinewidth\":0,\"ticks\":\"\"}},\"type\":\"scatter\"}],\"scatter3d\":[{\"line\":{\"colorbar\":{\"outlinewidth\":0,\"ticks\":\"\"}},\"marker\":{\"colorbar\":{\"outlinewidth\":0,\"ticks\":\"\"}},\"type\":\"scatter3d\"}],\"scattercarpet\":[{\"marker\":{\"colorbar\":{\"outlinewidth\":0,\"ticks\":\"\"}},\"type\":\"scattercarpet\"}],\"scattergeo\":[{\"marker\":{\"colorbar\":{\"outlinewidth\":0,\"ticks\":\"\"}},\"type\":\"scattergeo\"}],\"scattergl\":[{\"marker\":{\"colorbar\":{\"outlinewidth\":0,\"ticks\":\"\"}},\"type\":\"scattergl\"}],\"scattermapbox\":[{\"marker\":{\"colorbar\":{\"outlinewidth\":0,\"ticks\":\"\"}},\"type\":\"scattermapbox\"}],\"scatterpolar\":[{\"marker\":{\"colorbar\":{\"outlinewidth\":0,\"ticks\":\"\"}},\"type\":\"scatterpolar\"}],\"scatterpolargl\":[{\"marker\":{\"colorbar\":{\"outlinewidth\":0,\"ticks\":\"\"}},\"type\":\"scatterpolargl\"}],\"scatterternary\":[{\"marker\":{\"colorbar\":{\"outlinewidth\":0,\"ticks\":\"\"}},\"type\":\"scatterternary\"}],\"surface\":[{\"colorbar\":{\"outlinewidth\":0,\"ticks\":\"\"},\"colorscale\":[[0.0,\"#0d0887\"],[0.1111111111111111,\"#46039f\"],[0.2222222222222222,\"#7201a8\"],[0.3333333333333333,\"#9c179e\"],[0.4444444444444444,\"#bd3786\"],[0.5555555555555556,\"#d8576b\"],[0.6666666666666666,\"#ed7953\"],[0.7777777777777778,\"#fb9f3a\"],[0.8888888888888888,\"#fdca26\"],[1.0,\"#f0f921\"]],\"type\":\"surface\"}],\"table\":[{\"cells\":{\"fill\":{\"color\":\"#EBF0F8\"},\"line\":{\"color\":\"white\"}},\"header\":{\"fill\":{\"color\":\"#C8D4E3\"},\"line\":{\"color\":\"white\"}},\"type\":\"table\"}]},\"layout\":{\"annotationdefaults\":{\"arrowcolor\":\"#2a3f5f\",\"arrowhead\":0,\"arrowwidth\":1},\"autotypenumbers\":\"strict\",\"coloraxis\":{\"colorbar\":{\"outlinewidth\":0,\"ticks\":\"\"}},\"colorscale\":{\"diverging\":[[0,\"#8e0152\"],[0.1,\"#c51b7d\"],[0.2,\"#de77ae\"],[0.3,\"#f1b6da\"],[0.4,\"#fde0ef\"],[0.5,\"#f7f7f7\"],[0.6,\"#e6f5d0\"],[0.7,\"#b8e186\"],[0.8,\"#7fbc41\"],[0.9,\"#4d9221\"],[1,\"#276419\"]],\"sequential\":[[0.0,\"#0d0887\"],[0.1111111111111111,\"#46039f\"],[0.2222222222222222,\"#7201a8\"],[0.3333333333333333,\"#9c179e\"],[0.4444444444444444,\"#bd3786\"],[0.5555555555555556,\"#d8576b\"],[0.6666666666666666,\"#ed7953\"],[0.7777777777777778,\"#fb9f3a\"],[0.8888888888888888,\"#fdca26\"],[1.0,\"#f0f921\"]],\"sequentialminus\":[[0.0,\"#0d0887\"],[0.1111111111111111,\"#46039f\"],[0.2222222222222222,\"#7201a8\"],[0.3333333333333333,\"#9c179e\"],[0.4444444444444444,\"#bd3786\"],[0.5555555555555556,\"#d8576b\"],[0.6666666666666666,\"#ed7953\"],[0.7777777777777778,\"#fb9f3a\"],[0.8888888888888888,\"#fdca26\"],[1.0,\"#f0f921\"]]},\"colorway\":[\"#636efa\",\"#EF553B\",\"#00cc96\",\"#ab63fa\",\"#FFA15A\",\"#19d3f3\",\"#FF6692\",\"#B6E880\",\"#FF97FF\",\"#FECB52\"],\"font\":{\"color\":\"#2a3f5f\"},\"geo\":{\"bgcolor\":\"white\",\"lakecolor\":\"white\",\"landcolor\":\"#E5ECF6\",\"showlakes\":true,\"showland\":true,\"subunitcolor\":\"white\"},\"hoverlabel\":{\"align\":\"left\"},\"hovermode\":\"closest\",\"mapbox\":{\"style\":\"light\"},\"paper_bgcolor\":\"white\",\"plot_bgcolor\":\"#E5ECF6\",\"polar\":{\"angularaxis\":{\"gridcolor\":\"white\",\"linecolor\":\"white\",\"ticks\":\"\"},\"bgcolor\":\"#E5ECF6\",\"radialaxis\":{\"gridcolor\":\"white\",\"linecolor\":\"white\",\"ticks\":\"\"}},\"scene\":{\"xaxis\":{\"backgroundcolor\":\"#E5ECF6\",\"gridcolor\":\"white\",\"gridwidth\":2,\"linecolor\":\"white\",\"showbackground\":true,\"ticks\":\"\",\"zerolinecolor\":\"white\"},\"yaxis\":{\"backgroundcolor\":\"#E5ECF6\",\"gridcolor\":\"white\",\"gridwidth\":2,\"linecolor\":\"white\",\"showbackground\":true,\"ticks\":\"\",\"zerolinecolor\":\"white\"},\"zaxis\":{\"backgroundcolor\":\"#E5ECF6\",\"gridcolor\":\"white\",\"gridwidth\":2,\"linecolor\":\"white\",\"showbackground\":true,\"ticks\":\"\",\"zerolinecolor\":\"white\"}},\"shapedefaults\":{\"line\":{\"color\":\"#2a3f5f\"}},\"ternary\":{\"aaxis\":{\"gridcolor\":\"white\",\"linecolor\":\"white\",\"ticks\":\"\"},\"baxis\":{\"gridcolor\":\"white\",\"linecolor\":\"white\",\"ticks\":\"\"},\"bgcolor\":\"#E5ECF6\",\"caxis\":{\"gridcolor\":\"white\",\"linecolor\":\"white\",\"ticks\":\"\"}},\"title\":{\"x\":0.05},\"xaxis\":{\"automargin\":true,\"gridcolor\":\"white\",\"linecolor\":\"white\",\"ticks\":\"\",\"title\":{\"standoff\":15},\"zerolinecolor\":\"white\",\"zerolinewidth\":2},\"yaxis\":{\"automargin\":true,\"gridcolor\":\"white\",\"linecolor\":\"white\",\"ticks\":\"\",\"title\":{\"standoff\":15},\"zerolinecolor\":\"white\",\"zerolinewidth\":2}}},\"legend\":{\"orientation\":\"h\",\"x\":0.5,\"xanchor\":\"center\"},\"margin\":{\"l\":0,\"r\":0,\"t\":50,\"b\":0},\"title\":{\"text\":\"\\u0414\\u0438\\u043d\\u0430\\u043c\\u0438\\u043a\\u0430 \\u043f\\u043e\\u0441\\u0435\\u0442\\u0438\\u0442\\u0435\\u043b\\u0435\\u0439/\\u0440\\u0435\\u0433\\u0438\\u0441\\u0442\\u0440\\u0430\\u0446\\u0438\\u0439/\\u0437\\u0430\\u044f\\u0432\\u043e\\u043a/\\u0438\\u0433\\u0440 \\u043f\\u043e \\u043d\\u0435\\u0434\\u0435\\u043b\\u044f\\u043c\"},\"xaxis\":{\"title\":{\"text\":\"\\u0414\\u0430\\u0442\\u0430\"}},\"yaxis\":{\"title\":{\"text\":\"\\u041a\\u043e\\u043b\\u0438\\u0447\\u0435\\u0441\\u0442\\u0432\\u043e\"}},\"hovermode\":\"x\"},                        {\"responsive\": true}                    ).then(function(){\n",
       "                            \n",
       "var gd = document.getElementById('7c7c54d8-0af6-4bd2-9e69-1f499bb342cc');\n",
       "var x = new MutationObserver(function (mutations, observer) {{\n",
       "        var display = window.getComputedStyle(gd).display;\n",
       "        if (!display || display === 'none') {{\n",
       "            console.log([gd, 'removed!']);\n",
       "            Plotly.purge(gd);\n",
       "            observer.disconnect();\n",
       "        }}\n",
       "}});\n",
       "\n",
       "// Listen for the removal of the full notebook cells\n",
       "var notebookContainer = gd.closest('#notebook-container');\n",
       "if (notebookContainer) {{\n",
       "    x.observe(notebookContainer, {childList: true});\n",
       "}}\n",
       "\n",
       "// Listen for the clearing of the current output cell\n",
       "var outputEl = gd.closest('.output');\n",
       "if (outputEl) {{\n",
       "    x.observe(outputEl, {childList: true});\n",
       "}}\n",
       "\n",
       "                        })                };                });            </script>        </div>"
      ]
     },
     "metadata": {},
     "output_type": "display_data"
    }
   ],
   "source": [
    "fig = go.Figure()\n",
    "fig.add_trace(go.Scatter(x=df['first_day_of_week'], y=df['visits_by_week'],mode='lines+markers',  name='Посетили сайт'))\n",
    "fig.add_trace(go.Scatter(x=df['first_day_of_week'], y=df['account_created_by_week'],mode='lines+markers', name='Зарегистрировали аккаунт'))\n",
    "fig.add_trace(go.Scatter(x=df['first_day_of_week'], y=df['application_created_by_week'],mode='lines+markers', name='Оставили заявку'))\n",
    "fig.add_trace(go.Scatter(x=df['first_day_of_week'], y=df['games_by_week'],mode='lines+markers', name='Пришли на игру'))\n",
    "fig.update_layout(title=\"Динамика посетителей/регистраций/заявок/игр по неделям\",\n",
    "                  xaxis_title=\"Дата\",\n",
    "                  yaxis_title=\"Количество\",\n",
    "                  legend_orientation=\"h\",\n",
    "                  legend=dict(x=.5, xanchor=\"center\"),\n",
    "                  hovermode=\"x\",\n",
    "                  margin=dict(l=0, r=0, t=50, b=0))\n",
    "week_number = df['week']\n",
    "fig.update_traces(hoverinfo=\"all\", hovertemplate=\"Первый день недели: %{x}<br>Количество: %{y}\")\n",
    "fig.show()"
   ]
  },
  {
   "cell_type": "markdown",
   "id": "efdca108",
   "metadata": {},
   "source": [
    "### Если судить по этим двум графикам выше, то может показаться, что количество посетителей/регистраций/заявок/посещенных игр стабильно, но давайте вглянем на общую динамику наших показателей\n",
    "\n",
    "#### P.S. февраль можно не учитывать, т.к. в БД данные только за первые 3 дня февраля."
   ]
  },
  {
   "cell_type": "code",
   "execution_count": 22,
   "id": "c7d9e088",
   "metadata": {},
   "outputs": [
    {
     "data": {
      "application/vnd.plotly.v1+json": {
       "config": {
        "plotlyServerURL": "https://plot.ly"
       },
       "data": [
        {
         "hoverinfo": "all",
         "hovertemplate": "Дата: %{x}<br>Количество: %{y}",
         "mode": "lines",
         "name": "Посетили сайт",
         "type": "scatter",
         "x": [
          "2022-09-01",
          "2022-09-02",
          "2022-09-03",
          "2022-09-04",
          "2022-09-05",
          "2022-09-06",
          "2022-09-07",
          "2022-09-08",
          "2022-09-09",
          "2022-09-10",
          "2022-09-11",
          "2022-09-12",
          "2022-09-13",
          "2022-09-14",
          "2022-09-15",
          "2022-09-16",
          "2022-09-17",
          "2022-09-18",
          "2022-09-19",
          "2022-09-20",
          "2022-09-21",
          "2022-09-22",
          "2022-09-23",
          "2022-09-24",
          "2022-09-25",
          "2022-09-26",
          "2022-09-27",
          "2022-09-28",
          "2022-09-29",
          "2022-09-30",
          "2022-10-01",
          "2022-10-02",
          "2022-10-03",
          "2022-10-04",
          "2022-10-05",
          "2022-10-06",
          "2022-10-07",
          "2022-10-08",
          "2022-10-09",
          "2022-10-10",
          "2022-10-11",
          "2022-10-12",
          "2022-10-13",
          "2022-10-14",
          "2022-10-15",
          "2022-10-16",
          "2022-10-17",
          "2022-10-18",
          "2022-10-19",
          "2022-10-20",
          "2022-10-21",
          "2022-10-22",
          "2022-10-23",
          "2022-10-24",
          "2022-10-25",
          "2022-10-26",
          "2022-10-27",
          "2022-10-28",
          "2022-10-29",
          "2022-10-30",
          "2022-10-31",
          "2022-11-01",
          "2022-11-02",
          "2022-11-03",
          "2022-11-04",
          "2022-11-05",
          "2022-11-06",
          "2022-11-07",
          "2022-11-08",
          "2022-11-09",
          "2022-11-10",
          "2022-11-11",
          "2022-11-12",
          "2022-11-13",
          "2022-11-14",
          "2022-11-15",
          "2022-11-16",
          "2022-11-17",
          "2022-11-18",
          "2022-11-19",
          "2022-11-20",
          "2022-11-21",
          "2022-11-22",
          "2022-11-23",
          "2022-11-24",
          "2022-11-25",
          "2022-11-26",
          "2022-11-27",
          "2022-11-28",
          "2022-11-29",
          "2022-11-30",
          "2022-12-01",
          "2022-12-02",
          "2022-12-03",
          "2022-12-04",
          "2022-12-05",
          "2022-12-06",
          "2022-12-07",
          "2022-12-08",
          "2022-12-09",
          "2022-12-10",
          "2022-12-11",
          "2022-12-12",
          "2022-12-13",
          "2022-12-14",
          "2022-12-15",
          "2022-12-16",
          "2022-12-17",
          "2022-12-18",
          "2022-12-19",
          "2022-12-20",
          "2022-12-21",
          "2022-12-22",
          "2022-12-23",
          "2022-12-24",
          "2022-12-25",
          "2022-12-26",
          "2022-12-27",
          "2022-12-28",
          "2022-12-29",
          "2022-12-30",
          "2022-12-31",
          "2023-01-01",
          "2023-01-02",
          "2023-01-03",
          "2023-01-04",
          "2023-01-05",
          "2023-01-06",
          "2023-01-07",
          "2023-01-08",
          "2023-01-09",
          "2023-01-10",
          "2023-01-11",
          "2023-01-12",
          "2023-01-13",
          "2023-01-14",
          "2023-01-15",
          "2023-01-16",
          "2023-01-17",
          "2023-01-18",
          "2023-01-19",
          "2023-01-20",
          "2023-01-21",
          "2023-01-22",
          "2023-01-23",
          "2023-01-24",
          "2023-01-25",
          "2023-01-26",
          "2023-01-27",
          "2023-01-28",
          "2023-01-29",
          "2023-01-30",
          "2023-01-31",
          "2023-02-01",
          "2023-02-02"
         ],
         "y": [
          25,
          50,
          75,
          111,
          128,
          154,
          178,
          203,
          236,
          258,
          295,
          326,
          348,
          374,
          397,
          413,
          438,
          462,
          488,
          515,
          538,
          560,
          585,
          613,
          643,
          664,
          690,
          721,
          747,
          778,
          804,
          838,
          862,
          896,
          928,
          964,
          989,
          1013,
          1042,
          1066,
          1096,
          1137,
          1161,
          1184,
          1202,
          1232,
          1247,
          1277,
          1294,
          1323,
          1343,
          1376,
          1403,
          1427,
          1452,
          1476,
          1503,
          1536,
          1573,
          1592,
          1621,
          1652,
          1685,
          1709,
          1740,
          1764,
          1789,
          1809,
          1828,
          1858,
          1877,
          1907,
          1931,
          1962,
          1986,
          2010,
          2040,
          2067,
          2097,
          2116,
          2141,
          2169,
          2195,
          2218,
          2247,
          2269,
          2295,
          2321,
          2352,
          2383,
          2407,
          2426,
          2443,
          2474,
          2498,
          2518,
          2542,
          2572,
          2597,
          2624,
          2649,
          2666,
          2699,
          2728,
          2749,
          2778,
          2805,
          2830,
          2862,
          2889,
          2918,
          2939,
          2964,
          2994,
          3024,
          3054,
          3079,
          3110,
          3135,
          3155,
          3185,
          3212,
          3246,
          3270,
          3297,
          3322,
          3346,
          3382,
          3415,
          3447,
          3470,
          3494,
          3524,
          3550,
          3584,
          3618,
          3652,
          3676,
          3699,
          3723,
          3753,
          3779,
          3802,
          3833,
          3862,
          3889,
          3914,
          3941,
          3965,
          3990,
          4015,
          4044,
          4064,
          4091,
          4096
         ]
        },
        {
         "hoverinfo": "all",
         "hovertemplate": "Дата: %{x}<br>Количество: %{y}",
         "mode": "lines",
         "name": "Зарегистрировали аккаунт",
         "type": "scatter",
         "x": [
          "2022-09-01",
          "2022-09-02",
          "2022-09-03",
          "2022-09-04",
          "2022-09-05",
          "2022-09-06",
          "2022-09-07",
          "2022-09-08",
          "2022-09-09",
          "2022-09-10",
          "2022-09-11",
          "2022-09-12",
          "2022-09-13",
          "2022-09-14",
          "2022-09-15",
          "2022-09-16",
          "2022-09-17",
          "2022-09-18",
          "2022-09-19",
          "2022-09-20",
          "2022-09-21",
          "2022-09-22",
          "2022-09-23",
          "2022-09-24",
          "2022-09-25",
          "2022-09-26",
          "2022-09-27",
          "2022-09-28",
          "2022-09-29",
          "2022-09-30",
          "2022-10-01",
          "2022-10-02",
          "2022-10-03",
          "2022-10-04",
          "2022-10-05",
          "2022-10-06",
          "2022-10-07",
          "2022-10-08",
          "2022-10-09",
          "2022-10-10",
          "2022-10-11",
          "2022-10-12",
          "2022-10-13",
          "2022-10-14",
          "2022-10-15",
          "2022-10-16",
          "2022-10-17",
          "2022-10-18",
          "2022-10-19",
          "2022-10-20",
          "2022-10-21",
          "2022-10-22",
          "2022-10-23",
          "2022-10-24",
          "2022-10-25",
          "2022-10-26",
          "2022-10-27",
          "2022-10-28",
          "2022-10-29",
          "2022-10-30",
          "2022-10-31",
          "2022-11-01",
          "2022-11-02",
          "2022-11-03",
          "2022-11-04",
          "2022-11-05",
          "2022-11-06",
          "2022-11-07",
          "2022-11-08",
          "2022-11-09",
          "2022-11-10",
          "2022-11-11",
          "2022-11-12",
          "2022-11-13",
          "2022-11-14",
          "2022-11-15",
          "2022-11-16",
          "2022-11-17",
          "2022-11-18",
          "2022-11-19",
          "2022-11-20",
          "2022-11-21",
          "2022-11-22",
          "2022-11-23",
          "2022-11-24",
          "2022-11-25",
          "2022-11-26",
          "2022-11-27",
          "2022-11-28",
          "2022-11-29",
          "2022-11-30",
          "2022-12-01",
          "2022-12-02",
          "2022-12-03",
          "2022-12-04",
          "2022-12-05",
          "2022-12-06",
          "2022-12-07",
          "2022-12-08",
          "2022-12-09",
          "2022-12-10",
          "2022-12-11",
          "2022-12-12",
          "2022-12-13",
          "2022-12-14",
          "2022-12-15",
          "2022-12-16",
          "2022-12-17",
          "2022-12-18",
          "2022-12-19",
          "2022-12-20",
          "2022-12-21",
          "2022-12-22",
          "2022-12-23",
          "2022-12-24",
          "2022-12-25",
          "2022-12-26",
          "2022-12-27",
          "2022-12-28",
          "2022-12-29",
          "2022-12-30",
          "2022-12-31",
          "2023-01-01",
          "2023-01-02",
          "2023-01-03",
          "2023-01-04",
          "2023-01-05",
          "2023-01-06",
          "2023-01-07",
          "2023-01-08",
          "2023-01-09",
          "2023-01-10",
          "2023-01-11",
          "2023-01-12",
          "2023-01-13",
          "2023-01-14",
          "2023-01-15",
          "2023-01-16",
          "2023-01-17",
          "2023-01-18",
          "2023-01-19",
          "2023-01-20",
          "2023-01-21",
          "2023-01-22",
          "2023-01-23",
          "2023-01-24",
          "2023-01-25",
          "2023-01-26",
          "2023-01-27",
          "2023-01-28",
          "2023-01-29",
          "2023-01-30",
          "2023-01-31",
          "2023-02-01",
          "2023-02-02"
         ],
         "y": [
          3,
          6,
          16,
          22,
          33,
          42,
          46,
          49,
          49,
          54,
          60,
          69,
          75,
          83,
          89,
          92,
          99,
          102,
          111,
          115,
          121,
          127,
          134,
          140,
          148,
          153,
          159,
          174,
          179,
          186,
          195,
          204,
          217,
          226,
          230,
          240,
          248,
          256,
          263,
          271,
          275,
          282,
          287,
          295,
          300,
          309,
          314,
          318,
          324,
          331,
          334,
          339,
          351,
          357,
          366,
          371,
          374,
          379,
          391,
          399,
          405,
          411,
          416,
          423,
          428,
          438,
          445,
          451,
          457,
          463,
          474,
          477,
          485,
          488,
          494,
          499,
          505,
          511,
          518,
          521,
          524,
          531,
          544,
          552,
          560,
          567,
          571,
          576,
          583,
          590,
          600,
          609,
          611,
          616,
          621,
          624,
          629,
          639,
          650,
          656,
          662,
          665,
          670,
          680,
          682,
          694,
          703,
          709,
          717,
          724,
          731,
          738,
          743,
          750,
          755,
          763,
          769,
          771,
          779,
          787,
          792,
          800,
          807,
          813,
          820,
          830,
          833,
          840,
          851,
          862,
          873,
          880,
          888,
          893,
          902,
          907,
          916,
          922,
          924,
          925,
          930,
          939,
          949,
          958,
          963,
          967,
          973,
          982,
          986,
          992,
          998,
          1008,
          1015,
          1021,
          1024
         ]
        },
        {
         "hoverinfo": "all",
         "hovertemplate": "Дата: %{x}<br>Количество: %{y}",
         "mode": "lines",
         "name": "Оставили заявку",
         "type": "scatter",
         "x": [
          "2022-09-01",
          "2022-09-02",
          "2022-09-03",
          "2022-09-04",
          "2022-09-05",
          "2022-09-06",
          "2022-09-07",
          "2022-09-08",
          "2022-09-09",
          "2022-09-10",
          "2022-09-11",
          "2022-09-12",
          "2022-09-13",
          "2022-09-14",
          "2022-09-15",
          "2022-09-16",
          "2022-09-17",
          "2022-09-18",
          "2022-09-19",
          "2022-09-20",
          "2022-09-21",
          "2022-09-22",
          "2022-09-23",
          "2022-09-24",
          "2022-09-25",
          "2022-09-26",
          "2022-09-27",
          "2022-09-28",
          "2022-09-29",
          "2022-09-30",
          "2022-10-01",
          "2022-10-02",
          "2022-10-03",
          "2022-10-04",
          "2022-10-05",
          "2022-10-06",
          "2022-10-07",
          "2022-10-08",
          "2022-10-09",
          "2022-10-10",
          "2022-10-11",
          "2022-10-12",
          "2022-10-13",
          "2022-10-14",
          "2022-10-15",
          "2022-10-16",
          "2022-10-17",
          "2022-10-18",
          "2022-10-19",
          "2022-10-20",
          "2022-10-21",
          "2022-10-22",
          "2022-10-23",
          "2022-10-24",
          "2022-10-25",
          "2022-10-26",
          "2022-10-27",
          "2022-10-28",
          "2022-10-29",
          "2022-10-30",
          "2022-10-31",
          "2022-11-01",
          "2022-11-02",
          "2022-11-03",
          "2022-11-04",
          "2022-11-05",
          "2022-11-06",
          "2022-11-07",
          "2022-11-08",
          "2022-11-09",
          "2022-11-10",
          "2022-11-11",
          "2022-11-12",
          "2022-11-13",
          "2022-11-14",
          "2022-11-15",
          "2022-11-16",
          "2022-11-17",
          "2022-11-18",
          "2022-11-19",
          "2022-11-20",
          "2022-11-21",
          "2022-11-22",
          "2022-11-23",
          "2022-11-24",
          "2022-11-25",
          "2022-11-26",
          "2022-11-27",
          "2022-11-28",
          "2022-11-29",
          "2022-11-30",
          "2022-12-01",
          "2022-12-02",
          "2022-12-03",
          "2022-12-04",
          "2022-12-05",
          "2022-12-06",
          "2022-12-07",
          "2022-12-08",
          "2022-12-09",
          "2022-12-10",
          "2022-12-11",
          "2022-12-12",
          "2022-12-13",
          "2022-12-14",
          "2022-12-15",
          "2022-12-16",
          "2022-12-17",
          "2022-12-18",
          "2022-12-19",
          "2022-12-20",
          "2022-12-21",
          "2022-12-22",
          "2022-12-23",
          "2022-12-24",
          "2022-12-25",
          "2022-12-26",
          "2022-12-27",
          "2022-12-28",
          "2022-12-29",
          "2022-12-30",
          "2022-12-31",
          "2023-01-01",
          "2023-01-02",
          "2023-01-03",
          "2023-01-04",
          "2023-01-05",
          "2023-01-06",
          "2023-01-07",
          "2023-01-08",
          "2023-01-09",
          "2023-01-10",
          "2023-01-11",
          "2023-01-12",
          "2023-01-13",
          "2023-01-14",
          "2023-01-15",
          "2023-01-16",
          "2023-01-17",
          "2023-01-18",
          "2023-01-19",
          "2023-01-20",
          "2023-01-21",
          "2023-01-22",
          "2023-01-23",
          "2023-01-24",
          "2023-01-25",
          "2023-01-26",
          "2023-01-27",
          "2023-01-28",
          "2023-01-29",
          "2023-01-30",
          "2023-01-31",
          "2023-02-01",
          "2023-02-02"
         ],
         "y": [
          null,
          null,
          null,
          null,
          1,
          3,
          5,
          5,
          5,
          7,
          7,
          9,
          12,
          14,
          15,
          20,
          22,
          24,
          26,
          29,
          30,
          33,
          38,
          44,
          48,
          53,
          53,
          57,
          59,
          63,
          65,
          66,
          70,
          75,
          78,
          87,
          89,
          94,
          99,
          105,
          108,
          110,
          116,
          119,
          121,
          127,
          134,
          136,
          137,
          142,
          145,
          147,
          151,
          153,
          158,
          160,
          160,
          163,
          164,
          169,
          172,
          175,
          179,
          185,
          187,
          189,
          194,
          198,
          201,
          205,
          211,
          216,
          220,
          224,
          228,
          229,
          231,
          233,
          243,
          246,
          249,
          250,
          252,
          254,
          258,
          265,
          266,
          268,
          272,
          275,
          279,
          281,
          287,
          288,
          290,
          291,
          295,
          295,
          297,
          301,
          306,
          310,
          312,
          315,
          319,
          321,
          323,
          326,
          329,
          330,
          336,
          340,
          344,
          348,
          352,
          357,
          361,
          363,
          364,
          367,
          371,
          376,
          381,
          384,
          384,
          388,
          390,
          395,
          401,
          405,
          409,
          410,
          414,
          416,
          420,
          424,
          428,
          436,
          438,
          439,
          444,
          452,
          461,
          468,
          473,
          478,
          483,
          487,
          492,
          500,
          501,
          507,
          509,
          512,
          512
         ]
        },
        {
         "hoverinfo": "all",
         "hovertemplate": "Дата: %{x}<br>Количество: %{y}",
         "mode": "lines",
         "name": "Пришли на игру",
         "type": "scatter",
         "x": [
          "2022-09-01",
          "2022-09-02",
          "2022-09-03",
          "2022-09-04",
          "2022-09-05",
          "2022-09-06",
          "2022-09-07",
          "2022-09-08",
          "2022-09-09",
          "2022-09-10",
          "2022-09-11",
          "2022-09-12",
          "2022-09-13",
          "2022-09-14",
          "2022-09-15",
          "2022-09-16",
          "2022-09-17",
          "2022-09-18",
          "2022-09-19",
          "2022-09-20",
          "2022-09-21",
          "2022-09-22",
          "2022-09-23",
          "2022-09-24",
          "2022-09-25",
          "2022-09-26",
          "2022-09-27",
          "2022-09-28",
          "2022-09-29",
          "2022-09-30",
          "2022-10-01",
          "2022-10-02",
          "2022-10-03",
          "2022-10-04",
          "2022-10-05",
          "2022-10-06",
          "2022-10-07",
          "2022-10-08",
          "2022-10-09",
          "2022-10-10",
          "2022-10-11",
          "2022-10-12",
          "2022-10-13",
          "2022-10-14",
          "2022-10-15",
          "2022-10-16",
          "2022-10-17",
          "2022-10-18",
          "2022-10-19",
          "2022-10-20",
          "2022-10-21",
          "2022-10-22",
          "2022-10-23",
          "2022-10-24",
          "2022-10-25",
          "2022-10-26",
          "2022-10-27",
          "2022-10-28",
          "2022-10-29",
          "2022-10-30",
          "2022-10-31",
          "2022-11-01",
          "2022-11-02",
          "2022-11-03",
          "2022-11-04",
          "2022-11-05",
          "2022-11-06",
          "2022-11-07",
          "2022-11-08",
          "2022-11-09",
          "2022-11-10",
          "2022-11-11",
          "2022-11-12",
          "2022-11-13",
          "2022-11-14",
          "2022-11-15",
          "2022-11-16",
          "2022-11-17",
          "2022-11-18",
          "2022-11-19",
          "2022-11-20",
          "2022-11-21",
          "2022-11-22",
          "2022-11-23",
          "2022-11-24",
          "2022-11-25",
          "2022-11-26",
          "2022-11-27",
          "2022-11-28",
          "2022-11-29",
          "2022-11-30",
          "2022-12-01",
          "2022-12-02",
          "2022-12-03",
          "2022-12-04",
          "2022-12-05",
          "2022-12-06",
          "2022-12-07",
          "2022-12-08",
          "2022-12-09",
          "2022-12-10",
          "2022-12-11",
          "2022-12-12",
          "2022-12-13",
          "2022-12-14",
          "2022-12-15",
          "2022-12-16",
          "2022-12-17",
          "2022-12-18",
          "2022-12-19",
          "2022-12-20",
          "2022-12-21",
          "2022-12-22",
          "2022-12-23",
          "2022-12-24",
          "2022-12-25",
          "2022-12-26",
          "2022-12-27",
          "2022-12-28",
          "2022-12-29",
          "2022-12-30",
          "2022-12-31",
          "2023-01-01",
          "2023-01-02",
          "2023-01-03",
          "2023-01-04",
          "2023-01-05",
          "2023-01-06",
          "2023-01-07",
          "2023-01-08",
          "2023-01-09",
          "2023-01-10",
          "2023-01-11",
          "2023-01-12",
          "2023-01-13",
          "2023-01-14",
          "2023-01-15",
          "2023-01-16",
          "2023-01-17",
          "2023-01-18",
          "2023-01-19",
          "2023-01-20",
          "2023-01-21",
          "2023-01-22",
          "2023-01-23",
          "2023-01-24",
          "2023-01-25",
          "2023-01-26",
          "2023-01-27",
          "2023-01-28",
          "2023-01-29",
          "2023-01-30",
          "2023-01-31",
          "2023-02-01",
          "2023-02-02"
         ],
         "y": [
          null,
          null,
          null,
          null,
          null,
          null,
          null,
          null,
          null,
          null,
          null,
          null,
          null,
          null,
          null,
          1,
          1,
          1,
          1,
          1,
          1,
          1,
          1,
          1,
          2,
          2,
          2,
          2,
          2,
          2,
          2,
          3,
          3,
          3,
          4,
          5,
          5,
          6,
          8,
          8,
          8,
          8,
          10,
          10,
          10,
          11,
          11,
          14,
          15,
          15,
          16,
          16,
          16,
          17,
          21,
          21,
          22,
          22,
          23,
          23,
          23,
          26,
          27,
          28,
          29,
          30,
          31,
          31,
          32,
          33,
          36,
          38,
          40,
          41,
          43,
          44,
          45,
          46,
          46,
          47,
          48,
          50,
          52,
          54,
          56,
          60,
          62,
          62,
          64,
          65,
          66,
          68,
          69,
          71,
          72,
          75,
          79,
          82,
          82,
          83,
          83,
          85,
          87,
          88,
          90,
          91,
          92,
          93,
          96,
          97,
          97,
          99,
          101,
          102,
          103,
          103,
          105,
          106,
          106,
          108,
          111,
          113,
          114,
          117,
          121,
          124,
          127,
          127,
          128,
          130,
          132,
          132,
          132,
          132,
          132,
          136,
          138,
          138,
          139,
          141,
          142,
          144,
          150,
          153,
          154,
          156,
          157,
          162,
          167,
          169,
          170,
          172,
          176,
          179,
          179
         ]
        }
       ],
       "layout": {
        "hovermode": "x",
        "legend": {
         "orientation": "h",
         "x": 0.5,
         "xanchor": "center"
        },
        "margin": {
         "b": 0,
         "l": 0,
         "r": 0,
         "t": 50
        },
        "template": {
         "data": {
          "bar": [
           {
            "error_x": {
             "color": "#2a3f5f"
            },
            "error_y": {
             "color": "#2a3f5f"
            },
            "marker": {
             "line": {
              "color": "#E5ECF6",
              "width": 0.5
             },
             "pattern": {
              "fillmode": "overlay",
              "size": 10,
              "solidity": 0.2
             }
            },
            "type": "bar"
           }
          ],
          "barpolar": [
           {
            "marker": {
             "line": {
              "color": "#E5ECF6",
              "width": 0.5
             },
             "pattern": {
              "fillmode": "overlay",
              "size": 10,
              "solidity": 0.2
             }
            },
            "type": "barpolar"
           }
          ],
          "carpet": [
           {
            "aaxis": {
             "endlinecolor": "#2a3f5f",
             "gridcolor": "white",
             "linecolor": "white",
             "minorgridcolor": "white",
             "startlinecolor": "#2a3f5f"
            },
            "baxis": {
             "endlinecolor": "#2a3f5f",
             "gridcolor": "white",
             "linecolor": "white",
             "minorgridcolor": "white",
             "startlinecolor": "#2a3f5f"
            },
            "type": "carpet"
           }
          ],
          "choropleth": [
           {
            "colorbar": {
             "outlinewidth": 0,
             "ticks": ""
            },
            "type": "choropleth"
           }
          ],
          "contour": [
           {
            "colorbar": {
             "outlinewidth": 0,
             "ticks": ""
            },
            "colorscale": [
             [
              0,
              "#0d0887"
             ],
             [
              0.1111111111111111,
              "#46039f"
             ],
             [
              0.2222222222222222,
              "#7201a8"
             ],
             [
              0.3333333333333333,
              "#9c179e"
             ],
             [
              0.4444444444444444,
              "#bd3786"
             ],
             [
              0.5555555555555556,
              "#d8576b"
             ],
             [
              0.6666666666666666,
              "#ed7953"
             ],
             [
              0.7777777777777778,
              "#fb9f3a"
             ],
             [
              0.8888888888888888,
              "#fdca26"
             ],
             [
              1,
              "#f0f921"
             ]
            ],
            "type": "contour"
           }
          ],
          "contourcarpet": [
           {
            "colorbar": {
             "outlinewidth": 0,
             "ticks": ""
            },
            "type": "contourcarpet"
           }
          ],
          "heatmap": [
           {
            "colorbar": {
             "outlinewidth": 0,
             "ticks": ""
            },
            "colorscale": [
             [
              0,
              "#0d0887"
             ],
             [
              0.1111111111111111,
              "#46039f"
             ],
             [
              0.2222222222222222,
              "#7201a8"
             ],
             [
              0.3333333333333333,
              "#9c179e"
             ],
             [
              0.4444444444444444,
              "#bd3786"
             ],
             [
              0.5555555555555556,
              "#d8576b"
             ],
             [
              0.6666666666666666,
              "#ed7953"
             ],
             [
              0.7777777777777778,
              "#fb9f3a"
             ],
             [
              0.8888888888888888,
              "#fdca26"
             ],
             [
              1,
              "#f0f921"
             ]
            ],
            "type": "heatmap"
           }
          ],
          "heatmapgl": [
           {
            "colorbar": {
             "outlinewidth": 0,
             "ticks": ""
            },
            "colorscale": [
             [
              0,
              "#0d0887"
             ],
             [
              0.1111111111111111,
              "#46039f"
             ],
             [
              0.2222222222222222,
              "#7201a8"
             ],
             [
              0.3333333333333333,
              "#9c179e"
             ],
             [
              0.4444444444444444,
              "#bd3786"
             ],
             [
              0.5555555555555556,
              "#d8576b"
             ],
             [
              0.6666666666666666,
              "#ed7953"
             ],
             [
              0.7777777777777778,
              "#fb9f3a"
             ],
             [
              0.8888888888888888,
              "#fdca26"
             ],
             [
              1,
              "#f0f921"
             ]
            ],
            "type": "heatmapgl"
           }
          ],
          "histogram": [
           {
            "marker": {
             "pattern": {
              "fillmode": "overlay",
              "size": 10,
              "solidity": 0.2
             }
            },
            "type": "histogram"
           }
          ],
          "histogram2d": [
           {
            "colorbar": {
             "outlinewidth": 0,
             "ticks": ""
            },
            "colorscale": [
             [
              0,
              "#0d0887"
             ],
             [
              0.1111111111111111,
              "#46039f"
             ],
             [
              0.2222222222222222,
              "#7201a8"
             ],
             [
              0.3333333333333333,
              "#9c179e"
             ],
             [
              0.4444444444444444,
              "#bd3786"
             ],
             [
              0.5555555555555556,
              "#d8576b"
             ],
             [
              0.6666666666666666,
              "#ed7953"
             ],
             [
              0.7777777777777778,
              "#fb9f3a"
             ],
             [
              0.8888888888888888,
              "#fdca26"
             ],
             [
              1,
              "#f0f921"
             ]
            ],
            "type": "histogram2d"
           }
          ],
          "histogram2dcontour": [
           {
            "colorbar": {
             "outlinewidth": 0,
             "ticks": ""
            },
            "colorscale": [
             [
              0,
              "#0d0887"
             ],
             [
              0.1111111111111111,
              "#46039f"
             ],
             [
              0.2222222222222222,
              "#7201a8"
             ],
             [
              0.3333333333333333,
              "#9c179e"
             ],
             [
              0.4444444444444444,
              "#bd3786"
             ],
             [
              0.5555555555555556,
              "#d8576b"
             ],
             [
              0.6666666666666666,
              "#ed7953"
             ],
             [
              0.7777777777777778,
              "#fb9f3a"
             ],
             [
              0.8888888888888888,
              "#fdca26"
             ],
             [
              1,
              "#f0f921"
             ]
            ],
            "type": "histogram2dcontour"
           }
          ],
          "mesh3d": [
           {
            "colorbar": {
             "outlinewidth": 0,
             "ticks": ""
            },
            "type": "mesh3d"
           }
          ],
          "parcoords": [
           {
            "line": {
             "colorbar": {
              "outlinewidth": 0,
              "ticks": ""
             }
            },
            "type": "parcoords"
           }
          ],
          "pie": [
           {
            "automargin": true,
            "type": "pie"
           }
          ],
          "scatter": [
           {
            "marker": {
             "colorbar": {
              "outlinewidth": 0,
              "ticks": ""
             }
            },
            "type": "scatter"
           }
          ],
          "scatter3d": [
           {
            "line": {
             "colorbar": {
              "outlinewidth": 0,
              "ticks": ""
             }
            },
            "marker": {
             "colorbar": {
              "outlinewidth": 0,
              "ticks": ""
             }
            },
            "type": "scatter3d"
           }
          ],
          "scattercarpet": [
           {
            "marker": {
             "colorbar": {
              "outlinewidth": 0,
              "ticks": ""
             }
            },
            "type": "scattercarpet"
           }
          ],
          "scattergeo": [
           {
            "marker": {
             "colorbar": {
              "outlinewidth": 0,
              "ticks": ""
             }
            },
            "type": "scattergeo"
           }
          ],
          "scattergl": [
           {
            "marker": {
             "colorbar": {
              "outlinewidth": 0,
              "ticks": ""
             }
            },
            "type": "scattergl"
           }
          ],
          "scattermapbox": [
           {
            "marker": {
             "colorbar": {
              "outlinewidth": 0,
              "ticks": ""
             }
            },
            "type": "scattermapbox"
           }
          ],
          "scatterpolar": [
           {
            "marker": {
             "colorbar": {
              "outlinewidth": 0,
              "ticks": ""
             }
            },
            "type": "scatterpolar"
           }
          ],
          "scatterpolargl": [
           {
            "marker": {
             "colorbar": {
              "outlinewidth": 0,
              "ticks": ""
             }
            },
            "type": "scatterpolargl"
           }
          ],
          "scatterternary": [
           {
            "marker": {
             "colorbar": {
              "outlinewidth": 0,
              "ticks": ""
             }
            },
            "type": "scatterternary"
           }
          ],
          "surface": [
           {
            "colorbar": {
             "outlinewidth": 0,
             "ticks": ""
            },
            "colorscale": [
             [
              0,
              "#0d0887"
             ],
             [
              0.1111111111111111,
              "#46039f"
             ],
             [
              0.2222222222222222,
              "#7201a8"
             ],
             [
              0.3333333333333333,
              "#9c179e"
             ],
             [
              0.4444444444444444,
              "#bd3786"
             ],
             [
              0.5555555555555556,
              "#d8576b"
             ],
             [
              0.6666666666666666,
              "#ed7953"
             ],
             [
              0.7777777777777778,
              "#fb9f3a"
             ],
             [
              0.8888888888888888,
              "#fdca26"
             ],
             [
              1,
              "#f0f921"
             ]
            ],
            "type": "surface"
           }
          ],
          "table": [
           {
            "cells": {
             "fill": {
              "color": "#EBF0F8"
             },
             "line": {
              "color": "white"
             }
            },
            "header": {
             "fill": {
              "color": "#C8D4E3"
             },
             "line": {
              "color": "white"
             }
            },
            "type": "table"
           }
          ]
         },
         "layout": {
          "annotationdefaults": {
           "arrowcolor": "#2a3f5f",
           "arrowhead": 0,
           "arrowwidth": 1
          },
          "autotypenumbers": "strict",
          "coloraxis": {
           "colorbar": {
            "outlinewidth": 0,
            "ticks": ""
           }
          },
          "colorscale": {
           "diverging": [
            [
             0,
             "#8e0152"
            ],
            [
             0.1,
             "#c51b7d"
            ],
            [
             0.2,
             "#de77ae"
            ],
            [
             0.3,
             "#f1b6da"
            ],
            [
             0.4,
             "#fde0ef"
            ],
            [
             0.5,
             "#f7f7f7"
            ],
            [
             0.6,
             "#e6f5d0"
            ],
            [
             0.7,
             "#b8e186"
            ],
            [
             0.8,
             "#7fbc41"
            ],
            [
             0.9,
             "#4d9221"
            ],
            [
             1,
             "#276419"
            ]
           ],
           "sequential": [
            [
             0,
             "#0d0887"
            ],
            [
             0.1111111111111111,
             "#46039f"
            ],
            [
             0.2222222222222222,
             "#7201a8"
            ],
            [
             0.3333333333333333,
             "#9c179e"
            ],
            [
             0.4444444444444444,
             "#bd3786"
            ],
            [
             0.5555555555555556,
             "#d8576b"
            ],
            [
             0.6666666666666666,
             "#ed7953"
            ],
            [
             0.7777777777777778,
             "#fb9f3a"
            ],
            [
             0.8888888888888888,
             "#fdca26"
            ],
            [
             1,
             "#f0f921"
            ]
           ],
           "sequentialminus": [
            [
             0,
             "#0d0887"
            ],
            [
             0.1111111111111111,
             "#46039f"
            ],
            [
             0.2222222222222222,
             "#7201a8"
            ],
            [
             0.3333333333333333,
             "#9c179e"
            ],
            [
             0.4444444444444444,
             "#bd3786"
            ],
            [
             0.5555555555555556,
             "#d8576b"
            ],
            [
             0.6666666666666666,
             "#ed7953"
            ],
            [
             0.7777777777777778,
             "#fb9f3a"
            ],
            [
             0.8888888888888888,
             "#fdca26"
            ],
            [
             1,
             "#f0f921"
            ]
           ]
          },
          "colorway": [
           "#636efa",
           "#EF553B",
           "#00cc96",
           "#ab63fa",
           "#FFA15A",
           "#19d3f3",
           "#FF6692",
           "#B6E880",
           "#FF97FF",
           "#FECB52"
          ],
          "font": {
           "color": "#2a3f5f"
          },
          "geo": {
           "bgcolor": "white",
           "lakecolor": "white",
           "landcolor": "#E5ECF6",
           "showlakes": true,
           "showland": true,
           "subunitcolor": "white"
          },
          "hoverlabel": {
           "align": "left"
          },
          "hovermode": "closest",
          "mapbox": {
           "style": "light"
          },
          "paper_bgcolor": "white",
          "plot_bgcolor": "#E5ECF6",
          "polar": {
           "angularaxis": {
            "gridcolor": "white",
            "linecolor": "white",
            "ticks": ""
           },
           "bgcolor": "#E5ECF6",
           "radialaxis": {
            "gridcolor": "white",
            "linecolor": "white",
            "ticks": ""
           }
          },
          "scene": {
           "xaxis": {
            "backgroundcolor": "#E5ECF6",
            "gridcolor": "white",
            "gridwidth": 2,
            "linecolor": "white",
            "showbackground": true,
            "ticks": "",
            "zerolinecolor": "white"
           },
           "yaxis": {
            "backgroundcolor": "#E5ECF6",
            "gridcolor": "white",
            "gridwidth": 2,
            "linecolor": "white",
            "showbackground": true,
            "ticks": "",
            "zerolinecolor": "white"
           },
           "zaxis": {
            "backgroundcolor": "#E5ECF6",
            "gridcolor": "white",
            "gridwidth": 2,
            "linecolor": "white",
            "showbackground": true,
            "ticks": "",
            "zerolinecolor": "white"
           }
          },
          "shapedefaults": {
           "line": {
            "color": "#2a3f5f"
           }
          },
          "ternary": {
           "aaxis": {
            "gridcolor": "white",
            "linecolor": "white",
            "ticks": ""
           },
           "baxis": {
            "gridcolor": "white",
            "linecolor": "white",
            "ticks": ""
           },
           "bgcolor": "#E5ECF6",
           "caxis": {
            "gridcolor": "white",
            "linecolor": "white",
            "ticks": ""
           }
          },
          "title": {
           "x": 0.05
          },
          "xaxis": {
           "automargin": true,
           "gridcolor": "white",
           "linecolor": "white",
           "ticks": "",
           "title": {
            "standoff": 15
           },
           "zerolinecolor": "white",
           "zerolinewidth": 2
          },
          "yaxis": {
           "automargin": true,
           "gridcolor": "white",
           "linecolor": "white",
           "ticks": "",
           "title": {
            "standoff": 15
           },
           "zerolinecolor": "white",
           "zerolinewidth": 2
          }
         }
        },
        "title": {
         "text": "Общая динамика посетителей/регистраций/заявок/игр"
        },
        "xaxis": {
         "title": {
          "text": "Дата"
         }
        },
        "yaxis": {
         "title": {
          "text": "Количество"
         }
        }
       }
      },
      "text/html": [
       "<div>                            <div id=\"a965e321-4100-4bae-b117-fba1b6a33db0\" class=\"plotly-graph-div\" style=\"height:525px; width:100%;\"></div>            <script type=\"text/javascript\">                require([\"plotly\"], function(Plotly) {                    window.PLOTLYENV=window.PLOTLYENV || {};                                    if (document.getElementById(\"a965e321-4100-4bae-b117-fba1b6a33db0\")) {                    Plotly.newPlot(                        \"a965e321-4100-4bae-b117-fba1b6a33db0\",                        [{\"mode\":\"lines\",\"name\":\"\\u041f\\u043e\\u0441\\u0435\\u0442\\u0438\\u043b\\u0438 \\u0441\\u0430\\u0439\\u0442\",\"x\":[\"2022-09-01\",\"2022-09-02\",\"2022-09-03\",\"2022-09-04\",\"2022-09-05\",\"2022-09-06\",\"2022-09-07\",\"2022-09-08\",\"2022-09-09\",\"2022-09-10\",\"2022-09-11\",\"2022-09-12\",\"2022-09-13\",\"2022-09-14\",\"2022-09-15\",\"2022-09-16\",\"2022-09-17\",\"2022-09-18\",\"2022-09-19\",\"2022-09-20\",\"2022-09-21\",\"2022-09-22\",\"2022-09-23\",\"2022-09-24\",\"2022-09-25\",\"2022-09-26\",\"2022-09-27\",\"2022-09-28\",\"2022-09-29\",\"2022-09-30\",\"2022-10-01\",\"2022-10-02\",\"2022-10-03\",\"2022-10-04\",\"2022-10-05\",\"2022-10-06\",\"2022-10-07\",\"2022-10-08\",\"2022-10-09\",\"2022-10-10\",\"2022-10-11\",\"2022-10-12\",\"2022-10-13\",\"2022-10-14\",\"2022-10-15\",\"2022-10-16\",\"2022-10-17\",\"2022-10-18\",\"2022-10-19\",\"2022-10-20\",\"2022-10-21\",\"2022-10-22\",\"2022-10-23\",\"2022-10-24\",\"2022-10-25\",\"2022-10-26\",\"2022-10-27\",\"2022-10-28\",\"2022-10-29\",\"2022-10-30\",\"2022-10-31\",\"2022-11-01\",\"2022-11-02\",\"2022-11-03\",\"2022-11-04\",\"2022-11-05\",\"2022-11-06\",\"2022-11-07\",\"2022-11-08\",\"2022-11-09\",\"2022-11-10\",\"2022-11-11\",\"2022-11-12\",\"2022-11-13\",\"2022-11-14\",\"2022-11-15\",\"2022-11-16\",\"2022-11-17\",\"2022-11-18\",\"2022-11-19\",\"2022-11-20\",\"2022-11-21\",\"2022-11-22\",\"2022-11-23\",\"2022-11-24\",\"2022-11-25\",\"2022-11-26\",\"2022-11-27\",\"2022-11-28\",\"2022-11-29\",\"2022-11-30\",\"2022-12-01\",\"2022-12-02\",\"2022-12-03\",\"2022-12-04\",\"2022-12-05\",\"2022-12-06\",\"2022-12-07\",\"2022-12-08\",\"2022-12-09\",\"2022-12-10\",\"2022-12-11\",\"2022-12-12\",\"2022-12-13\",\"2022-12-14\",\"2022-12-15\",\"2022-12-16\",\"2022-12-17\",\"2022-12-18\",\"2022-12-19\",\"2022-12-20\",\"2022-12-21\",\"2022-12-22\",\"2022-12-23\",\"2022-12-24\",\"2022-12-25\",\"2022-12-26\",\"2022-12-27\",\"2022-12-28\",\"2022-12-29\",\"2022-12-30\",\"2022-12-31\",\"2023-01-01\",\"2023-01-02\",\"2023-01-03\",\"2023-01-04\",\"2023-01-05\",\"2023-01-06\",\"2023-01-07\",\"2023-01-08\",\"2023-01-09\",\"2023-01-10\",\"2023-01-11\",\"2023-01-12\",\"2023-01-13\",\"2023-01-14\",\"2023-01-15\",\"2023-01-16\",\"2023-01-17\",\"2023-01-18\",\"2023-01-19\",\"2023-01-20\",\"2023-01-21\",\"2023-01-22\",\"2023-01-23\",\"2023-01-24\",\"2023-01-25\",\"2023-01-26\",\"2023-01-27\",\"2023-01-28\",\"2023-01-29\",\"2023-01-30\",\"2023-01-31\",\"2023-02-01\",\"2023-02-02\"],\"y\":[25.0,50.0,75.0,111.0,128.0,154.0,178.0,203.0,236.0,258.0,295.0,326.0,348.0,374.0,397.0,413.0,438.0,462.0,488.0,515.0,538.0,560.0,585.0,613.0,643.0,664.0,690.0,721.0,747.0,778.0,804.0,838.0,862.0,896.0,928.0,964.0,989.0,1013.0,1042.0,1066.0,1096.0,1137.0,1161.0,1184.0,1202.0,1232.0,1247.0,1277.0,1294.0,1323.0,1343.0,1376.0,1403.0,1427.0,1452.0,1476.0,1503.0,1536.0,1573.0,1592.0,1621.0,1652.0,1685.0,1709.0,1740.0,1764.0,1789.0,1809.0,1828.0,1858.0,1877.0,1907.0,1931.0,1962.0,1986.0,2010.0,2040.0,2067.0,2097.0,2116.0,2141.0,2169.0,2195.0,2218.0,2247.0,2269.0,2295.0,2321.0,2352.0,2383.0,2407.0,2426.0,2443.0,2474.0,2498.0,2518.0,2542.0,2572.0,2597.0,2624.0,2649.0,2666.0,2699.0,2728.0,2749.0,2778.0,2805.0,2830.0,2862.0,2889.0,2918.0,2939.0,2964.0,2994.0,3024.0,3054.0,3079.0,3110.0,3135.0,3155.0,3185.0,3212.0,3246.0,3270.0,3297.0,3322.0,3346.0,3382.0,3415.0,3447.0,3470.0,3494.0,3524.0,3550.0,3584.0,3618.0,3652.0,3676.0,3699.0,3723.0,3753.0,3779.0,3802.0,3833.0,3862.0,3889.0,3914.0,3941.0,3965.0,3990.0,4015.0,4044.0,4064.0,4091.0,4096.0],\"type\":\"scatter\",\"hoverinfo\":\"all\",\"hovertemplate\":\"\\u0414\\u0430\\u0442\\u0430: %{x}<br>\\u041a\\u043e\\u043b\\u0438\\u0447\\u0435\\u0441\\u0442\\u0432\\u043e: %{y}\"},{\"mode\":\"lines\",\"name\":\"\\u0417\\u0430\\u0440\\u0435\\u0433\\u0438\\u0441\\u0442\\u0440\\u0438\\u0440\\u043e\\u0432\\u0430\\u043b\\u0438 \\u0430\\u043a\\u043a\\u0430\\u0443\\u043d\\u0442\",\"x\":[\"2022-09-01\",\"2022-09-02\",\"2022-09-03\",\"2022-09-04\",\"2022-09-05\",\"2022-09-06\",\"2022-09-07\",\"2022-09-08\",\"2022-09-09\",\"2022-09-10\",\"2022-09-11\",\"2022-09-12\",\"2022-09-13\",\"2022-09-14\",\"2022-09-15\",\"2022-09-16\",\"2022-09-17\",\"2022-09-18\",\"2022-09-19\",\"2022-09-20\",\"2022-09-21\",\"2022-09-22\",\"2022-09-23\",\"2022-09-24\",\"2022-09-25\",\"2022-09-26\",\"2022-09-27\",\"2022-09-28\",\"2022-09-29\",\"2022-09-30\",\"2022-10-01\",\"2022-10-02\",\"2022-10-03\",\"2022-10-04\",\"2022-10-05\",\"2022-10-06\",\"2022-10-07\",\"2022-10-08\",\"2022-10-09\",\"2022-10-10\",\"2022-10-11\",\"2022-10-12\",\"2022-10-13\",\"2022-10-14\",\"2022-10-15\",\"2022-10-16\",\"2022-10-17\",\"2022-10-18\",\"2022-10-19\",\"2022-10-20\",\"2022-10-21\",\"2022-10-22\",\"2022-10-23\",\"2022-10-24\",\"2022-10-25\",\"2022-10-26\",\"2022-10-27\",\"2022-10-28\",\"2022-10-29\",\"2022-10-30\",\"2022-10-31\",\"2022-11-01\",\"2022-11-02\",\"2022-11-03\",\"2022-11-04\",\"2022-11-05\",\"2022-11-06\",\"2022-11-07\",\"2022-11-08\",\"2022-11-09\",\"2022-11-10\",\"2022-11-11\",\"2022-11-12\",\"2022-11-13\",\"2022-11-14\",\"2022-11-15\",\"2022-11-16\",\"2022-11-17\",\"2022-11-18\",\"2022-11-19\",\"2022-11-20\",\"2022-11-21\",\"2022-11-22\",\"2022-11-23\",\"2022-11-24\",\"2022-11-25\",\"2022-11-26\",\"2022-11-27\",\"2022-11-28\",\"2022-11-29\",\"2022-11-30\",\"2022-12-01\",\"2022-12-02\",\"2022-12-03\",\"2022-12-04\",\"2022-12-05\",\"2022-12-06\",\"2022-12-07\",\"2022-12-08\",\"2022-12-09\",\"2022-12-10\",\"2022-12-11\",\"2022-12-12\",\"2022-12-13\",\"2022-12-14\",\"2022-12-15\",\"2022-12-16\",\"2022-12-17\",\"2022-12-18\",\"2022-12-19\",\"2022-12-20\",\"2022-12-21\",\"2022-12-22\",\"2022-12-23\",\"2022-12-24\",\"2022-12-25\",\"2022-12-26\",\"2022-12-27\",\"2022-12-28\",\"2022-12-29\",\"2022-12-30\",\"2022-12-31\",\"2023-01-01\",\"2023-01-02\",\"2023-01-03\",\"2023-01-04\",\"2023-01-05\",\"2023-01-06\",\"2023-01-07\",\"2023-01-08\",\"2023-01-09\",\"2023-01-10\",\"2023-01-11\",\"2023-01-12\",\"2023-01-13\",\"2023-01-14\",\"2023-01-15\",\"2023-01-16\",\"2023-01-17\",\"2023-01-18\",\"2023-01-19\",\"2023-01-20\",\"2023-01-21\",\"2023-01-22\",\"2023-01-23\",\"2023-01-24\",\"2023-01-25\",\"2023-01-26\",\"2023-01-27\",\"2023-01-28\",\"2023-01-29\",\"2023-01-30\",\"2023-01-31\",\"2023-02-01\",\"2023-02-02\"],\"y\":[3.0,6.0,16.0,22.0,33.0,42.0,46.0,49.0,49.0,54.0,60.0,69.0,75.0,83.0,89.0,92.0,99.0,102.0,111.0,115.0,121.0,127.0,134.0,140.0,148.0,153.0,159.0,174.0,179.0,186.0,195.0,204.0,217.0,226.0,230.0,240.0,248.0,256.0,263.0,271.0,275.0,282.0,287.0,295.0,300.0,309.0,314.0,318.0,324.0,331.0,334.0,339.0,351.0,357.0,366.0,371.0,374.0,379.0,391.0,399.0,405.0,411.0,416.0,423.0,428.0,438.0,445.0,451.0,457.0,463.0,474.0,477.0,485.0,488.0,494.0,499.0,505.0,511.0,518.0,521.0,524.0,531.0,544.0,552.0,560.0,567.0,571.0,576.0,583.0,590.0,600.0,609.0,611.0,616.0,621.0,624.0,629.0,639.0,650.0,656.0,662.0,665.0,670.0,680.0,682.0,694.0,703.0,709.0,717.0,724.0,731.0,738.0,743.0,750.0,755.0,763.0,769.0,771.0,779.0,787.0,792.0,800.0,807.0,813.0,820.0,830.0,833.0,840.0,851.0,862.0,873.0,880.0,888.0,893.0,902.0,907.0,916.0,922.0,924.0,925.0,930.0,939.0,949.0,958.0,963.0,967.0,973.0,982.0,986.0,992.0,998.0,1008.0,1015.0,1021.0,1024.0],\"type\":\"scatter\",\"hoverinfo\":\"all\",\"hovertemplate\":\"\\u0414\\u0430\\u0442\\u0430: %{x}<br>\\u041a\\u043e\\u043b\\u0438\\u0447\\u0435\\u0441\\u0442\\u0432\\u043e: %{y}\"},{\"mode\":\"lines\",\"name\":\"\\u041e\\u0441\\u0442\\u0430\\u0432\\u0438\\u043b\\u0438 \\u0437\\u0430\\u044f\\u0432\\u043a\\u0443\",\"x\":[\"2022-09-01\",\"2022-09-02\",\"2022-09-03\",\"2022-09-04\",\"2022-09-05\",\"2022-09-06\",\"2022-09-07\",\"2022-09-08\",\"2022-09-09\",\"2022-09-10\",\"2022-09-11\",\"2022-09-12\",\"2022-09-13\",\"2022-09-14\",\"2022-09-15\",\"2022-09-16\",\"2022-09-17\",\"2022-09-18\",\"2022-09-19\",\"2022-09-20\",\"2022-09-21\",\"2022-09-22\",\"2022-09-23\",\"2022-09-24\",\"2022-09-25\",\"2022-09-26\",\"2022-09-27\",\"2022-09-28\",\"2022-09-29\",\"2022-09-30\",\"2022-10-01\",\"2022-10-02\",\"2022-10-03\",\"2022-10-04\",\"2022-10-05\",\"2022-10-06\",\"2022-10-07\",\"2022-10-08\",\"2022-10-09\",\"2022-10-10\",\"2022-10-11\",\"2022-10-12\",\"2022-10-13\",\"2022-10-14\",\"2022-10-15\",\"2022-10-16\",\"2022-10-17\",\"2022-10-18\",\"2022-10-19\",\"2022-10-20\",\"2022-10-21\",\"2022-10-22\",\"2022-10-23\",\"2022-10-24\",\"2022-10-25\",\"2022-10-26\",\"2022-10-27\",\"2022-10-28\",\"2022-10-29\",\"2022-10-30\",\"2022-10-31\",\"2022-11-01\",\"2022-11-02\",\"2022-11-03\",\"2022-11-04\",\"2022-11-05\",\"2022-11-06\",\"2022-11-07\",\"2022-11-08\",\"2022-11-09\",\"2022-11-10\",\"2022-11-11\",\"2022-11-12\",\"2022-11-13\",\"2022-11-14\",\"2022-11-15\",\"2022-11-16\",\"2022-11-17\",\"2022-11-18\",\"2022-11-19\",\"2022-11-20\",\"2022-11-21\",\"2022-11-22\",\"2022-11-23\",\"2022-11-24\",\"2022-11-25\",\"2022-11-26\",\"2022-11-27\",\"2022-11-28\",\"2022-11-29\",\"2022-11-30\",\"2022-12-01\",\"2022-12-02\",\"2022-12-03\",\"2022-12-04\",\"2022-12-05\",\"2022-12-06\",\"2022-12-07\",\"2022-12-08\",\"2022-12-09\",\"2022-12-10\",\"2022-12-11\",\"2022-12-12\",\"2022-12-13\",\"2022-12-14\",\"2022-12-15\",\"2022-12-16\",\"2022-12-17\",\"2022-12-18\",\"2022-12-19\",\"2022-12-20\",\"2022-12-21\",\"2022-12-22\",\"2022-12-23\",\"2022-12-24\",\"2022-12-25\",\"2022-12-26\",\"2022-12-27\",\"2022-12-28\",\"2022-12-29\",\"2022-12-30\",\"2022-12-31\",\"2023-01-01\",\"2023-01-02\",\"2023-01-03\",\"2023-01-04\",\"2023-01-05\",\"2023-01-06\",\"2023-01-07\",\"2023-01-08\",\"2023-01-09\",\"2023-01-10\",\"2023-01-11\",\"2023-01-12\",\"2023-01-13\",\"2023-01-14\",\"2023-01-15\",\"2023-01-16\",\"2023-01-17\",\"2023-01-18\",\"2023-01-19\",\"2023-01-20\",\"2023-01-21\",\"2023-01-22\",\"2023-01-23\",\"2023-01-24\",\"2023-01-25\",\"2023-01-26\",\"2023-01-27\",\"2023-01-28\",\"2023-01-29\",\"2023-01-30\",\"2023-01-31\",\"2023-02-01\",\"2023-02-02\"],\"y\":[null,null,null,null,1.0,3.0,5.0,5.0,5.0,7.0,7.0,9.0,12.0,14.0,15.0,20.0,22.0,24.0,26.0,29.0,30.0,33.0,38.0,44.0,48.0,53.0,53.0,57.0,59.0,63.0,65.0,66.0,70.0,75.0,78.0,87.0,89.0,94.0,99.0,105.0,108.0,110.0,116.0,119.0,121.0,127.0,134.0,136.0,137.0,142.0,145.0,147.0,151.0,153.0,158.0,160.0,160.0,163.0,164.0,169.0,172.0,175.0,179.0,185.0,187.0,189.0,194.0,198.0,201.0,205.0,211.0,216.0,220.0,224.0,228.0,229.0,231.0,233.0,243.0,246.0,249.0,250.0,252.0,254.0,258.0,265.0,266.0,268.0,272.0,275.0,279.0,281.0,287.0,288.0,290.0,291.0,295.0,295.0,297.0,301.0,306.0,310.0,312.0,315.0,319.0,321.0,323.0,326.0,329.0,330.0,336.0,340.0,344.0,348.0,352.0,357.0,361.0,363.0,364.0,367.0,371.0,376.0,381.0,384.0,384.0,388.0,390.0,395.0,401.0,405.0,409.0,410.0,414.0,416.0,420.0,424.0,428.0,436.0,438.0,439.0,444.0,452.0,461.0,468.0,473.0,478.0,483.0,487.0,492.0,500.0,501.0,507.0,509.0,512.0,512.0],\"type\":\"scatter\",\"hoverinfo\":\"all\",\"hovertemplate\":\"\\u0414\\u0430\\u0442\\u0430: %{x}<br>\\u041a\\u043e\\u043b\\u0438\\u0447\\u0435\\u0441\\u0442\\u0432\\u043e: %{y}\"},{\"mode\":\"lines\",\"name\":\"\\u041f\\u0440\\u0438\\u0448\\u043b\\u0438 \\u043d\\u0430 \\u0438\\u0433\\u0440\\u0443\",\"x\":[\"2022-09-01\",\"2022-09-02\",\"2022-09-03\",\"2022-09-04\",\"2022-09-05\",\"2022-09-06\",\"2022-09-07\",\"2022-09-08\",\"2022-09-09\",\"2022-09-10\",\"2022-09-11\",\"2022-09-12\",\"2022-09-13\",\"2022-09-14\",\"2022-09-15\",\"2022-09-16\",\"2022-09-17\",\"2022-09-18\",\"2022-09-19\",\"2022-09-20\",\"2022-09-21\",\"2022-09-22\",\"2022-09-23\",\"2022-09-24\",\"2022-09-25\",\"2022-09-26\",\"2022-09-27\",\"2022-09-28\",\"2022-09-29\",\"2022-09-30\",\"2022-10-01\",\"2022-10-02\",\"2022-10-03\",\"2022-10-04\",\"2022-10-05\",\"2022-10-06\",\"2022-10-07\",\"2022-10-08\",\"2022-10-09\",\"2022-10-10\",\"2022-10-11\",\"2022-10-12\",\"2022-10-13\",\"2022-10-14\",\"2022-10-15\",\"2022-10-16\",\"2022-10-17\",\"2022-10-18\",\"2022-10-19\",\"2022-10-20\",\"2022-10-21\",\"2022-10-22\",\"2022-10-23\",\"2022-10-24\",\"2022-10-25\",\"2022-10-26\",\"2022-10-27\",\"2022-10-28\",\"2022-10-29\",\"2022-10-30\",\"2022-10-31\",\"2022-11-01\",\"2022-11-02\",\"2022-11-03\",\"2022-11-04\",\"2022-11-05\",\"2022-11-06\",\"2022-11-07\",\"2022-11-08\",\"2022-11-09\",\"2022-11-10\",\"2022-11-11\",\"2022-11-12\",\"2022-11-13\",\"2022-11-14\",\"2022-11-15\",\"2022-11-16\",\"2022-11-17\",\"2022-11-18\",\"2022-11-19\",\"2022-11-20\",\"2022-11-21\",\"2022-11-22\",\"2022-11-23\",\"2022-11-24\",\"2022-11-25\",\"2022-11-26\",\"2022-11-27\",\"2022-11-28\",\"2022-11-29\",\"2022-11-30\",\"2022-12-01\",\"2022-12-02\",\"2022-12-03\",\"2022-12-04\",\"2022-12-05\",\"2022-12-06\",\"2022-12-07\",\"2022-12-08\",\"2022-12-09\",\"2022-12-10\",\"2022-12-11\",\"2022-12-12\",\"2022-12-13\",\"2022-12-14\",\"2022-12-15\",\"2022-12-16\",\"2022-12-17\",\"2022-12-18\",\"2022-12-19\",\"2022-12-20\",\"2022-12-21\",\"2022-12-22\",\"2022-12-23\",\"2022-12-24\",\"2022-12-25\",\"2022-12-26\",\"2022-12-27\",\"2022-12-28\",\"2022-12-29\",\"2022-12-30\",\"2022-12-31\",\"2023-01-01\",\"2023-01-02\",\"2023-01-03\",\"2023-01-04\",\"2023-01-05\",\"2023-01-06\",\"2023-01-07\",\"2023-01-08\",\"2023-01-09\",\"2023-01-10\",\"2023-01-11\",\"2023-01-12\",\"2023-01-13\",\"2023-01-14\",\"2023-01-15\",\"2023-01-16\",\"2023-01-17\",\"2023-01-18\",\"2023-01-19\",\"2023-01-20\",\"2023-01-21\",\"2023-01-22\",\"2023-01-23\",\"2023-01-24\",\"2023-01-25\",\"2023-01-26\",\"2023-01-27\",\"2023-01-28\",\"2023-01-29\",\"2023-01-30\",\"2023-01-31\",\"2023-02-01\",\"2023-02-02\"],\"y\":[null,null,null,null,null,null,null,null,null,null,null,null,null,null,null,1.0,1.0,1.0,1.0,1.0,1.0,1.0,1.0,1.0,2.0,2.0,2.0,2.0,2.0,2.0,2.0,3.0,3.0,3.0,4.0,5.0,5.0,6.0,8.0,8.0,8.0,8.0,10.0,10.0,10.0,11.0,11.0,14.0,15.0,15.0,16.0,16.0,16.0,17.0,21.0,21.0,22.0,22.0,23.0,23.0,23.0,26.0,27.0,28.0,29.0,30.0,31.0,31.0,32.0,33.0,36.0,38.0,40.0,41.0,43.0,44.0,45.0,46.0,46.0,47.0,48.0,50.0,52.0,54.0,56.0,60.0,62.0,62.0,64.0,65.0,66.0,68.0,69.0,71.0,72.0,75.0,79.0,82.0,82.0,83.0,83.0,85.0,87.0,88.0,90.0,91.0,92.0,93.0,96.0,97.0,97.0,99.0,101.0,102.0,103.0,103.0,105.0,106.0,106.0,108.0,111.0,113.0,114.0,117.0,121.0,124.0,127.0,127.0,128.0,130.0,132.0,132.0,132.0,132.0,132.0,136.0,138.0,138.0,139.0,141.0,142.0,144.0,150.0,153.0,154.0,156.0,157.0,162.0,167.0,169.0,170.0,172.0,176.0,179.0,179.0],\"type\":\"scatter\",\"hoverinfo\":\"all\",\"hovertemplate\":\"\\u0414\\u0430\\u0442\\u0430: %{x}<br>\\u041a\\u043e\\u043b\\u0438\\u0447\\u0435\\u0441\\u0442\\u0432\\u043e: %{y}\"}],                        {\"template\":{\"data\":{\"bar\":[{\"error_x\":{\"color\":\"#2a3f5f\"},\"error_y\":{\"color\":\"#2a3f5f\"},\"marker\":{\"line\":{\"color\":\"#E5ECF6\",\"width\":0.5},\"pattern\":{\"fillmode\":\"overlay\",\"size\":10,\"solidity\":0.2}},\"type\":\"bar\"}],\"barpolar\":[{\"marker\":{\"line\":{\"color\":\"#E5ECF6\",\"width\":0.5},\"pattern\":{\"fillmode\":\"overlay\",\"size\":10,\"solidity\":0.2}},\"type\":\"barpolar\"}],\"carpet\":[{\"aaxis\":{\"endlinecolor\":\"#2a3f5f\",\"gridcolor\":\"white\",\"linecolor\":\"white\",\"minorgridcolor\":\"white\",\"startlinecolor\":\"#2a3f5f\"},\"baxis\":{\"endlinecolor\":\"#2a3f5f\",\"gridcolor\":\"white\",\"linecolor\":\"white\",\"minorgridcolor\":\"white\",\"startlinecolor\":\"#2a3f5f\"},\"type\":\"carpet\"}],\"choropleth\":[{\"colorbar\":{\"outlinewidth\":0,\"ticks\":\"\"},\"type\":\"choropleth\"}],\"contour\":[{\"colorbar\":{\"outlinewidth\":0,\"ticks\":\"\"},\"colorscale\":[[0.0,\"#0d0887\"],[0.1111111111111111,\"#46039f\"],[0.2222222222222222,\"#7201a8\"],[0.3333333333333333,\"#9c179e\"],[0.4444444444444444,\"#bd3786\"],[0.5555555555555556,\"#d8576b\"],[0.6666666666666666,\"#ed7953\"],[0.7777777777777778,\"#fb9f3a\"],[0.8888888888888888,\"#fdca26\"],[1.0,\"#f0f921\"]],\"type\":\"contour\"}],\"contourcarpet\":[{\"colorbar\":{\"outlinewidth\":0,\"ticks\":\"\"},\"type\":\"contourcarpet\"}],\"heatmap\":[{\"colorbar\":{\"outlinewidth\":0,\"ticks\":\"\"},\"colorscale\":[[0.0,\"#0d0887\"],[0.1111111111111111,\"#46039f\"],[0.2222222222222222,\"#7201a8\"],[0.3333333333333333,\"#9c179e\"],[0.4444444444444444,\"#bd3786\"],[0.5555555555555556,\"#d8576b\"],[0.6666666666666666,\"#ed7953\"],[0.7777777777777778,\"#fb9f3a\"],[0.8888888888888888,\"#fdca26\"],[1.0,\"#f0f921\"]],\"type\":\"heatmap\"}],\"heatmapgl\":[{\"colorbar\":{\"outlinewidth\":0,\"ticks\":\"\"},\"colorscale\":[[0.0,\"#0d0887\"],[0.1111111111111111,\"#46039f\"],[0.2222222222222222,\"#7201a8\"],[0.3333333333333333,\"#9c179e\"],[0.4444444444444444,\"#bd3786\"],[0.5555555555555556,\"#d8576b\"],[0.6666666666666666,\"#ed7953\"],[0.7777777777777778,\"#fb9f3a\"],[0.8888888888888888,\"#fdca26\"],[1.0,\"#f0f921\"]],\"type\":\"heatmapgl\"}],\"histogram\":[{\"marker\":{\"pattern\":{\"fillmode\":\"overlay\",\"size\":10,\"solidity\":0.2}},\"type\":\"histogram\"}],\"histogram2d\":[{\"colorbar\":{\"outlinewidth\":0,\"ticks\":\"\"},\"colorscale\":[[0.0,\"#0d0887\"],[0.1111111111111111,\"#46039f\"],[0.2222222222222222,\"#7201a8\"],[0.3333333333333333,\"#9c179e\"],[0.4444444444444444,\"#bd3786\"],[0.5555555555555556,\"#d8576b\"],[0.6666666666666666,\"#ed7953\"],[0.7777777777777778,\"#fb9f3a\"],[0.8888888888888888,\"#fdca26\"],[1.0,\"#f0f921\"]],\"type\":\"histogram2d\"}],\"histogram2dcontour\":[{\"colorbar\":{\"outlinewidth\":0,\"ticks\":\"\"},\"colorscale\":[[0.0,\"#0d0887\"],[0.1111111111111111,\"#46039f\"],[0.2222222222222222,\"#7201a8\"],[0.3333333333333333,\"#9c179e\"],[0.4444444444444444,\"#bd3786\"],[0.5555555555555556,\"#d8576b\"],[0.6666666666666666,\"#ed7953\"],[0.7777777777777778,\"#fb9f3a\"],[0.8888888888888888,\"#fdca26\"],[1.0,\"#f0f921\"]],\"type\":\"histogram2dcontour\"}],\"mesh3d\":[{\"colorbar\":{\"outlinewidth\":0,\"ticks\":\"\"},\"type\":\"mesh3d\"}],\"parcoords\":[{\"line\":{\"colorbar\":{\"outlinewidth\":0,\"ticks\":\"\"}},\"type\":\"parcoords\"}],\"pie\":[{\"automargin\":true,\"type\":\"pie\"}],\"scatter\":[{\"marker\":{\"colorbar\":{\"outlinewidth\":0,\"ticks\":\"\"}},\"type\":\"scatter\"}],\"scatter3d\":[{\"line\":{\"colorbar\":{\"outlinewidth\":0,\"ticks\":\"\"}},\"marker\":{\"colorbar\":{\"outlinewidth\":0,\"ticks\":\"\"}},\"type\":\"scatter3d\"}],\"scattercarpet\":[{\"marker\":{\"colorbar\":{\"outlinewidth\":0,\"ticks\":\"\"}},\"type\":\"scattercarpet\"}],\"scattergeo\":[{\"marker\":{\"colorbar\":{\"outlinewidth\":0,\"ticks\":\"\"}},\"type\":\"scattergeo\"}],\"scattergl\":[{\"marker\":{\"colorbar\":{\"outlinewidth\":0,\"ticks\":\"\"}},\"type\":\"scattergl\"}],\"scattermapbox\":[{\"marker\":{\"colorbar\":{\"outlinewidth\":0,\"ticks\":\"\"}},\"type\":\"scattermapbox\"}],\"scatterpolar\":[{\"marker\":{\"colorbar\":{\"outlinewidth\":0,\"ticks\":\"\"}},\"type\":\"scatterpolar\"}],\"scatterpolargl\":[{\"marker\":{\"colorbar\":{\"outlinewidth\":0,\"ticks\":\"\"}},\"type\":\"scatterpolargl\"}],\"scatterternary\":[{\"marker\":{\"colorbar\":{\"outlinewidth\":0,\"ticks\":\"\"}},\"type\":\"scatterternary\"}],\"surface\":[{\"colorbar\":{\"outlinewidth\":0,\"ticks\":\"\"},\"colorscale\":[[0.0,\"#0d0887\"],[0.1111111111111111,\"#46039f\"],[0.2222222222222222,\"#7201a8\"],[0.3333333333333333,\"#9c179e\"],[0.4444444444444444,\"#bd3786\"],[0.5555555555555556,\"#d8576b\"],[0.6666666666666666,\"#ed7953\"],[0.7777777777777778,\"#fb9f3a\"],[0.8888888888888888,\"#fdca26\"],[1.0,\"#f0f921\"]],\"type\":\"surface\"}],\"table\":[{\"cells\":{\"fill\":{\"color\":\"#EBF0F8\"},\"line\":{\"color\":\"white\"}},\"header\":{\"fill\":{\"color\":\"#C8D4E3\"},\"line\":{\"color\":\"white\"}},\"type\":\"table\"}]},\"layout\":{\"annotationdefaults\":{\"arrowcolor\":\"#2a3f5f\",\"arrowhead\":0,\"arrowwidth\":1},\"autotypenumbers\":\"strict\",\"coloraxis\":{\"colorbar\":{\"outlinewidth\":0,\"ticks\":\"\"}},\"colorscale\":{\"diverging\":[[0,\"#8e0152\"],[0.1,\"#c51b7d\"],[0.2,\"#de77ae\"],[0.3,\"#f1b6da\"],[0.4,\"#fde0ef\"],[0.5,\"#f7f7f7\"],[0.6,\"#e6f5d0\"],[0.7,\"#b8e186\"],[0.8,\"#7fbc41\"],[0.9,\"#4d9221\"],[1,\"#276419\"]],\"sequential\":[[0.0,\"#0d0887\"],[0.1111111111111111,\"#46039f\"],[0.2222222222222222,\"#7201a8\"],[0.3333333333333333,\"#9c179e\"],[0.4444444444444444,\"#bd3786\"],[0.5555555555555556,\"#d8576b\"],[0.6666666666666666,\"#ed7953\"],[0.7777777777777778,\"#fb9f3a\"],[0.8888888888888888,\"#fdca26\"],[1.0,\"#f0f921\"]],\"sequentialminus\":[[0.0,\"#0d0887\"],[0.1111111111111111,\"#46039f\"],[0.2222222222222222,\"#7201a8\"],[0.3333333333333333,\"#9c179e\"],[0.4444444444444444,\"#bd3786\"],[0.5555555555555556,\"#d8576b\"],[0.6666666666666666,\"#ed7953\"],[0.7777777777777778,\"#fb9f3a\"],[0.8888888888888888,\"#fdca26\"],[1.0,\"#f0f921\"]]},\"colorway\":[\"#636efa\",\"#EF553B\",\"#00cc96\",\"#ab63fa\",\"#FFA15A\",\"#19d3f3\",\"#FF6692\",\"#B6E880\",\"#FF97FF\",\"#FECB52\"],\"font\":{\"color\":\"#2a3f5f\"},\"geo\":{\"bgcolor\":\"white\",\"lakecolor\":\"white\",\"landcolor\":\"#E5ECF6\",\"showlakes\":true,\"showland\":true,\"subunitcolor\":\"white\"},\"hoverlabel\":{\"align\":\"left\"},\"hovermode\":\"closest\",\"mapbox\":{\"style\":\"light\"},\"paper_bgcolor\":\"white\",\"plot_bgcolor\":\"#E5ECF6\",\"polar\":{\"angularaxis\":{\"gridcolor\":\"white\",\"linecolor\":\"white\",\"ticks\":\"\"},\"bgcolor\":\"#E5ECF6\",\"radialaxis\":{\"gridcolor\":\"white\",\"linecolor\":\"white\",\"ticks\":\"\"}},\"scene\":{\"xaxis\":{\"backgroundcolor\":\"#E5ECF6\",\"gridcolor\":\"white\",\"gridwidth\":2,\"linecolor\":\"white\",\"showbackground\":true,\"ticks\":\"\",\"zerolinecolor\":\"white\"},\"yaxis\":{\"backgroundcolor\":\"#E5ECF6\",\"gridcolor\":\"white\",\"gridwidth\":2,\"linecolor\":\"white\",\"showbackground\":true,\"ticks\":\"\",\"zerolinecolor\":\"white\"},\"zaxis\":{\"backgroundcolor\":\"#E5ECF6\",\"gridcolor\":\"white\",\"gridwidth\":2,\"linecolor\":\"white\",\"showbackground\":true,\"ticks\":\"\",\"zerolinecolor\":\"white\"}},\"shapedefaults\":{\"line\":{\"color\":\"#2a3f5f\"}},\"ternary\":{\"aaxis\":{\"gridcolor\":\"white\",\"linecolor\":\"white\",\"ticks\":\"\"},\"baxis\":{\"gridcolor\":\"white\",\"linecolor\":\"white\",\"ticks\":\"\"},\"bgcolor\":\"#E5ECF6\",\"caxis\":{\"gridcolor\":\"white\",\"linecolor\":\"white\",\"ticks\":\"\"}},\"title\":{\"x\":0.05},\"xaxis\":{\"automargin\":true,\"gridcolor\":\"white\",\"linecolor\":\"white\",\"ticks\":\"\",\"title\":{\"standoff\":15},\"zerolinecolor\":\"white\",\"zerolinewidth\":2},\"yaxis\":{\"automargin\":true,\"gridcolor\":\"white\",\"linecolor\":\"white\",\"ticks\":\"\",\"title\":{\"standoff\":15},\"zerolinecolor\":\"white\",\"zerolinewidth\":2}}},\"legend\":{\"orientation\":\"h\",\"x\":0.5,\"xanchor\":\"center\"},\"margin\":{\"l\":0,\"r\":0,\"t\":50,\"b\":0},\"title\":{\"text\":\"\\u041e\\u0431\\u0449\\u0430\\u044f \\u0434\\u0438\\u043d\\u0430\\u043c\\u0438\\u043a\\u0430 \\u043f\\u043e\\u0441\\u0435\\u0442\\u0438\\u0442\\u0435\\u043b\\u0435\\u0439/\\u0440\\u0435\\u0433\\u0438\\u0441\\u0442\\u0440\\u0430\\u0446\\u0438\\u0439/\\u0437\\u0430\\u044f\\u0432\\u043e\\u043a/\\u0438\\u0433\\u0440\"},\"xaxis\":{\"title\":{\"text\":\"\\u0414\\u0430\\u0442\\u0430\"}},\"yaxis\":{\"title\":{\"text\":\"\\u041a\\u043e\\u043b\\u0438\\u0447\\u0435\\u0441\\u0442\\u0432\\u043e\"}},\"hovermode\":\"x\"},                        {\"responsive\": true}                    ).then(function(){\n",
       "                            \n",
       "var gd = document.getElementById('a965e321-4100-4bae-b117-fba1b6a33db0');\n",
       "var x = new MutationObserver(function (mutations, observer) {{\n",
       "        var display = window.getComputedStyle(gd).display;\n",
       "        if (!display || display === 'none') {{\n",
       "            console.log([gd, 'removed!']);\n",
       "            Plotly.purge(gd);\n",
       "            observer.disconnect();\n",
       "        }}\n",
       "}});\n",
       "\n",
       "// Listen for the removal of the full notebook cells\n",
       "var notebookContainer = gd.closest('#notebook-container');\n",
       "if (notebookContainer) {{\n",
       "    x.observe(notebookContainer, {childList: true});\n",
       "}}\n",
       "\n",
       "// Listen for the clearing of the current output cell\n",
       "var outputEl = gd.closest('.output');\n",
       "if (outputEl) {{\n",
       "    x.observe(outputEl, {childList: true});\n",
       "}}\n",
       "\n",
       "                        })                };                });            </script>        </div>"
      ]
     },
     "metadata": {},
     "output_type": "display_data"
    }
   ],
   "source": [
    "fig = go.Figure()\n",
    "fig.add_trace(go.Scatter(x=df['date'], y=df['visits_total_by_date'],mode='lines',  name='Посетили сайт'))\n",
    "fig.add_trace(go.Scatter(x=df['date'], y=df['account_created_total_by_date'],mode='lines', name='Зарегистрировали аккаунт'))\n",
    "fig.add_trace(go.Scatter(x=df['date'], y=df['application_created_total_by_date'],mode='lines', name='Оставили заявку'))\n",
    "fig.add_trace(go.Scatter(x=df['date'], y=df['games_total_by_date'],mode='lines', name='Пришли на игру'))\n",
    "fig.update_layout(title=\"Общая динамика посетителей/регистраций/заявок/игр\",\n",
    "                  xaxis_title=\"Дата\",\n",
    "                  yaxis_title=\"Количество\",\n",
    "                  legend_orientation=\"h\",\n",
    "                  legend=dict(x=.5, xanchor=\"center\"),\n",
    "                  hovermode=\"x\",\n",
    "                  margin=dict(l=0, r=0, t=50, b=0))\n",
    "fig.update_traces(hoverinfo=\"all\", hovertemplate=\"Дата: %{x}<br>Количество: %{y}\")\n",
    "fig.show()"
   ]
  },
  {
   "cell_type": "markdown",
   "id": "8ca2889b",
   "metadata": {},
   "source": [
    "### По графику может показаться, что разрыв между посетившими наш сайт и посетившими игру с каждым месяцем увеличивается, но если посчитать, то получим следующие данные:\n",
    "- Первый месяц (1 октября):\n",
    "    - Посетителей - 804 (100%)\n",
    "    - Зарегистрированных аккаунтов - 195 (24%)\n",
    "    - Оставивших заявку на квест - 65 (8%)\n",
    "    - Посетивших игру - 2 (0.24%)\n",
    "    \n",
    "- Середина ноября (15 ноября):\n",
    "    - Посетителей - 804 (100%)\n",
    "    - Зарегистрированных аккаунтов - 499 (24,8%)\n",
    "    - Оставивших заявку на квест - 229 (11,39%)\n",
    "    - Посетивших игру - 44 (2,19%)\n",
    "    \n",
    "- Итоговые данные (2 февраля):\n",
    "    - Посетителей - 4096 (100%)\n",
    "    - Зарегистрированных аккаунтов - 1024 (25%)\n",
    "    - Оставивших заявку на квест - 512 (12,5%)\n",
    "    - Посетивших игру - 179 (4,37%)\n",
    "    \n",
    "### Таким образом, у нас с каждым месяцем увеличиваются показатели, что говорит об успешности наших квестов, но имея эти данные, мы можем подумать над тем как увеличить процент регистраций,заявок и посещений игр.\n"
   ]
  },
  {
   "cell_type": "code",
   "execution_count": null,
   "id": "f05fae21",
   "metadata": {},
   "outputs": [],
   "source": []
  },
  {
   "cell_type": "markdown",
   "id": "a7fad748",
   "metadata": {},
   "source": [
    "## Если вам нравятся дашборды в PowerBI и есть желание понажимать на фильтры и посмотреть как будут вести себя данные, то переходите по ссылке \n",
    "\n",
    "### [Ссылка](https://app.powerbi.com/view?r=eyJrIjoiMmVkMDIxYzUtMGY2MS00ZDcwLWFmY2EtZTI3ZTU4YTQ5ZmMxIiwidCI6IjhiYzM0YTk5LTYzMWMtNDhlMi04NjM4LTRiMzg0YmFmOTI3MCIsImMiOjl9)"
   ]
  }
 ],
 "metadata": {
  "kernelspec": {
   "display_name": "Python 3 (ipykernel)",
   "language": "python",
   "name": "python3"
  },
  "language_info": {
   "codemirror_mode": {
    "name": "ipython",
    "version": 3
   },
   "file_extension": ".py",
   "mimetype": "text/x-python",
   "name": "python",
   "nbconvert_exporter": "python",
   "pygments_lexer": "ipython3",
   "version": "3.9.12"
  }
 },
 "nbformat": 4,
 "nbformat_minor": 5
}
